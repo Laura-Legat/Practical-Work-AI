{
 "cells": [
  {
   "cell_type": "code",
   "execution_count": 1,
   "metadata": {},
   "outputs": [],
   "source": [
    "# installs necessary libraries\n",
    "\n",
    "#!pip install pandas"
   ]
  },
  {
   "cell_type": "code",
   "execution_count": 2,
   "metadata": {},
   "outputs": [],
   "source": [
    "# necessary imports for notebook to run\n",
    "import pandas as pd\n",
    "import matplotlib.pyplot as plt\n",
    "import seaborn as sns"
   ]
  },
  {
   "cell_type": "code",
   "execution_count": 3,
   "metadata": {},
   "outputs": [],
   "source": [
    "paths = ['./data/new_release_stream.csv',\n",
    "         './data/processed.csv',\n",
    "         './data/sessionized.csv',\n",
    "         './data/sessionized_sm.csv',\n",
    "         './data/sessionized_GRU4Rec_train.csv',\n",
    "         './data/sessionized_GRU4Rec_test.csv',\n",
    "         './data/sessionized_GRU4Rec_train_optim.csv',\n",
    "         './data/sessionized_GRU4Rec_valid.csv'\n",
    "         ]\n",
    "\n",
    "dfs = {}\n",
    "for path in paths:\n",
    "    df_name = path.split('/')[-1].split('.')[0] # split out name of path string\n",
    "    dfs[df_name] = pd.read_csv(path)\n",
    "\n",
    "# universal naming\n",
    "for df_name, df in dfs.items():\n",
    "    if \"ItemId\" in df.columns:\n",
    "        df.rename(columns={'ItemId': 'itemId'}, inplace=True)\n",
    "    if \"Time\" in df.columns:\n",
    "        df.rename(columns={'Time': 'timestamp'}, inplace=True)\n",
    "    if \"SessionId\" in df.columns:\n",
    "        df.rename(columns={'SessionId': 'session_id'}, inplace=True)"
   ]
  },
  {
   "cell_type": "code",
   "execution_count": 4,
   "metadata": {},
   "outputs": [
    {
     "name": "stdout",
     "output_type": "stream",
     "text": [
      "Stats for new_release_stream\n",
      "Number of events/interactions in total:  1583815\n",
      "Number of unique users:  3623\n",
      "Number of unique items:  879\n",
      "Stats for processed\n",
      "Number of events/interactions in total:  1583815\n",
      "Number of unique users:  3623\n",
      "Number of unique items:  879\n",
      "Stats for sessionized\n",
      "Number of events/interactions in total:  1206315\n",
      "Number of unique users:  3623\n",
      "Number of unique items:  879\n",
      "Stats for sessionized_sm\n",
      "Number of events/interactions in total:  335445\n",
      "Number of unique users:  1000\n",
      "Number of unique items:  879\n",
      "Stats for sessionized_GRU4Rec_train\n",
      "Number of events/interactions in total:  1205353\n",
      "Number of unique items:  879\n",
      "Stats for sessionized_GRU4Rec_test\n",
      "Number of events/interactions in total:  962\n",
      "Number of unique items:  377\n",
      "Stats for sessionized_GRU4Rec_train_optim\n",
      "Number of events/interactions in total:  1204682\n",
      "Number of unique items:  879\n",
      "Stats for sessionized_GRU4Rec_valid\n",
      "Number of events/interactions in total:  671\n",
      "Number of unique items:  333\n"
     ]
    }
   ],
   "source": [
    "for df_name, df in dfs.items():\n",
    "    print(f\"Stats for {df_name}\")\n",
    "    print(\"Number of events/interactions in total: \", len(df))\n",
    "    if \"userId\" in df.columns:\n",
    "        print(\"Number of unique users: \", df.userId.nunique())\n",
    "    print(\"Number of unique items: \", df.itemId.nunique())"
   ]
  },
  {
   "cell_type": "code",
   "execution_count": 5,
   "metadata": {},
   "outputs": [
    {
     "name": "stdout",
     "output_type": "stream",
     "text": [
      "Stats for set  new_release_stream\n",
      "Avg. events per item:  1801.84\n",
      "Stats for set  processed\n",
      "Avg. events per item:  1801.84\n",
      "Stats for set  sessionized\n",
      "Avg. events per item:  1372.37\n",
      "Stats for set  sessionized_sm\n",
      "Avg. events per item:  381.62\n",
      "Stats for set  sessionized_GRU4Rec_train\n",
      "Avg. events per item:  1371.28\n",
      "Stats for set  sessionized_GRU4Rec_test\n",
      "Avg. events per item:  2.55\n",
      "Stats for set  sessionized_GRU4Rec_train_optim\n",
      "Avg. events per item:  1370.51\n",
      "Stats for set  sessionized_GRU4Rec_valid\n",
      "Avg. events per item:  2.02\n"
     ]
    }
   ],
   "source": [
    "for df_name, df in dfs.items():\n",
    "    item_interaction_counts = df.groupby('itemId').size().reset_index(name='n_interactions') \n",
    "    avg_item_counts = item_interaction_counts['n_interactions'].mean().round(2)\n",
    "    print(\"Stats for set \", df_name)\n",
    "    print(f\"Avg. events per item: \", avg_item_counts)"
   ]
  },
  {
   "cell_type": "code",
   "execution_count": 6,
   "metadata": {},
   "outputs": [
    {
     "name": "stdout",
     "output_type": "stream",
     "text": [
      "Stats for set  new_release_stream\n",
      "Avg. events per user:  437.16\n",
      "Stats for set  processed\n",
      "Avg. events per user:  437.16\n",
      "Stats for set  sessionized\n",
      "Avg. events per user:  332.96\n",
      "Stats for set  sessionized_sm\n",
      "Avg. events per user:  335.44\n"
     ]
    }
   ],
   "source": [
    "for df_name, df in dfs.items():\n",
    "    if \"userId\" in df.columns:\n",
    "        user_interaction_counts = df.groupby('userId').size().reset_index(name='n_interactions') \n",
    "        avg_user_counts = user_interaction_counts['n_interactions'].mean().round(2)\n",
    "        print(\"Stats for set \", df_name)\n",
    "        print(f\"Avg. events per user: \", avg_user_counts)"
   ]
  },
  {
   "cell_type": "code",
   "execution_count": 7,
   "metadata": {},
   "outputs": [
    {
     "name": "stdout",
     "output_type": "stream",
     "text": [
      "Stats for set  new_release_stream\n",
      "Avg. reps per user:  11.09\n",
      "Stats for set  processed\n",
      "Avg. reps per user:  11.09\n",
      "Stats for set  sessionized\n",
      "Avg. reps per user:  8.49\n",
      "Stats for set  sessionized_sm\n",
      "Avg. reps per user:  8.61\n"
     ]
    }
   ],
   "source": [
    "for df_name, df in dfs.items():\n",
    "    if \"userId\" in df.columns:\n",
    "        user_item_same_pairs_counts_per_set = df.groupby(['userId', 'itemId']).size().reset_index(name='n_reps') # counts the number of same user-item pairs per set\n",
    "\n",
    "        average_repetitions_per_set = user_item_same_pairs_counts_per_set.groupby('userId')['n_reps'].mean() # averages them for each set\n",
    "\n",
    "        average_repetitions_per_set = average_repetitions_per_set.mean().round(2)\n",
    "        \n",
    "\n",
    "        print(\"Stats for set \", df_name)\n",
    "        print(\"Avg. reps per user: \", average_repetitions_per_set)"
   ]
  },
  {
   "cell_type": "code",
   "execution_count": 21,
   "metadata": {},
   "outputs": [
    {
     "name": "stdout",
     "output_type": "stream",
     "text": [
      "Stats for set  new_release_stream\n",
      "Avg. reps of an item:  1800.84\n",
      "Stats for set  processed\n",
      "Avg. reps of an item:  1800.84\n",
      "Stats for set  sessionized\n",
      "Avg. reps of an item:  1371.37\n",
      "Stats for set  sessionized_sm\n",
      "Avg. reps of an item:  380.62\n",
      "Stats for set  sessionized_GRU4Rec_train\n",
      "Avg. reps of an item:  1370.28\n",
      "Stats for set  sessionized_GRU4Rec_test\n",
      "Avg. reps of an item:  2.79\n",
      "Stats for set  sessionized_GRU4Rec_train_optim\n",
      "Avg. reps of an item:  1369.51\n",
      "Stats for set  sessionized_GRU4Rec_valid\n",
      "Avg. reps of an item:  2.07\n"
     ]
    },
    {
     "name": "stderr",
     "output_type": "stream",
     "text": [
      "C:\\Users\\laura\\AppData\\Local\\Temp\\ipykernel_12824\\2428367256.py:4: SettingWithCopyWarning: \n",
      "A value is trying to be set on a copy of a slice from a DataFrame.\n",
      "Try using .loc[row_indexer,col_indexer] = value instead\n",
      "\n",
      "See the caveats in the documentation: https://pandas.pydata.org/pandas-docs/stable/user_guide/indexing.html#returning-a-view-versus-a-copy\n",
      "  rep_items['n_repetitions'] = rep_items['n_interactions'] - 1 # 2 interactions means it was repeated once\n",
      "C:\\Users\\laura\\AppData\\Local\\Temp\\ipykernel_12824\\2428367256.py:4: SettingWithCopyWarning: \n",
      "A value is trying to be set on a copy of a slice from a DataFrame.\n",
      "Try using .loc[row_indexer,col_indexer] = value instead\n",
      "\n",
      "See the caveats in the documentation: https://pandas.pydata.org/pandas-docs/stable/user_guide/indexing.html#returning-a-view-versus-a-copy\n",
      "  rep_items['n_repetitions'] = rep_items['n_interactions'] - 1 # 2 interactions means it was repeated once\n"
     ]
    }
   ],
   "source": [
    "for df_name, df in dfs.items():\n",
    "    item_cnt = df.groupby('itemId').size().reset_index(name='n_interactions')\n",
    "    rep_items = item_cnt[item_cnt['n_interactions'] > 1]\n",
    "    rep_items['n_repetitions'] = rep_items['n_interactions'] - 1 # 2 interactions means it was repeated once\n",
    "    avg_reps_per_item = rep_items['n_repetitions'].mean().round(2)\n",
    "\n",
    "    print(\"Stats for set \", df_name)\n",
    "    print(\"Avg. reps of an item: \", avg_reps_per_item)"
   ]
  },
  {
   "cell_type": "code",
   "execution_count": 8,
   "metadata": {},
   "outputs": [
    {
     "name": "stdout",
     "output_type": "stream",
     "text": [
      "Stats for set  sessionized\n",
      "Number of sessions:  102290\n",
      "Stats for set  sessionized_sm\n",
      "Number of sessions:  28580\n",
      "Stats for set  sessionized_GRU4Rec_train\n",
      "Number of sessions:  102190\n",
      "Stats for set  sessionized_GRU4Rec_test\n",
      "Number of sessions:  100\n",
      "Stats for set  sessionized_GRU4Rec_train_optim\n",
      "Number of sessions:  102109\n",
      "Stats for set  sessionized_GRU4Rec_valid\n",
      "Number of sessions:  81\n"
     ]
    }
   ],
   "source": [
    "for df_name, df in dfs.items():\n",
    "    if \"session_id\" in df.columns: # for all session-based datasets\n",
    "        print(\"Stats for set \", df_name)\n",
    "        print(\"Number of sessions: \", df.session_id.nunique())"
   ]
  },
  {
   "cell_type": "code",
   "execution_count": 9,
   "metadata": {},
   "outputs": [
    {
     "name": "stdout",
     "output_type": "stream",
     "text": [
      "Stats for set  sessionized\n",
      "Avg. sessions per user:  28.23\n",
      "Stats for set  sessionized_sm\n",
      "Avg. sessions per user:  28.58\n"
     ]
    }
   ],
   "source": [
    "for df_name, df in dfs.items():\n",
    "    # count id's across users and calculate average of that count across all users\n",
    "    if (\"userId\" in df.columns) and (\"session_id\" in df.columns):\n",
    "        session_counts_user_overall = df.groupby('userId')['session_id'].nunique()\n",
    "\n",
    "        avg_session_counts_user_overall = session_counts_user_overall.mean().round(2)\n",
    "\n",
    "        print(\"Stats for set \", df_name)\n",
    "        print(\"Avg. sessions per user: \", avg_session_counts_user_overall)"
   ]
  },
  {
   "cell_type": "code",
   "execution_count": 10,
   "metadata": {},
   "outputs": [
    {
     "name": "stdout",
     "output_type": "stream",
     "text": [
      "Stats for set  sessionized\n",
      "Avg. interactions per session:  11.79\n",
      "Stats for set  sessionized_sm\n",
      "Avg. interactions per session:  11.74\n",
      "Stats for set  sessionized_GRU4Rec_train\n",
      "Avg. interactions per session:  11.8\n",
      "Stats for set  sessionized_GRU4Rec_test\n",
      "Avg. interactions per session:  9.62\n",
      "Stats for set  sessionized_GRU4Rec_train_optim\n",
      "Avg. interactions per session:  11.8\n",
      "Stats for set  sessionized_GRU4Rec_valid\n",
      "Avg. interactions per session:  8.28\n"
     ]
    }
   ],
   "source": [
    "for df_name, df in dfs.items():\n",
    "    if \"session_id\" in df.columns:\n",
    "        events_per_session = df.groupby('session_id').size().reset_index(name='n_interactions')\n",
    "        avg_events_per_session = events_per_session['n_interactions'].mean().round(2)\n",
    "        print(\"Stats for set \",df_name)\n",
    "        print(\"Avg. interactions per session: \", avg_events_per_session)"
   ]
  },
  {
   "cell_type": "code",
   "execution_count": 11,
   "metadata": {},
   "outputs": [
    {
     "name": "stdout",
     "output_type": "stream",
     "text": [
      "Stats for set  sessionized\n",
      "Avg. sessions per item:  956.48\n",
      "Stats for set  sessionized_sm\n",
      "Avg. sessions per item:  265.94\n",
      "Stats for set  sessionized_GRU4Rec_train\n",
      "Avg. sessions per item:  955.46\n",
      "Stats for set  sessionized_GRU4Rec_test\n",
      "Avg. sessions per item:  2.38\n",
      "Stats for set  sessionized_GRU4Rec_train_optim\n",
      "Avg. sessions per item:  954.79\n",
      "Stats for set  sessionized_GRU4Rec_valid\n",
      "Avg. sessions per item:  1.77\n"
     ]
    }
   ],
   "source": [
    "for df_name, df in dfs.items():\n",
    "    if \"session_id\" in df.columns:\n",
    "        # group by itemId and count the sessions for each item\n",
    "        item_sessions_count = df.groupby('itemId')['session_id'].nunique()\n",
    "\n",
    "        # average sessions per item\n",
    "        avg_sessions_per_item = item_sessions_count.mean().round(2)\n",
    "        print(\"Stats for set \", df_name)\n",
    "        print(\"Avg. sessions per item: \", avg_sessions_per_item)\n"
   ]
  },
  {
   "cell_type": "markdown",
   "metadata": {},
   "source": [
    "##### **Intra-, and Inter-session repetition rate**"
   ]
  },
  {
   "cell_type": "code",
   "execution_count": 19,
   "metadata": {},
   "outputs": [
    {
     "name": "stderr",
     "output_type": "stream",
     "text": [
      "C:\\Users\\laura\\AppData\\Local\\Temp\\ipykernel_12824\\165171626.py:8: SettingWithCopyWarning: \n",
      "A value is trying to be set on a copy of a slice from a DataFrame.\n",
      "Try using .loc[row_indexer,col_indexer] = value instead\n",
      "\n",
      "See the caveats in the documentation: https://pandas.pydata.org/pandas-docs/stable/user_guide/indexing.html#returning-a-view-versus-a-copy\n",
      "  repeated_items['n_reps'] = repeated_items['n_reps'] - 1\n"
     ]
    },
    {
     "name": "stdout",
     "output_type": "stream",
     "text": [
      "Stats for set  sessionized\n",
      "Intra-session repetition rate:  5.29\n",
      "Stats for set  sessionized_sm\n",
      "Intra-session repetition rate:  5.32\n"
     ]
    },
    {
     "name": "stderr",
     "output_type": "stream",
     "text": [
      "C:\\Users\\laura\\AppData\\Local\\Temp\\ipykernel_12824\\165171626.py:8: SettingWithCopyWarning: \n",
      "A value is trying to be set on a copy of a slice from a DataFrame.\n",
      "Try using .loc[row_indexer,col_indexer] = value instead\n",
      "\n",
      "See the caveats in the documentation: https://pandas.pydata.org/pandas-docs/stable/user_guide/indexing.html#returning-a-view-versus-a-copy\n",
      "  repeated_items['n_reps'] = repeated_items['n_reps'] - 1\n",
      "C:\\Users\\laura\\AppData\\Local\\Temp\\ipykernel_12824\\165171626.py:8: SettingWithCopyWarning: \n",
      "A value is trying to be set on a copy of a slice from a DataFrame.\n",
      "Try using .loc[row_indexer,col_indexer] = value instead\n",
      "\n",
      "See the caveats in the documentation: https://pandas.pydata.org/pandas-docs/stable/user_guide/indexing.html#returning-a-view-versus-a-copy\n",
      "  repeated_items['n_reps'] = repeated_items['n_reps'] - 1\n",
      "C:\\Users\\laura\\AppData\\Local\\Temp\\ipykernel_12824\\165171626.py:8: SettingWithCopyWarning: \n",
      "A value is trying to be set on a copy of a slice from a DataFrame.\n",
      "Try using .loc[row_indexer,col_indexer] = value instead\n",
      "\n",
      "See the caveats in the documentation: https://pandas.pydata.org/pandas-docs/stable/user_guide/indexing.html#returning-a-view-versus-a-copy\n",
      "  repeated_items['n_reps'] = repeated_items['n_reps'] - 1\n"
     ]
    },
    {
     "name": "stdout",
     "output_type": "stream",
     "text": [
      "Stats for set  sessionized_GRU4Rec_train\n",
      "Intra-session repetition rate:  5.29\n",
      "Stats for set  sessionized_GRU4Rec_test\n",
      "Intra-session repetition rate:  1.91\n",
      "Stats for set  sessionized_GRU4Rec_train_optim\n",
      "Intra-session repetition rate:  5.3\n",
      "Stats for set  sessionized_GRU4Rec_valid\n",
      "Intra-session repetition rate:  2.5\n"
     ]
    },
    {
     "name": "stderr",
     "output_type": "stream",
     "text": [
      "C:\\Users\\laura\\AppData\\Local\\Temp\\ipykernel_12824\\165171626.py:8: SettingWithCopyWarning: \n",
      "A value is trying to be set on a copy of a slice from a DataFrame.\n",
      "Try using .loc[row_indexer,col_indexer] = value instead\n",
      "\n",
      "See the caveats in the documentation: https://pandas.pydata.org/pandas-docs/stable/user_guide/indexing.html#returning-a-view-versus-a-copy\n",
      "  repeated_items['n_reps'] = repeated_items['n_reps'] - 1\n",
      "C:\\Users\\laura\\AppData\\Local\\Temp\\ipykernel_12824\\165171626.py:8: SettingWithCopyWarning: \n",
      "A value is trying to be set on a copy of a slice from a DataFrame.\n",
      "Try using .loc[row_indexer,col_indexer] = value instead\n",
      "\n",
      "See the caveats in the documentation: https://pandas.pydata.org/pandas-docs/stable/user_guide/indexing.html#returning-a-view-versus-a-copy\n",
      "  repeated_items['n_reps'] = repeated_items['n_reps'] - 1\n"
     ]
    }
   ],
   "source": [
    "for df_name, df in dfs.items():\n",
    "    if (\"session_id\" in df.columns):\n",
    "        # INTRA rep avg\n",
    "        reps_per_item_per_session_intra = df.groupby(['session_id', 'itemId']).size().reset_index(name='n_reps')\n",
    "\n",
    "        repeated_items = reps_per_item_per_session_intra[reps_per_item_per_session_intra['n_reps'] > 1]\n",
    "\n",
    "        repeated_items['n_reps'] = repeated_items['n_reps'] - 1\n",
    "\n",
    "        intra_session_rep_rate = repeated_items.groupby('session_id')['n_reps'].sum()\n",
    "\n",
    "        intra_session_rep_rate = intra_session_rep_rate.mean().round(2)\n",
    "\n",
    "        print(\"Stats for set \", df_name)\n",
    "        print(\"Intra-session repetition rate: \", intra_session_rep_rate)"
   ]
  },
  {
   "cell_type": "code",
   "execution_count": 26,
   "metadata": {},
   "outputs": [
    {
     "name": "stdout",
     "output_type": "stream",
     "text": [
      "Stats for set  sessionized\n",
      "Inter session repetition rate per user:  332.96\n",
      "Stats for set  sessionized_sm\n",
      "Inter session repetition rate per user:  335.44\n"
     ]
    }
   ],
   "source": [
    "# INTER rep avg\n",
    "for df_name, df in dfs.items():\n",
    "    if ('session_id' in df.columns) and ('userId' in df.columns):\n",
    "        reps_per_item_per_session_inter = df.groupby(['userId', 'itemId', 'session_id']).size().reset_index(name='reps')\n",
    "\n",
    "        reps_per_user_across_sessions = reps_per_item_per_session_inter.groupby('userId')['reps'].sum().reset_index(name='reps')\n",
    "\n",
    "        inter_session_rep_rate = reps_per_user_across_sessions['reps'].mean().round(2)\n",
    "\n",
    "        print(\"Stats for set \", df_name)\n",
    "        print(\"Inter session repetition rate per user: \", inter_session_rep_rate)"
   ]
  },
  {
   "cell_type": "code",
   "execution_count": 29,
   "metadata": {},
   "outputs": [
    {
     "data": {
      "text/plain": [
       "437.16"
      ]
     },
     "execution_count": 29,
     "metadata": {},
     "output_type": "execute_result"
    }
   ],
   "source": [
    "inter_session_rep_rate = reps_per_user_across_sessions['reps'].mean().round(2)\n",
    "inter_session_rep_rate"
   ]
  },
  {
   "cell_type": "code",
   "execution_count": 24,
   "metadata": {},
   "outputs": [
    {
     "name": "stdout",
     "output_type": "stream",
     "text": [
      "Stats for set  sessionized\n",
      "Average session length in minutes:  38.02\n",
      "Stats for set  sessionized_sm\n",
      "Average session length in minutes:  38.33\n",
      "Stats for set  sessionized_GRU4Rec_train\n",
      "Average session length in minutes:  38.02\n",
      "Stats for set  sessionized_GRU4Rec_test\n",
      "Average session length in minutes:  38.67\n",
      "Stats for set  sessionized_GRU4Rec_train_optim\n",
      "Average session length in minutes:  38.02\n",
      "Stats for set  sessionized_GRU4Rec_valid\n",
      "Average session length in minutes:  37.68\n"
     ]
    }
   ],
   "source": [
    "#avg length per single user session \n",
    "for df_name, df in dfs.items():\n",
    "    if (\"session_id\" in df.columns) and (\"timestamp\" in df.columns):\n",
    "        session_lengths = df.groupby('session_id')['timestamp'].agg(sess_length=lambda ts: ts.max() - ts.min()) # calc length of one session per session\n",
    "\n",
    "        avg_session_lengths = session_lengths['sess_length'].mean()\n",
    "        print(\"Stats for set \", df_name)\n",
    "        print(\"Average session length in minutes: \", (avg_session_lengths / 60).round(2))"
   ]
  }
 ],
 "metadata": {
  "kernelspec": {
   "display_name": "supervised",
   "language": "python",
   "name": "python3"
  },
  "language_info": {
   "codemirror_mode": {
    "name": "ipython",
    "version": 3
   },
   "file_extension": ".py",
   "mimetype": "text/x-python",
   "name": "python",
   "nbconvert_exporter": "python",
   "pygments_lexer": "ipython3",
   "version": "3.10.11"
  }
 },
 "nbformat": 4,
 "nbformat_minor": 2
}
