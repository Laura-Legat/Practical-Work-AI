{
 "cells": [
  {
   "cell_type": "markdown",
   "metadata": {},
   "source": [
    "$d_{u,i}(t) = max\\left(d(\\textbf{u},\\textbf{v}) - \\lambda_u \\sum_{j=1}^n \\textbf{1}_{t>t_j}(t - t_j + c)^{-d}, 0  \\right)$\n",
    "\n",
    "with\n",
    "\n",
    "$\\textbf{u}$ = user embedding\n",
    "\n",
    "$\\textbf{v}$ = item embedding\n",
    "\n",
    "$\\lambda_u = \\lambda + \\lambda^b_u$ = step size or \"learning rate\" how much to change distance, consisting of user-specific lambda and global lambda\n",
    "\n",
    "$j$ = interaction between $u_i$ and $v_i$"
   ]
  },
  {
   "cell_type": "markdown",
   "metadata": {},
   "source": [
    "The first formula adjusts distance between a user's and an item's embedding in the latent space over $T$ timesteps. This is done based on repeatedly consuming item $v_i$ by user $u_i$. Their distance is not linearly and not permanently changed, however. For example, the distance reduction decays over time unless reinforces by further repetitions, and eventually lands again at $d(\\textbf{u},\\textbf{v})$. $d(\\textbf{u},\\textbf{v})$ is the base distance and is determined by the Euclidian distance between the embeddings. The base distance tells us how close the user and the item are AT THE BEGINNING, their baseline distance they will always have and they cannot get further away than that. A smaller distance suggests that the user’s preferences are closely aligned with the item’s attributes, indicating a higher potential for user interest or preference.\n",
    "\n",
    "The lambda adjusts how much past interactions should be taken into account.\n",
    "\n",
    "Decay function sums over the past time elapsed for all past (smaller than current timestep $t$) interactions. If $t-t_j$ is large (long time since last interaction of user with this specific song), then $(t - t_j + c)^{-d}$ will be small, aka the distance gets modified only a little bit. Hence, interactions with a large gap contribute less to reducing the distance -> this is how recency is incorporated in the model, reflecting forgetting or general dislike. If $t-t_j$ is small (user has recently listened to the song), then $(t - t_j + c)^{-d}$ is large, changing the user-item distance quite a bit. \n"
   ]
  }
 ],
 "metadata": {
  "language_info": {
   "name": "python"
  }
 },
 "nbformat": 4,
 "nbformat_minor": 2
}
