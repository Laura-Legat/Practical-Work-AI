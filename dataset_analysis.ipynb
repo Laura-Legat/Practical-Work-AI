{
 "cells": [
  {
   "cell_type": "markdown",
   "metadata": {},
   "source": [
    "# Practical Work in AI"
   ]
  },
  {
   "cell_type": "code",
   "execution_count": 2,
   "metadata": {},
   "outputs": [],
   "source": [
    "# installs necessary libraries\n",
    "\n",
    "#!pip install pandas"
   ]
  },
  {
   "cell_type": "code",
   "execution_count": 3,
   "metadata": {},
   "outputs": [],
   "source": [
    "# necessary imports for notebook to run\n",
    "import pandas as pd"
   ]
  },
  {
   "cell_type": "markdown",
   "metadata": {},
   "source": [
    "## 1. Dataset analysis"
   ]
  },
  {
   "cell_type": "markdown",
   "metadata": {},
   "source": [
    "### 1.1 Structure of processed.csv"
   ]
  },
  {
   "cell_type": "markdown",
   "metadata": {},
   "source": [
    "As a first step, certain statistics have to be observed on the given dataset in order to see if it is feasible to be sessionized and further used for training sequence-aware recommender systems models [a], such as GRU4Rec. \n",
    "\n",
    "For the analysis, we are working with the \"processed.csv\" dataset, which contains user-item interactions and represents a pre-processed version of the \"new_release_stream.csv\" file. A single row in this file looks like the following:\n",
    "\n",
    "`28,60,188807,1,[0.0],train`\n",
    "\n",
    "Here, the user with ID 28 listened to the track with ID 60 at timestamp 188807 (measured in seconds from first consumption). The track was listened to over 80% of its length (y = 1). The time interval (measured in hours) between when user 28 interacted with item 60 this time, versus the previous times, is 0.0, meaning it is the first interaction from user 28 to track 60. Based on the train-test-val split done during pre-processing (see `preprocess.py`), this interaction is part of the training set. \n",
    "\n",
    "Repetitive behavior is measured via the relational interval column (here [0.0]). Hence, the following lines from the dataset:\n",
    "\n",
    "`28,60,188807,1,[0.0],train`\n",
    "\n",
    "`28,60,188977,1,\"[0.04722222222222222, 0.0]\",train`\n",
    "\n",
    "`28,60,189155,0,\"[0.09666666666666666, 0.049444444444444444]\",train`\n",
    "\n",
    "have the following meaning with regards to the repetitions:\n",
    "\n",
    "`28,60,188807,1,[0.0],train` = User 28 consumes item 60 for the first time, thus no previous consumptions logged in the relational interval\n",
    "\n",
    "`28,60,188977,1,\"[0.04722222222222222, 0.0]\",train` = User 28 consumed item 60 for the first time 188977-188807 = 170s / 60 / 60 = 0.047222hrs ago\n",
    "\n",
    "`28,60,189155,0,\"[0.09666666666666666, 0.049444444444444444]\",train` = User 28 consumed item 60 since the last time 189155-188977 = 178s / 60 / 60 = 0.049444hrs ago and for the first time 0.049444444444444444 + 0.04722222222222222 = 0.09666666666666666 hrs ago"
   ]
  },
  {
   "cell_type": "markdown",
   "metadata": {},
   "source": [
    "### 1.2 Statistical Analysis"
   ]
  },
  {
   "cell_type": "markdown",
   "metadata": {},
   "source": [
    "The analysis of the dataset is separated into two parts:\n",
    "\n",
    "- **Global measures**: e.g. average count of user-item interactions per set, average count of user-item interactions per item, etc.\n",
    "- **Session-based measures**: e.g. average number of sessions per user, average number of interactions per session, etc.\n",
    "\n",
    "We start by reading in the data:"
   ]
  },
  {
   "cell_type": "code",
   "execution_count": 4,
   "metadata": {},
   "outputs": [],
   "source": [
    "file_path = './data/processed.csv' # adjust as needed\n",
    "df = pd.read_csv(file_path)"
   ]
  },
  {
   "cell_type": "markdown",
   "metadata": {},
   "source": [
    "#### 1.2.1 Global measures\n",
    "\n",
    "Firstly, we observe the number of interactions, unique users and unique items in the dataset:"
   ]
  },
  {
   "cell_type": "code",
   "execution_count": 5,
   "metadata": {},
   "outputs": [
    {
     "name": "stdout",
     "output_type": "stream",
     "text": [
      "Number of user-item interactions in total:  1583815\n",
      "Number of unique users:  3623\n",
      "Number of unique songs:  879\n"
     ]
    }
   ],
   "source": [
    "print(\"Number of user-item interactions in total: \", len(df))\n",
    "print(\"Number of unique users: \", df.userId.nunique())\n",
    "print(\"Number of unique songs: \", df.itemId.nunique())"
   ]
  },
  {
   "cell_type": "markdown",
   "metadata": {},
   "source": [
    "These numbers are consistent with the reportings from [b], after the authors implemented a $k^{item}$ and a $k^{user}$ pre-processing step, where each user has to have interacted with at least $k^{item}$ items and every item has to have been consumed by $k^{user}$ users. They decided on $k^{item} = k^{user} = 30$."
   ]
  },
  {
   "cell_type": "markdown",
   "metadata": {},
   "source": [
    "##### **Number of user-item interactions per set**"
   ]
  },
  {
   "cell_type": "code",
   "execution_count": 6,
   "metadata": {},
   "outputs": [
    {
     "name": "stdout",
     "output_type": "stream",
     "text": [
      "Number of user-item interactions for training-, test-, and validation set:\n"
     ]
    },
    {
     "data": {
      "text/html": [
       "<div>\n",
       "<style scoped>\n",
       "    .dataframe tbody tr th:only-of-type {\n",
       "        vertical-align: middle;\n",
       "    }\n",
       "\n",
       "    .dataframe tbody tr th {\n",
       "        vertical-align: top;\n",
       "    }\n",
       "\n",
       "    .dataframe thead th {\n",
       "        text-align: right;\n",
       "    }\n",
       "</style>\n",
       "<table border=\"1\" class=\"dataframe\">\n",
       "  <thead>\n",
       "    <tr style=\"text-align: right;\">\n",
       "      <th></th>\n",
       "      <th>set</th>\n",
       "      <th>count</th>\n",
       "    </tr>\n",
       "  </thead>\n",
       "  <tbody>\n",
       "    <tr>\n",
       "      <th>0</th>\n",
       "      <td>train</td>\n",
       "      <td>1423927</td>\n",
       "    </tr>\n",
       "    <tr>\n",
       "      <th>1</th>\n",
       "      <td>test</td>\n",
       "      <td>80166</td>\n",
       "    </tr>\n",
       "    <tr>\n",
       "      <th>2</th>\n",
       "      <td>val</td>\n",
       "      <td>79722</td>\n",
       "    </tr>\n",
       "  </tbody>\n",
       "</table>\n",
       "</div>"
      ],
      "text/plain": [
       "     set    count\n",
       "0  train  1423927\n",
       "1   test    80166\n",
       "2    val    79722"
      ]
     },
     "execution_count": 6,
     "metadata": {},
     "output_type": "execute_result"
    }
   ],
   "source": [
    "# count number of rows per set, aka count size of training, test and validation dataset\n",
    "set_counts = df['set'].value_counts()\n",
    "\n",
    "# create df outof series and rename columns accordingly\n",
    "set_counts = set_counts.reset_index()\n",
    "set_counts.columns = ['set', 'count']\n",
    "\n",
    "print(\"Number of user-item interactions for training-, test-, and validation set:\")\n",
    "set_counts\n"
   ]
  },
  {
   "cell_type": "markdown",
   "metadata": {},
   "source": [
    "As we can see, after splitting the data, we have numbers of interactions of train = ~1.4m, test = ~80.1k and validation = ~79.7k. "
   ]
  },
  {
   "cell_type": "markdown",
   "metadata": {},
   "source": [
    "##### **Average number of interactions per user, in total and per set**"
   ]
  },
  {
   "cell_type": "code",
   "execution_count": 7,
   "metadata": {},
   "outputs": [
    {
     "name": "stdout",
     "output_type": "stream",
     "text": [
      "On average, a user has 437.2 item interactions in total.\n"
     ]
    }
   ],
   "source": [
    "user_interaction_counts = df['userId'].value_counts() # per userId, count the interactions\n",
    "avg_user_counts = user_interaction_counts.mean() # average interaction counts over all users\n",
    "\n",
    "print(f\"On average, a user has {round(avg_user_counts, 1)} item interactions in total.\")"
   ]
  },
  {
   "cell_type": "code",
   "execution_count": 8,
   "metadata": {},
   "outputs": [
    {
     "name": "stdout",
     "output_type": "stream",
     "text": [
      "Per set, a user has on average the following numbers of interactions: \n",
      " set\n",
      "test      22.1\n",
      "train    393.0\n",
      "val       22.0\n",
      "dtype: float64\n"
     ]
    }
   ],
   "source": [
    "user_interaction_counts_per_set = df.groupby(['set', 'userId']).size()\n",
    "\n",
    "user_interaction_counts_per_set = user_interaction_counts_per_set.groupby(level='set').mean().round(1)\n",
    "\n",
    "print(\"Per set, a user has on average the following numbers of interactions: \\n\", user_interaction_counts_per_set)"
   ]
  },
  {
   "cell_type": "markdown",
   "metadata": {},
   "source": [
    "##### **Average number of interactions per item, in total and per set**"
   ]
  },
  {
   "cell_type": "code",
   "execution_count": 9,
   "metadata": {},
   "outputs": [
    {
     "name": "stdout",
     "output_type": "stream",
     "text": [
      "On average, an item is interacted with 1801.8 times.\n"
     ]
    }
   ],
   "source": [
    "item_interaction_counts = df['itemId'].value_counts() # per track, count the interactions\n",
    "avg_item_counts = item_interaction_counts.mean() # average interaction counts over all items\n",
    "\n",
    "print(f\"On average, an item is interacted with {round(avg_item_counts, 1)} times.\")"
   ]
  },
  {
   "cell_type": "code",
   "execution_count": 10,
   "metadata": {},
   "outputs": [
    {
     "name": "stdout",
     "output_type": "stream",
     "text": [
      "Per set, on average, an item is interacted with the following number of times: \n",
      " set\n",
      "test       98.0\n",
      "train    1619.9\n",
      "val        98.4\n",
      "dtype: float64\n"
     ]
    }
   ],
   "source": [
    "item_interaction_counts_per_set = df.groupby(['set', 'itemId']).size()\n",
    "\n",
    "item_interaction_counts_per_set = item_interaction_counts_per_set.groupby(level='set').mean().round(1)\n",
    "\n",
    "print(\"Per set, on average, an item is interacted with the following number of times: \\n\", item_interaction_counts_per_set)"
   ]
  },
  {
   "cell_type": "markdown",
   "metadata": {},
   "source": [
    "##### **Average count of repetitions across all users, in total and per set**"
   ]
  },
  {
   "cell_type": "code",
   "execution_count": 11,
   "metadata": {},
   "outputs": [
    {
     "name": "stdout",
     "output_type": "stream",
     "text": [
      "On average, a user repeats a particular track 10.9 times.\n"
     ]
    }
   ],
   "source": [
    "user_item_same_pairs_counts = df.groupby(['userId', 'itemId']).size() # counts the number of rows per same user-item pair\n",
    "\n",
    "average_repetitions = user_item_same_pairs_counts.mean() # averages them\n",
    "\n",
    "print(f\"On average, a user repeats a particular track {round(average_repetitions, 1)} times.\")"
   ]
  },
  {
   "cell_type": "code",
   "execution_count": 12,
   "metadata": {},
   "outputs": [
    {
     "name": "stdout",
     "output_type": "stream",
     "text": [
      "Per set, on average, a user repeats a particular item the following number of times: \n",
      " set\n",
      "test     11.1\n",
      "train    10.8\n",
      "val      11.0\n",
      "dtype: float64\n"
     ]
    }
   ],
   "source": [
    "user_item_same_pairs_counts_per_set = df.groupby(['set', 'userId', 'itemId']).size() # counts the number of same user-item pairs per set\n",
    "\n",
    "average_repetitions_per_set = user_item_same_pairs_counts_per_set.groupby(level='set').mean().round(1) # averages them for each set\n",
    "\n",
    "print(\"Per set, on average, a user repeats a particular item the following number of times: \\n\", average_repetitions_per_set)"
   ]
  },
  {
   "cell_type": "markdown",
   "metadata": {},
   "source": [
    "#### 1.2.2 Session-based measures"
   ]
  },
  {
   "cell_type": "code",
   "execution_count": 13,
   "metadata": {},
   "outputs": [],
   "source": [
    "# define cutoff value for sessionizing (here, 30 mins (1800s) is taken)\n",
    "THRESHOLD = 1800\n",
    "def detect_sessions(unique_user_interactions, threshold=THRESHOLD):\n",
    "    # sort interactions chronologically (should be given by dataset anyway, this is just a precaution)\n",
    "    unique_user_interactions = unique_user_interactions.sort_values('timestamp')\n",
    "\n",
    "    # calc time differences between consecutive timestamps timestamp_j - timestamp_i\n",
    "    time_diff = unique_user_interactions['timestamp'].diff()\n",
    "\n",
    "    # sums up separate sessions - splits to next group when a new session starts (time difference > 30 mins), otherwise it stays the same - this can be used as IDs/index to mark which rows in sorted unique_user_interactions belong to which session\n",
    "    sessions = (time_diff > threshold).cumsum()\n",
    "    unique_user_interactions['session_id'] = sessions\n",
    "    return unique_user_interactions"
   ]
  },
  {
   "cell_type": "code",
   "execution_count": 14,
   "metadata": {},
   "outputs": [],
   "source": [
    "# assign session id's based on unique user's interactions and threshold\n",
    "sessionized_df_overall = df.groupby(['userId']).apply(detect_sessions).reset_index(drop=True)\n",
    "\n",
    "# for each set, group each user (unique users in training set, unique users in val set, unique users in test set) and detect their sessions\n",
    "sessionized_df = df.groupby(['set', 'userId']).apply(detect_sessions).reset_index(drop=True)"
   ]
  },
  {
   "cell_type": "code",
   "execution_count": 15,
   "metadata": {},
   "outputs": [
    {
     "data": {
      "text/html": [
       "<div>\n",
       "<style scoped>\n",
       "    .dataframe tbody tr th:only-of-type {\n",
       "        vertical-align: middle;\n",
       "    }\n",
       "\n",
       "    .dataframe tbody tr th {\n",
       "        vertical-align: top;\n",
       "    }\n",
       "\n",
       "    .dataframe thead th {\n",
       "        text-align: right;\n",
       "    }\n",
       "</style>\n",
       "<table border=\"1\" class=\"dataframe\">\n",
       "  <thead>\n",
       "    <tr style=\"text-align: right;\">\n",
       "      <th></th>\n",
       "      <th>userId</th>\n",
       "      <th>itemId</th>\n",
       "      <th>timestamp</th>\n",
       "      <th>y</th>\n",
       "      <th>relational_interval</th>\n",
       "      <th>set</th>\n",
       "      <th>session_id</th>\n",
       "    </tr>\n",
       "  </thead>\n",
       "  <tbody>\n",
       "    <tr>\n",
       "      <th>0</th>\n",
       "      <td>0</td>\n",
       "      <td>14</td>\n",
       "      <td>1296206</td>\n",
       "      <td>1</td>\n",
       "      <td>[0.0]</td>\n",
       "      <td>test</td>\n",
       "      <td>0</td>\n",
       "    </tr>\n",
       "    <tr>\n",
       "      <th>1</th>\n",
       "      <td>0</td>\n",
       "      <td>298</td>\n",
       "      <td>1326351</td>\n",
       "      <td>1</td>\n",
       "      <td>[0.0]</td>\n",
       "      <td>test</td>\n",
       "      <td>1</td>\n",
       "    </tr>\n",
       "    <tr>\n",
       "      <th>2</th>\n",
       "      <td>0</td>\n",
       "      <td>14</td>\n",
       "      <td>1449841</td>\n",
       "      <td>1</td>\n",
       "      <td>[42.67638888888889, 0.0]</td>\n",
       "      <td>test</td>\n",
       "      <td>2</td>\n",
       "    </tr>\n",
       "    <tr>\n",
       "      <th>3</th>\n",
       "      <td>0</td>\n",
       "      <td>14</td>\n",
       "      <td>1450319</td>\n",
       "      <td>0</td>\n",
       "      <td>[42.80916666666667, 0.13277777777777777]</td>\n",
       "      <td>test</td>\n",
       "      <td>2</td>\n",
       "    </tr>\n",
       "    <tr>\n",
       "      <th>4</th>\n",
       "      <td>0</td>\n",
       "      <td>14</td>\n",
       "      <td>2895492</td>\n",
       "      <td>1</td>\n",
       "      <td>[444.24611111111113, 401.5697222222222, 0.0]</td>\n",
       "      <td>test</td>\n",
       "      <td>3</td>\n",
       "    </tr>\n",
       "    <tr>\n",
       "      <th>...</th>\n",
       "      <td>...</td>\n",
       "      <td>...</td>\n",
       "      <td>...</td>\n",
       "      <td>...</td>\n",
       "      <td>...</td>\n",
       "      <td>...</td>\n",
       "      <td>...</td>\n",
       "    </tr>\n",
       "    <tr>\n",
       "      <th>1583810</th>\n",
       "      <td>3622</td>\n",
       "      <td>559</td>\n",
       "      <td>9968460</td>\n",
       "      <td>1</td>\n",
       "      <td>[597.9216666666666, 593.5372222222222, 572.214...</td>\n",
       "      <td>val</td>\n",
       "      <td>18</td>\n",
       "    </tr>\n",
       "    <tr>\n",
       "      <th>1583811</th>\n",
       "      <td>3622</td>\n",
       "      <td>559</td>\n",
       "      <td>10140227</td>\n",
       "      <td>1</td>\n",
       "      <td>[645.6347222222222, 641.2502777777778, 619.927...</td>\n",
       "      <td>val</td>\n",
       "      <td>19</td>\n",
       "    </tr>\n",
       "    <tr>\n",
       "      <th>1583812</th>\n",
       "      <td>3622</td>\n",
       "      <td>584</td>\n",
       "      <td>10144708</td>\n",
       "      <td>1</td>\n",
       "      <td>[641.2966666666666, 595.9677777777778, 595.891...</td>\n",
       "      <td>val</td>\n",
       "      <td>20</td>\n",
       "    </tr>\n",
       "    <tr>\n",
       "      <th>1583813</th>\n",
       "      <td>3622</td>\n",
       "      <td>559</td>\n",
       "      <td>10391098</td>\n",
       "      <td>1</td>\n",
       "      <td>[715.3211111111111, 710.9366666666666, 689.614...</td>\n",
       "      <td>val</td>\n",
       "      <td>21</td>\n",
       "    </tr>\n",
       "    <tr>\n",
       "      <th>1583814</th>\n",
       "      <td>3622</td>\n",
       "      <td>584</td>\n",
       "      <td>10396691</td>\n",
       "      <td>1</td>\n",
       "      <td>[711.2919444444444, 665.9630555555556, 665.886...</td>\n",
       "      <td>val</td>\n",
       "      <td>22</td>\n",
       "    </tr>\n",
       "  </tbody>\n",
       "</table>\n",
       "<p>1583815 rows × 7 columns</p>\n",
       "</div>"
      ],
      "text/plain": [
       "         userId  itemId  timestamp  y  \\\n",
       "0             0      14    1296206  1   \n",
       "1             0     298    1326351  1   \n",
       "2             0      14    1449841  1   \n",
       "3             0      14    1450319  0   \n",
       "4             0      14    2895492  1   \n",
       "...         ...     ...        ... ..   \n",
       "1583810    3622     559    9968460  1   \n",
       "1583811    3622     559   10140227  1   \n",
       "1583812    3622     584   10144708  1   \n",
       "1583813    3622     559   10391098  1   \n",
       "1583814    3622     584   10396691  1   \n",
       "\n",
       "                                       relational_interval   set  session_id  \n",
       "0                                                    [0.0]  test           0  \n",
       "1                                                    [0.0]  test           1  \n",
       "2                                 [42.67638888888889, 0.0]  test           2  \n",
       "3                 [42.80916666666667, 0.13277777777777777]  test           2  \n",
       "4             [444.24611111111113, 401.5697222222222, 0.0]  test           3  \n",
       "...                                                    ...   ...         ...  \n",
       "1583810  [597.9216666666666, 593.5372222222222, 572.214...   val          18  \n",
       "1583811  [645.6347222222222, 641.2502777777778, 619.927...   val          19  \n",
       "1583812  [641.2966666666666, 595.9677777777778, 595.891...   val          20  \n",
       "1583813  [715.3211111111111, 710.9366666666666, 689.614...   val          21  \n",
       "1583814  [711.2919444444444, 665.9630555555556, 665.886...   val          22  \n",
       "\n",
       "[1583815 rows x 7 columns]"
      ]
     },
     "execution_count": 15,
     "metadata": {},
     "output_type": "execute_result"
    }
   ],
   "source": [
    "sessionized_df"
   ]
  },
  {
   "cell_type": "code",
   "execution_count": 16,
   "metadata": {},
   "outputs": [
    {
     "name": "stdout",
     "output_type": "stream",
     "text": [
      "      userId  itemId  timestamp  y                       relational_interval  \\\n",
      "2411       3       3       8076  0                                        []   \n",
      "2412       3       6     196538  0                                        []   \n",
      "2413       3      49     242578  1                                     [0.0]   \n",
      "2414       3      30     301625  0                                        []   \n",
      "2415       3      88     317156  0                                        []   \n",
      "...      ...     ...        ... ..                                       ...   \n",
      "3676       3      61    5152873  0                      [1011.2397222222222]   \n",
      "3677       3      61    5152952  0                      [1011.2616666666667]   \n",
      "3678       3     298    5153050  0                      [1011.3916666666667]   \n",
      "3679       3     278    5153053  0  [458.37694444444446, 18.959722222222222]   \n",
      "3680       3     298    5153134  0                                [1011.415]   \n",
      "\n",
      "        set  session_id  \n",
      "2411  train           0  \n",
      "2412  train           1  \n",
      "2413  train           2  \n",
      "2414  train           3  \n",
      "2415  train           4  \n",
      "...     ...         ...  \n",
      "3676  train         142  \n",
      "3677  train         142  \n",
      "3678  train         142  \n",
      "3679  train         142  \n",
      "3680  train         142  \n",
      "\n",
      "[1270 rows x 7 columns]\n"
     ]
    }
   ],
   "source": [
    "# Filter the sessionized DataFrame for user with userId 2\n",
    "user_sessions = sessionized_df_overall[sessionized_df_overall['userId'] == 3]\n",
    "\n",
    "# Display all sessions for this user\n",
    "print(user_sessions)"
   ]
  },
  {
   "cell_type": "markdown",
   "metadata": {},
   "source": [
    "##### **Totel number of sessions in the dataset**"
   ]
  },
  {
   "cell_type": "code",
   "execution_count": 17,
   "metadata": {},
   "outputs": [
    {
     "name": "stdout",
     "output_type": "stream",
     "text": [
      "In total, the dataset consists of 311509 sessions.\n"
     ]
    }
   ],
   "source": [
    "# group number of sessions per user and sum them up to get total amount of sessions - this way, duplicate session IDs across users are permitted\n",
    "n_sessions_total = len(sessionized_df_overall.groupby(['userId', 'session_id']).size())\n",
    "\n",
    "print(f\"In total, the dataset consists of {n_sessions_total} sessions.\")"
   ]
  },
  {
   "cell_type": "markdown",
   "metadata": {},
   "source": [
    "##### **Average number of sessions per user, in total and per set**"
   ]
  },
  {
   "cell_type": "code",
   "execution_count": 18,
   "metadata": {},
   "outputs": [
    {
     "name": "stdout",
     "output_type": "stream",
     "text": [
      "On average, a user has 86.0 sessions.\n"
     ]
    }
   ],
   "source": [
    "# count id's across users and calculate average of that count across all users\n",
    "session_counts_user_overall = sessionized_df_overall.groupby('userId')['session_id'].nunique().mean().round(1)\n",
    "\n",
    "print(f\"On average, a user has {session_counts_user_overall} sessions.\")"
   ]
  },
  {
   "cell_type": "code",
   "execution_count": 19,
   "metadata": {},
   "outputs": [
    {
     "name": "stdout",
     "output_type": "stream",
     "text": [
      "Per set, a user has on average the following number of sessions: \n",
      " set\n",
      "test     16.0\n",
      "train    82.6\n",
      "val      15.9\n",
      "Name: session_id, dtype: float64\n"
     ]
    }
   ],
   "source": [
    "# count number of sessions per user per set\n",
    "session_counts = sessionized_df.groupby(['set', 'userId'])['session_id'].nunique()\n",
    "\n",
    "# averaging\n",
    "average_session_counts_per_set = session_counts.groupby(level='set').mean().round(1)\n",
    "\n",
    "print(\"Per set, a user has on average the following number of sessions: \\n\", average_session_counts_per_set)"
   ]
  },
  {
   "cell_type": "code",
   "execution_count": 20,
   "metadata": {},
   "outputs": [
    {
     "name": "stdout",
     "output_type": "stream",
     "text": [
      "On average, each item appears in 1341.8 sessions.\n"
     ]
    }
   ],
   "source": [
    "# create global session id to account for the fact that while session id's are unique per user, they are not unique globally, each global session id exactly describes one user in a specific session and is not the same across multiple users\n",
    "sessionized_df_overall['global_session_id'] = sessionized_df_overall['userId'].astype(str) + \"_\" + sessionized_df_overall['session_id'].astype(str)\n",
    "\n",
    "# group by itemId and count the sessions for each item\n",
    "item_sessions_count = sessionized_df_overall.groupby('itemId')['global_session_id'].nunique()\n",
    "\n",
    "# average sessions per item\n",
    "avg_sessions_per_item = item_sessions_count.mean().round(1)\n",
    "\n",
    "print(f\"On average, each item appears in {avg_sessions_per_item} sessions.\")\n"
   ]
  },
  {
   "cell_type": "code",
   "execution_count": 21,
   "metadata": {},
   "outputs": [
    {
     "name": "stdout",
     "output_type": "stream",
     "text": [
      "On average, for each set, each item appears in the following number of sessions: \n",
      " set\n",
      "test       74.1\n",
      "train    1203.0\n",
      "val        74.4\n",
      "Name: global_set_session_id, dtype: float64\n"
     ]
    }
   ],
   "source": [
    "# each global_set_session_id describes one user in a specific session in a specific set\n",
    "sessionized_df_overall['global_set_session_id'] = sessionized_df_overall['set'].astype(str) + \"_\" + sessionized_df_overall['userId'].astype(str) + sessionized_df_overall['session_id'].astype(str)\n",
    "\n",
    "# group by itemid, then by set, and count sessions\n",
    "item_session_count_per_set = sessionized_df_overall.groupby(['itemId', 'set'])['global_set_session_id'].nunique()\n",
    "\n",
    "avg_item_session_count_per_set = item_session_count_per_set.groupby(level='set').mean().round(1)\n",
    "\n",
    "print(\"On average, for each set, each item appears in the following number of sessions: \\n\", avg_item_session_count_per_set)"
   ]
  },
  {
   "cell_type": "code",
   "execution_count": 24,
   "metadata": {},
   "outputs": [
    {
     "data": {
      "text/html": [
       "<div>\n",
       "<style scoped>\n",
       "    .dataframe tbody tr th:only-of-type {\n",
       "        vertical-align: middle;\n",
       "    }\n",
       "\n",
       "    .dataframe tbody tr th {\n",
       "        vertical-align: top;\n",
       "    }\n",
       "\n",
       "    .dataframe thead th {\n",
       "        text-align: right;\n",
       "    }\n",
       "</style>\n",
       "<table border=\"1\" class=\"dataframe\">\n",
       "  <thead>\n",
       "    <tr style=\"text-align: right;\">\n",
       "      <th></th>\n",
       "      <th>userId</th>\n",
       "      <th>itemId</th>\n",
       "      <th>timestamp</th>\n",
       "      <th>y</th>\n",
       "      <th>relational_interval</th>\n",
       "      <th>set</th>\n",
       "      <th>session_id</th>\n",
       "      <th>global_session_id</th>\n",
       "      <th>global_set_session_id</th>\n",
       "    </tr>\n",
       "  </thead>\n",
       "  <tbody>\n",
       "    <tr>\n",
       "      <th>0</th>\n",
       "      <td>0</td>\n",
       "      <td>0</td>\n",
       "      <td>0</td>\n",
       "      <td>0</td>\n",
       "      <td>[]</td>\n",
       "      <td>train</td>\n",
       "      <td>0</td>\n",
       "      <td>0_0</td>\n",
       "      <td>train_00</td>\n",
       "    </tr>\n",
       "    <tr>\n",
       "      <th>1</th>\n",
       "      <td>0</td>\n",
       "      <td>7</td>\n",
       "      <td>15690</td>\n",
       "      <td>0</td>\n",
       "      <td>[]</td>\n",
       "      <td>train</td>\n",
       "      <td>1</td>\n",
       "      <td>0_1</td>\n",
       "      <td>train_01</td>\n",
       "    </tr>\n",
       "    <tr>\n",
       "      <th>2</th>\n",
       "      <td>0</td>\n",
       "      <td>15</td>\n",
       "      <td>38426</td>\n",
       "      <td>0</td>\n",
       "      <td>[]</td>\n",
       "      <td>train</td>\n",
       "      <td>2</td>\n",
       "      <td>0_2</td>\n",
       "      <td>train_02</td>\n",
       "    </tr>\n",
       "    <tr>\n",
       "      <th>3</th>\n",
       "      <td>0</td>\n",
       "      <td>5</td>\n",
       "      <td>45670</td>\n",
       "      <td>1</td>\n",
       "      <td>[0.0]</td>\n",
       "      <td>train</td>\n",
       "      <td>3</td>\n",
       "      <td>0_3</td>\n",
       "      <td>train_03</td>\n",
       "    </tr>\n",
       "    <tr>\n",
       "      <th>4</th>\n",
       "      <td>0</td>\n",
       "      <td>20</td>\n",
       "      <td>77618</td>\n",
       "      <td>0</td>\n",
       "      <td>[]</td>\n",
       "      <td>train</td>\n",
       "      <td>4</td>\n",
       "      <td>0_4</td>\n",
       "      <td>train_04</td>\n",
       "    </tr>\n",
       "    <tr>\n",
       "      <th>...</th>\n",
       "      <td>...</td>\n",
       "      <td>...</td>\n",
       "      <td>...</td>\n",
       "      <td>...</td>\n",
       "      <td>...</td>\n",
       "      <td>...</td>\n",
       "      <td>...</td>\n",
       "      <td>...</td>\n",
       "      <td>...</td>\n",
       "    </tr>\n",
       "    <tr>\n",
       "      <th>1583810</th>\n",
       "      <td>3622</td>\n",
       "      <td>579</td>\n",
       "      <td>10398504</td>\n",
       "      <td>1</td>\n",
       "      <td>[711.3533333333334, 665.9480555555556, 644.134...</td>\n",
       "      <td>train</td>\n",
       "      <td>23</td>\n",
       "      <td>3622_23</td>\n",
       "      <td>train_362223</td>\n",
       "    </tr>\n",
       "    <tr>\n",
       "      <th>1583811</th>\n",
       "      <td>3622</td>\n",
       "      <td>590</td>\n",
       "      <td>10398803</td>\n",
       "      <td>0</td>\n",
       "      <td>[711.3533333333334, 665.9480555555556, 644.133...</td>\n",
       "      <td>train</td>\n",
       "      <td>23</td>\n",
       "      <td>3622_23</td>\n",
       "      <td>train_362223</td>\n",
       "    </tr>\n",
       "    <tr>\n",
       "      <th>1583812</th>\n",
       "      <td>3622</td>\n",
       "      <td>591</td>\n",
       "      <td>10398827</td>\n",
       "      <td>1</td>\n",
       "      <td>[711.2280555555556, 665.8227777777778, 644.008...</td>\n",
       "      <td>train</td>\n",
       "      <td>23</td>\n",
       "      <td>3622_23</td>\n",
       "      <td>train_362223</td>\n",
       "    </tr>\n",
       "    <tr>\n",
       "      <th>1583813</th>\n",
       "      <td>3622</td>\n",
       "      <td>592</td>\n",
       "      <td>10398988</td>\n",
       "      <td>1</td>\n",
       "      <td>[711.2280555555556, 665.8227777777778, 644.008...</td>\n",
       "      <td>train</td>\n",
       "      <td>23</td>\n",
       "      <td>3622_23</td>\n",
       "      <td>train_362223</td>\n",
       "    </tr>\n",
       "    <tr>\n",
       "      <th>1583814</th>\n",
       "      <td>3622</td>\n",
       "      <td>577</td>\n",
       "      <td>10399344</td>\n",
       "      <td>0</td>\n",
       "      <td>[665.8227777777778, 69.93166666666667]</td>\n",
       "      <td>train</td>\n",
       "      <td>23</td>\n",
       "      <td>3622_23</td>\n",
       "      <td>train_362223</td>\n",
       "    </tr>\n",
       "  </tbody>\n",
       "</table>\n",
       "<p>1583815 rows × 9 columns</p>\n",
       "</div>"
      ],
      "text/plain": [
       "         userId  itemId  timestamp  y  \\\n",
       "0             0       0          0  0   \n",
       "1             0       7      15690  0   \n",
       "2             0      15      38426  0   \n",
       "3             0       5      45670  1   \n",
       "4             0      20      77618  0   \n",
       "...         ...     ...        ... ..   \n",
       "1583810    3622     579   10398504  1   \n",
       "1583811    3622     590   10398803  0   \n",
       "1583812    3622     591   10398827  1   \n",
       "1583813    3622     592   10398988  1   \n",
       "1583814    3622     577   10399344  0   \n",
       "\n",
       "                                       relational_interval    set  session_id  \\\n",
       "0                                                       []  train           0   \n",
       "1                                                       []  train           1   \n",
       "2                                                       []  train           2   \n",
       "3                                                    [0.0]  train           3   \n",
       "4                                                       []  train           4   \n",
       "...                                                    ...    ...         ...   \n",
       "1583810  [711.3533333333334, 665.9480555555556, 644.134...  train          23   \n",
       "1583811  [711.3533333333334, 665.9480555555556, 644.133...  train          23   \n",
       "1583812  [711.2280555555556, 665.8227777777778, 644.008...  train          23   \n",
       "1583813  [711.2280555555556, 665.8227777777778, 644.008...  train          23   \n",
       "1583814             [665.8227777777778, 69.93166666666667]  train          23   \n",
       "\n",
       "        global_session_id global_set_session_id  \n",
       "0                     0_0              train_00  \n",
       "1                     0_1              train_01  \n",
       "2                     0_2              train_02  \n",
       "3                     0_3              train_03  \n",
       "4                     0_4              train_04  \n",
       "...                   ...                   ...  \n",
       "1583810           3622_23          train_362223  \n",
       "1583811           3622_23          train_362223  \n",
       "1583812           3622_23          train_362223  \n",
       "1583813           3622_23          train_362223  \n",
       "1583814           3622_23          train_362223  \n",
       "\n",
       "[1583815 rows x 9 columns]"
      ]
     },
     "execution_count": 24,
     "metadata": {},
     "output_type": "execute_result"
    }
   ],
   "source": [
    "sessionized_df_overall"
   ]
  },
  {
   "cell_type": "code",
   "execution_count": 30,
   "metadata": {},
   "outputs": [
    {
     "name": "stdout",
     "output_type": "stream",
     "text": [
      "On average, an item is repeated 1.3 times within one session.\n"
     ]
    }
   ],
   "source": [
    "# count repetitions of each item per session\n",
    "intra_session_reps = sessionized_df_overall.groupby(['global_session_id', 'itemId']).size().reset_index(name='n_reps')\n",
    "\n",
    "# average rep counts within a particular session across all items\n",
    "avg_intra_session_reps_per_item = intra_session_reps.groupby('global_session_id')['n_reps'].mean()\n",
    "\n",
    "# average across all sessions\n",
    "avg_intra_session_reps = avg_intra_session_reps_per_item.mean().round(1)\n",
    "\n",
    "print(f\"On average, an item is repeated {avg_intra_session_reps} times within one session.\")"
   ]
  },
  {
   "cell_type": "code",
   "execution_count": 44,
   "metadata": {},
   "outputs": [
    {
     "data": {
      "text/html": [
       "<div>\n",
       "<style scoped>\n",
       "    .dataframe tbody tr th:only-of-type {\n",
       "        vertical-align: middle;\n",
       "    }\n",
       "\n",
       "    .dataframe tbody tr th {\n",
       "        vertical-align: top;\n",
       "    }\n",
       "\n",
       "    .dataframe thead th {\n",
       "        text-align: right;\n",
       "    }\n",
       "</style>\n",
       "<table border=\"1\" class=\"dataframe\">\n",
       "  <thead>\n",
       "    <tr style=\"text-align: right;\">\n",
       "      <th></th>\n",
       "      <th>userId</th>\n",
       "      <th>itemId</th>\n",
       "      <th>timestamp</th>\n",
       "      <th>y</th>\n",
       "      <th>relational_interval</th>\n",
       "      <th>set</th>\n",
       "      <th>session_id</th>\n",
       "      <th>global_session_id</th>\n",
       "      <th>global_set_session_id</th>\n",
       "    </tr>\n",
       "  </thead>\n",
       "  <tbody>\n",
       "    <tr>\n",
       "      <th>0</th>\n",
       "      <td>0</td>\n",
       "      <td>0</td>\n",
       "      <td>0</td>\n",
       "      <td>0</td>\n",
       "      <td>[]</td>\n",
       "      <td>train</td>\n",
       "      <td>0</td>\n",
       "      <td>0_0</td>\n",
       "      <td>train_00</td>\n",
       "    </tr>\n",
       "    <tr>\n",
       "      <th>1</th>\n",
       "      <td>0</td>\n",
       "      <td>7</td>\n",
       "      <td>15690</td>\n",
       "      <td>0</td>\n",
       "      <td>[]</td>\n",
       "      <td>train</td>\n",
       "      <td>1</td>\n",
       "      <td>0_1</td>\n",
       "      <td>train_01</td>\n",
       "    </tr>\n",
       "    <tr>\n",
       "      <th>2</th>\n",
       "      <td>0</td>\n",
       "      <td>15</td>\n",
       "      <td>38426</td>\n",
       "      <td>0</td>\n",
       "      <td>[]</td>\n",
       "      <td>train</td>\n",
       "      <td>2</td>\n",
       "      <td>0_2</td>\n",
       "      <td>train_02</td>\n",
       "    </tr>\n",
       "    <tr>\n",
       "      <th>3</th>\n",
       "      <td>0</td>\n",
       "      <td>5</td>\n",
       "      <td>45670</td>\n",
       "      <td>1</td>\n",
       "      <td>[0.0]</td>\n",
       "      <td>train</td>\n",
       "      <td>3</td>\n",
       "      <td>0_3</td>\n",
       "      <td>train_03</td>\n",
       "    </tr>\n",
       "    <tr>\n",
       "      <th>4</th>\n",
       "      <td>0</td>\n",
       "      <td>20</td>\n",
       "      <td>77618</td>\n",
       "      <td>0</td>\n",
       "      <td>[]</td>\n",
       "      <td>train</td>\n",
       "      <td>4</td>\n",
       "      <td>0_4</td>\n",
       "      <td>train_04</td>\n",
       "    </tr>\n",
       "    <tr>\n",
       "      <th>...</th>\n",
       "      <td>...</td>\n",
       "      <td>...</td>\n",
       "      <td>...</td>\n",
       "      <td>...</td>\n",
       "      <td>...</td>\n",
       "      <td>...</td>\n",
       "      <td>...</td>\n",
       "      <td>...</td>\n",
       "      <td>...</td>\n",
       "    </tr>\n",
       "    <tr>\n",
       "      <th>1583810</th>\n",
       "      <td>3622</td>\n",
       "      <td>579</td>\n",
       "      <td>10398504</td>\n",
       "      <td>1</td>\n",
       "      <td>[711.3533333333334, 665.9480555555556, 644.134...</td>\n",
       "      <td>train</td>\n",
       "      <td>23</td>\n",
       "      <td>3622_23</td>\n",
       "      <td>train_362223</td>\n",
       "    </tr>\n",
       "    <tr>\n",
       "      <th>1583811</th>\n",
       "      <td>3622</td>\n",
       "      <td>590</td>\n",
       "      <td>10398803</td>\n",
       "      <td>0</td>\n",
       "      <td>[711.3533333333334, 665.9480555555556, 644.133...</td>\n",
       "      <td>train</td>\n",
       "      <td>23</td>\n",
       "      <td>3622_23</td>\n",
       "      <td>train_362223</td>\n",
       "    </tr>\n",
       "    <tr>\n",
       "      <th>1583812</th>\n",
       "      <td>3622</td>\n",
       "      <td>591</td>\n",
       "      <td>10398827</td>\n",
       "      <td>1</td>\n",
       "      <td>[711.2280555555556, 665.8227777777778, 644.008...</td>\n",
       "      <td>train</td>\n",
       "      <td>23</td>\n",
       "      <td>3622_23</td>\n",
       "      <td>train_362223</td>\n",
       "    </tr>\n",
       "    <tr>\n",
       "      <th>1583813</th>\n",
       "      <td>3622</td>\n",
       "      <td>592</td>\n",
       "      <td>10398988</td>\n",
       "      <td>1</td>\n",
       "      <td>[711.2280555555556, 665.8227777777778, 644.008...</td>\n",
       "      <td>train</td>\n",
       "      <td>23</td>\n",
       "      <td>3622_23</td>\n",
       "      <td>train_362223</td>\n",
       "    </tr>\n",
       "    <tr>\n",
       "      <th>1583814</th>\n",
       "      <td>3622</td>\n",
       "      <td>577</td>\n",
       "      <td>10399344</td>\n",
       "      <td>0</td>\n",
       "      <td>[665.8227777777778, 69.93166666666667]</td>\n",
       "      <td>train</td>\n",
       "      <td>23</td>\n",
       "      <td>3622_23</td>\n",
       "      <td>train_362223</td>\n",
       "    </tr>\n",
       "  </tbody>\n",
       "</table>\n",
       "<p>1583815 rows × 9 columns</p>\n",
       "</div>"
      ],
      "text/plain": [
       "         userId  itemId  timestamp  y  \\\n",
       "0             0       0          0  0   \n",
       "1             0       7      15690  0   \n",
       "2             0      15      38426  0   \n",
       "3             0       5      45670  1   \n",
       "4             0      20      77618  0   \n",
       "...         ...     ...        ... ..   \n",
       "1583810    3622     579   10398504  1   \n",
       "1583811    3622     590   10398803  0   \n",
       "1583812    3622     591   10398827  1   \n",
       "1583813    3622     592   10398988  1   \n",
       "1583814    3622     577   10399344  0   \n",
       "\n",
       "                                       relational_interval    set  session_id  \\\n",
       "0                                                       []  train           0   \n",
       "1                                                       []  train           1   \n",
       "2                                                       []  train           2   \n",
       "3                                                    [0.0]  train           3   \n",
       "4                                                       []  train           4   \n",
       "...                                                    ...    ...         ...   \n",
       "1583810  [711.3533333333334, 665.9480555555556, 644.134...  train          23   \n",
       "1583811  [711.3533333333334, 665.9480555555556, 644.133...  train          23   \n",
       "1583812  [711.2280555555556, 665.8227777777778, 644.008...  train          23   \n",
       "1583813  [711.2280555555556, 665.8227777777778, 644.008...  train          23   \n",
       "1583814             [665.8227777777778, 69.93166666666667]  train          23   \n",
       "\n",
       "        global_session_id global_set_session_id  \n",
       "0                     0_0              train_00  \n",
       "1                     0_1              train_01  \n",
       "2                     0_2              train_02  \n",
       "3                     0_3              train_03  \n",
       "4                     0_4              train_04  \n",
       "...                   ...                   ...  \n",
       "1583810           3622_23          train_362223  \n",
       "1583811           3622_23          train_362223  \n",
       "1583812           3622_23          train_362223  \n",
       "1583813           3622_23          train_362223  \n",
       "1583814           3622_23          train_362223  \n",
       "\n",
       "[1583815 rows x 9 columns]"
      ]
     },
     "execution_count": 44,
     "metadata": {},
     "output_type": "execute_result"
    }
   ],
   "source": [
    "sessionized_df_overall\n"
   ]
  },
  {
   "cell_type": "code",
   "execution_count": null,
   "metadata": {},
   "outputs": [
    {
     "name": "stdout",
     "output_type": "stream",
     "text": [
      "Number of interactions per user session:\n",
      "set   userId\n",
      "test  0         14\n",
      "      1         13\n",
      "      2         22\n",
      "      3         21\n",
      "      4         14\n",
      "                ..\n",
      "val   3618      14\n",
      "      3619      41\n",
      "      3620      27\n",
      "      3621      15\n",
      "      3622      28\n",
      "Length: 10869, dtype: int64\n"
     ]
    }
   ],
   "source": [
    "# for each set, group each user (unique users in training set, unique users in val set, unique users in test set) and detect their sessions\n",
    "sessionized_df = df.groupby(['set', 'userId']).apply(detect_sessions).reset_index(drop=True)\n",
    "\n",
    "# Now group by set, user, and session_id to get number of sessions per set\n",
    "session_counts = sessionized_df.groupby(['set', 'userId']).size()\n",
    "\n",
    "\n",
    "\n",
    "print(\"Number of interactions per user session:\")\n",
    "print(session_counts)"
   ]
  },
  {
   "cell_type": "code",
   "execution_count": null,
   "metadata": {},
   "outputs": [
    {
     "name": "stdout",
     "output_type": "stream",
     "text": [
      "Filtered sessions:\n",
      "set    userId  session_id\n",
      "test   341     1             20\n",
      "       2078    7             27\n",
      "       2796    4             33\n",
      "       2988    0             22\n",
      "train  0       24            31\n",
      "                             ..\n",
      "       3622    21            32\n",
      "               22            30\n",
      "val    1343    4             21\n",
      "       2146    2             31\n",
      "       2758    3             23\n",
      "Length: 9753, dtype: int64\n"
     ]
    }
   ],
   "source": [
    "# only consider sessions with at least 'interaction_threshold' number of interactions\n",
    "interaction_threshold = 20\n",
    "filtered_sessions = session_counts[session_counts >= interaction_threshold]\n",
    "\n",
    "print(\"Filtered sessions:\")\n",
    "print(filtered_sessions)\n",
    "\n",
    "# check number of reps, how many items are repeated in the same \n",
    "# how many sessions of user on average and length of sessions\n",
    "# avg interactions per session + per item + per user\n"
   ]
  },
  {
   "cell_type": "code",
   "execution_count": null,
   "metadata": {},
   "outputs": [
    {
     "data": {
      "text/plain": [
       "userId  session_id\n",
       "0       24            31\n",
       "        25            20\n",
       "        26            29\n",
       "        27            31\n",
       "        28            20\n",
       "                      ..\n",
       "3622    1             29\n",
       "        5             23\n",
       "        9             22\n",
       "        21            32\n",
       "        22            30\n",
       "Length: 9746, dtype: int64"
      ]
     },
     "execution_count": 11,
     "metadata": {},
     "output_type": "execute_result"
    }
   ],
   "source": [
    "filtered_sessions['train']\n",
    "# avg number of sessions per user\n",
    "\n",
    "#min items per user 5, min sessions per user 5, maybe reduce it to 3\n",
    "\n",
    "#accumulative approach - weighted average, mean, etc. weighted sum\n",
    "\n",
    "# partial sequences \n",
    "# combination of embeddings\n",
    "\n",
    "#put into tables\n",
    "\n",
    "#compare latent spaces"
   ]
  },
  {
   "cell_type": "markdown",
   "metadata": {},
   "source": [
    "•\tTotal count of user-item interactions per set -> DONE\n",
    "•\tAverage count of user-item interactions per user -> DONE\n",
    "•\tAverage count of user-item interactions per user per set -> DONE\n",
    "•\tAverage count of user-item interactions per item -> DONE\n",
    "•\tAverage count of user-item interactions per item per set -> DONE\n",
    "•\tHow many repetitions in the whole dataset\n",
    "•\tHow many repetitions on average per user -> DONE\n",
    "Session-based measures\n",
    "•\tTotal number of sessions\n",
    "•\tAverage amount of sessions per user\n",
    "•\tAverage amount of sessions per user, per set\n",
    "•\tAverage amount of sessions an item is in\n",
    "•\tAverage amount of sessions an item is in, per session\n",
    "•\tHow many repetitions per user-session -> INTRA SESSION\n",
    "•\tHow many repetitions per user across sessions -> INTER SESSION\n",
    "•\tAverage length of user-session (timestamp wise)\n",
    "•\tAverage number of interactions within one user session"
   ]
  },
  {
   "cell_type": "markdown",
   "metadata": {},
   "source": [
    "## References\n",
    "\n",
    "[a] Session-aware recommendation paper\n",
    "\n",
    "[b] Ex2Vec paper"
   ]
  }
 ],
 "metadata": {
  "kernelspec": {
   "display_name": "supervised",
   "language": "python",
   "name": "python3"
  },
  "language_info": {
   "codemirror_mode": {
    "name": "ipython",
    "version": 3
   },
   "file_extension": ".py",
   "mimetype": "text/x-python",
   "name": "python",
   "nbconvert_exporter": "python",
   "pygments_lexer": "ipython3",
   "version": "3.10.11"
  }
 },
 "nbformat": 4,
 "nbformat_minor": 2
}
