{
 "cells": [
  {
   "cell_type": "markdown",
   "metadata": {},
   "source": [
    "# Practical Work in AI"
   ]
  },
  {
   "cell_type": "code",
   "execution_count": 1,
   "metadata": {},
   "outputs": [],
   "source": [
    "# installs necessary libraries\n",
    "\n",
    "#!pip install pandas"
   ]
  },
  {
   "cell_type": "code",
   "execution_count": 2,
   "metadata": {},
   "outputs": [],
   "source": [
    "# necessary imports for notebook to run\n",
    "import pandas as pd"
   ]
  },
  {
   "cell_type": "markdown",
   "metadata": {},
   "source": [
    "## 1. Dataset analysis"
   ]
  },
  {
   "cell_type": "markdown",
   "metadata": {},
   "source": [
    "### 1.1 Structure of processed.csv"
   ]
  },
  {
   "cell_type": "markdown",
   "metadata": {},
   "source": [
    "As a first step, certain statistics have to be observed on the given dataset in order to see if it is feasible to be sessionized and further used for training sequence-aware recommender systems models [a], such as GRU4Rec. In our work, a sessionized dataset is a dataset which has been split up into interaction sessions, where a specific user interacts with items. A set threshold determines when to split interactions into the next user session. A session always corresponds to one user, and one user can have multiple sessions.\n",
    "\n",
    "For the analysis, we are working with the \"processed.csv\" dataset, which contains user-item interactions and represents a pre-processed version of the \"new_release_stream.csv\" file. A single row in this file looks like the following:\n",
    "\n",
    "`28,60,188807,1,[0.0],train`\n",
    "\n",
    "Here, the user with ID 28 listened to the track with ID 60 at timestamp 188807 (measured in seconds from first consumption). The track was listened to over 80% of its length (y = 1). The time interval (measured in hours) between when user 28 interacted with item 60 this time, versus the previous times, is 0.0, meaning it is the first interaction from user 28 to track 60. Based on the train-test-val split done during pre-processing (see `preprocess.py`), this interaction is part of the training set. \n",
    "\n",
    "Repetitive behavior is measured via the relational interval column (here [0.0]). Hence, the following lines from the dataset:\n",
    "\n",
    "`28,60,188807,1,[0.0],train`\n",
    "\n",
    "`28,60,188977,1,\"[0.04722222222222222, 0.0]\",train`\n",
    "\n",
    "`28,60,189155,0,\"[0.09666666666666666, 0.049444444444444444]\",train`\n",
    "\n",
    "have the following meaning with regards to the repetitions:\n",
    "\n",
    "`28,60,188807,1,[0.0],train` = User 28 consumes item 60 for the first time, thus no previous consumptions logged in the relational interval\n",
    "\n",
    "`28,60,188977,1,\"[0.04722222222222222, 0.0]\",train` = User 28 consumed item 60 for the first time 188977-188807 = 170s / 60 / 60 = 0.047222hrs ago\n",
    "\n",
    "`28,60,189155,0,\"[0.09666666666666666, 0.049444444444444444]\",train` = User 28 consumed item 60 since the last time 189155-188977 = 178s / 60 / 60 = 0.049444hrs ago and for the first time 0.049444444444444444 + 0.04722222222222222 = 0.09666666666666666 hrs ago"
   ]
  },
  {
   "cell_type": "markdown",
   "metadata": {},
   "source": [
    "### 1.2 Statistical Analysis"
   ]
  },
  {
   "cell_type": "markdown",
   "metadata": {},
   "source": [
    "The analysis of the dataset is separated into two parts:\n",
    "\n",
    "- **Global measures**: e.g. average count of user-item interactions per set, average count of user-item interactions per item, etc.\n",
    "- **Session-based measures**: e.g. average number of sessions per user, average number of interactions per session, etc.\n",
    "\n",
    "Global measures are metrics which are interesting in terms of the whole dataset, without (yet) any focus on sessions. These statistics are based on the dataset as a whole. Session-based measures, as the name suggests, are evaluated on a previously sessionized dataset.\n",
    "\n",
    "We start by reading in the data:"
   ]
  },
  {
   "cell_type": "code",
   "execution_count": 3,
   "metadata": {},
   "outputs": [],
   "source": [
    "file_path = './data/processed.csv' # adjust as needed\n",
    "df = pd.read_csv(file_path)"
   ]
  },
  {
   "cell_type": "markdown",
   "metadata": {},
   "source": [
    "At first, we focus on global measures which concern the whole dataset."
   ]
  },
  {
   "cell_type": "markdown",
   "metadata": {},
   "source": [
    "#### 1.2.1 Global measures\n",
    "\n",
    "We observe the number of interactions, unique users and unique items in the dataset:"
   ]
  },
  {
   "cell_type": "code",
   "execution_count": 4,
   "metadata": {},
   "outputs": [
    {
     "name": "stdout",
     "output_type": "stream",
     "text": [
      "Number of user-item interactions in total:  1583815\n",
      "Number of unique users:  3623\n",
      "Number of unique songs:  879\n"
     ]
    }
   ],
   "source": [
    "print(\"Number of user-item interactions in total: \", len(df))\n",
    "print(\"Number of unique users: \", df.userId.nunique())\n",
    "print(\"Number of unique songs: \", df.itemId.nunique())"
   ]
  },
  {
   "cell_type": "markdown",
   "metadata": {},
   "source": [
    "These numbers are consistent with the reportings from [b], after the authors implemented a $k^{item}$ and a $k^{user}$ pre-processing step, where each user has to have interacted with at least $k^{item}$ items and every item has to have been consumed by $k^{user}$ users. They decided on $k^{item} = k^{user} = 30$. For details, see [b], pp. 975."
   ]
  },
  {
   "cell_type": "markdown",
   "metadata": {},
   "source": [
    "##### **Number of total user-item interactions per set**"
   ]
  },
  {
   "cell_type": "markdown",
   "metadata": {},
   "source": [
    "The following table shows the number of interactions per set (training, validation, and test). These are pre-determined by the 'set'-column, which is filled during the pre-processing step."
   ]
  },
  {
   "cell_type": "code",
   "execution_count": 5,
   "metadata": {},
   "outputs": [
    {
     "name": "stdout",
     "output_type": "stream",
     "text": [
      "Number of user-item interactions for training-, test-, and validation set:\n"
     ]
    },
    {
     "data": {
      "text/html": [
       "<div>\n",
       "<style scoped>\n",
       "    .dataframe tbody tr th:only-of-type {\n",
       "        vertical-align: middle;\n",
       "    }\n",
       "\n",
       "    .dataframe tbody tr th {\n",
       "        vertical-align: top;\n",
       "    }\n",
       "\n",
       "    .dataframe thead th {\n",
       "        text-align: right;\n",
       "    }\n",
       "</style>\n",
       "<table border=\"1\" class=\"dataframe\">\n",
       "  <thead>\n",
       "    <tr style=\"text-align: right;\">\n",
       "      <th></th>\n",
       "      <th>index</th>\n",
       "      <th>n_interactions</th>\n",
       "    </tr>\n",
       "  </thead>\n",
       "  <tbody>\n",
       "    <tr>\n",
       "      <th>0</th>\n",
       "      <td>train</td>\n",
       "      <td>1423927</td>\n",
       "    </tr>\n",
       "    <tr>\n",
       "      <th>1</th>\n",
       "      <td>test</td>\n",
       "      <td>80166</td>\n",
       "    </tr>\n",
       "    <tr>\n",
       "      <th>2</th>\n",
       "      <td>val</td>\n",
       "      <td>79722</td>\n",
       "    </tr>\n",
       "  </tbody>\n",
       "</table>\n",
       "</div>"
      ],
      "text/plain": [
       "   index  n_interactions\n",
       "0  train         1423927\n",
       "1   test           80166\n",
       "2    val           79722"
      ]
     },
     "execution_count": 5,
     "metadata": {},
     "output_type": "execute_result"
    }
   ],
   "source": [
    "# count number of rows per set, aka count size of training, test and validation dataset\n",
    "set_counts = df['set'].value_counts()\n",
    "\n",
    "# create df outof series and rename columns accordingly\n",
    "set_counts = set_counts.reset_index(name='n_interactions')\n",
    "\n",
    "print(\"Number of user-item interactions for training-, test-, and validation set:\")\n",
    "set_counts\n"
   ]
  },
  {
   "cell_type": "markdown",
   "metadata": {},
   "source": [
    "As we can see, after splitting the data, we have train = ~1.4m, test = ~80.1k and validation = ~79.7k interactions. "
   ]
  },
  {
   "cell_type": "markdown",
   "metadata": {},
   "source": [
    "##### **Interest score distribution across sets**"
   ]
  },
  {
   "cell_type": "markdown",
   "metadata": {},
   "source": [
    "We can now split up the number of interactions based on various criteria we want to observe. For example, this table shows the interest distribution across the different sets. The authors use the $y$ variable, where $y=1$ if the user has listened to more than 80% of the track, and $y=0$ otherwise, as target values for the interest. Namely, if $y=1$, then the interest score for that interaction is equal to 1, meaning the user is interested in the item. These are then used as the target variables in the test set. During training, interest scores ranging from 0 to 1 are obtained. These are then converted to 1 if the score >= 0.5, or 0 otherwise; and then compared to the target interest scores during evaluation."
   ]
  },
  {
   "cell_type": "code",
   "execution_count": 6,
   "metadata": {},
   "outputs": [
    {
     "data": {
      "text/html": [
       "<div>\n",
       "<style scoped>\n",
       "    .dataframe tbody tr th:only-of-type {\n",
       "        vertical-align: middle;\n",
       "    }\n",
       "\n",
       "    .dataframe tbody tr th {\n",
       "        vertical-align: top;\n",
       "    }\n",
       "\n",
       "    .dataframe thead th {\n",
       "        text-align: right;\n",
       "    }\n",
       "</style>\n",
       "<table border=\"1\" class=\"dataframe\">\n",
       "  <thead>\n",
       "    <tr style=\"text-align: right;\">\n",
       "      <th></th>\n",
       "      <th>set</th>\n",
       "      <th>y</th>\n",
       "      <th>n_interactions</th>\n",
       "    </tr>\n",
       "  </thead>\n",
       "  <tbody>\n",
       "    <tr>\n",
       "      <th>0</th>\n",
       "      <td>test</td>\n",
       "      <td>0</td>\n",
       "      <td>36564</td>\n",
       "    </tr>\n",
       "    <tr>\n",
       "      <th>1</th>\n",
       "      <td>test</td>\n",
       "      <td>1</td>\n",
       "      <td>43602</td>\n",
       "    </tr>\n",
       "    <tr>\n",
       "      <th>2</th>\n",
       "      <td>train</td>\n",
       "      <td>0</td>\n",
       "      <td>664080</td>\n",
       "    </tr>\n",
       "    <tr>\n",
       "      <th>3</th>\n",
       "      <td>train</td>\n",
       "      <td>1</td>\n",
       "      <td>759847</td>\n",
       "    </tr>\n",
       "    <tr>\n",
       "      <th>4</th>\n",
       "      <td>val</td>\n",
       "      <td>0</td>\n",
       "      <td>36453</td>\n",
       "    </tr>\n",
       "    <tr>\n",
       "      <th>5</th>\n",
       "      <td>val</td>\n",
       "      <td>1</td>\n",
       "      <td>43269</td>\n",
       "    </tr>\n",
       "  </tbody>\n",
       "</table>\n",
       "</div>"
      ],
      "text/plain": [
       "     set  y  n_interactions\n",
       "0   test  0           36564\n",
       "1   test  1           43602\n",
       "2  train  0          664080\n",
       "3  train  1          759847\n",
       "4    val  0           36453\n",
       "5    val  1           43269"
      ]
     },
     "execution_count": 6,
     "metadata": {},
     "output_type": "execute_result"
    }
   ],
   "source": [
    "listening_events = df.groupby(['set', 'y']).size().reset_index(name='n_interactions')\n",
    "listening_events"
   ]
  },
  {
   "cell_type": "markdown",
   "metadata": {},
   "source": [
    "We observe a pretty even distribution of the binary interest variable across the sets, with slightly more \"interested\" interactions than \"not interested\" interactions."
   ]
  },
  {
   "cell_type": "markdown",
   "metadata": {},
   "source": [
    "##### **Average number of interactions per user, in total and per set**"
   ]
  },
  {
   "cell_type": "markdown",
   "metadata": {},
   "source": [
    "The interactions can also be averaged per user or per item, and further split into a more useful statistic - the average number of interactions per user/item for each set. This lets us know if each set has enough data per user/item in it. We also observe how many tracks the user is interested in within all interactions."
   ]
  },
  {
   "cell_type": "code",
   "execution_count": 7,
   "metadata": {},
   "outputs": [
    {
     "name": "stdout",
     "output_type": "stream",
     "text": [
      "On average, a user has 437.2 item interactions in total with the following interest distribution:\n"
     ]
    },
    {
     "data": {
      "text/html": [
       "<div>\n",
       "<style scoped>\n",
       "    .dataframe tbody tr th:only-of-type {\n",
       "        vertical-align: middle;\n",
       "    }\n",
       "\n",
       "    .dataframe tbody tr th {\n",
       "        vertical-align: top;\n",
       "    }\n",
       "\n",
       "    .dataframe thead th {\n",
       "        text-align: right;\n",
       "    }\n",
       "</style>\n",
       "<table border=\"1\" class=\"dataframe\">\n",
       "  <thead>\n",
       "    <tr style=\"text-align: right;\">\n",
       "      <th></th>\n",
       "      <th>y</th>\n",
       "      <th>n_interactions</th>\n",
       "    </tr>\n",
       "  </thead>\n",
       "  <tbody>\n",
       "    <tr>\n",
       "      <th>0</th>\n",
       "      <td>0</td>\n",
       "      <td>203.4</td>\n",
       "    </tr>\n",
       "    <tr>\n",
       "      <th>1</th>\n",
       "      <td>1</td>\n",
       "      <td>233.7</td>\n",
       "    </tr>\n",
       "  </tbody>\n",
       "</table>\n",
       "</div>"
      ],
      "text/plain": [
       "   y  n_interactions\n",
       "0  0           203.4\n",
       "1  1           233.7"
      ]
     },
     "execution_count": 7,
     "metadata": {},
     "output_type": "execute_result"
    }
   ],
   "source": [
    "user_interaction_counts = df.groupby('userId').size() # per userId, count the interactions\n",
    "avg_user_counts = user_interaction_counts.mean() # average interaction counts over all users\n",
    "\n",
    "print(f\"On average, a user has {round(avg_user_counts, 1)} item interactions in total with the following interest distribution:\")\n",
    "\n",
    "user_interaction_counts_interest_scores = df.groupby(['userId', 'y']).size().reset_index(name='n_interactions')\n",
    "user_interaction_counts_interest_scores.groupby('y')['n_interactions'].mean().round(1).reset_index(name='n_interactions')"
   ]
  },
  {
   "cell_type": "markdown",
   "metadata": {},
   "source": [
    "On average, users have around 437 interactions and actually listen to (= are interested in) roughly half of the tracks of all interactions."
   ]
  },
  {
   "cell_type": "code",
   "execution_count": 8,
   "metadata": {},
   "outputs": [
    {
     "name": "stdout",
     "output_type": "stream",
     "text": [
      "On average, a user has the following numbers of interactions per set:\n"
     ]
    },
    {
     "data": {
      "text/html": [
       "<div>\n",
       "<style scoped>\n",
       "    .dataframe tbody tr th:only-of-type {\n",
       "        vertical-align: middle;\n",
       "    }\n",
       "\n",
       "    .dataframe tbody tr th {\n",
       "        vertical-align: top;\n",
       "    }\n",
       "\n",
       "    .dataframe thead th {\n",
       "        text-align: right;\n",
       "    }\n",
       "</style>\n",
       "<table border=\"1\" class=\"dataframe\">\n",
       "  <thead>\n",
       "    <tr style=\"text-align: right;\">\n",
       "      <th></th>\n",
       "      <th>set</th>\n",
       "      <th>y</th>\n",
       "      <th>n_interactions</th>\n",
       "    </tr>\n",
       "  </thead>\n",
       "  <tbody>\n",
       "    <tr>\n",
       "      <th>0</th>\n",
       "      <td>test</td>\n",
       "      <td>0</td>\n",
       "      <td>10.1</td>\n",
       "    </tr>\n",
       "    <tr>\n",
       "      <th>1</th>\n",
       "      <td>test</td>\n",
       "      <td>1</td>\n",
       "      <td>12.0</td>\n",
       "    </tr>\n",
       "    <tr>\n",
       "      <th>2</th>\n",
       "      <td>train</td>\n",
       "      <td>0</td>\n",
       "      <td>183.3</td>\n",
       "    </tr>\n",
       "    <tr>\n",
       "      <th>3</th>\n",
       "      <td>train</td>\n",
       "      <td>1</td>\n",
       "      <td>209.7</td>\n",
       "    </tr>\n",
       "    <tr>\n",
       "      <th>4</th>\n",
       "      <td>val</td>\n",
       "      <td>0</td>\n",
       "      <td>10.1</td>\n",
       "    </tr>\n",
       "    <tr>\n",
       "      <th>5</th>\n",
       "      <td>val</td>\n",
       "      <td>1</td>\n",
       "      <td>11.9</td>\n",
       "    </tr>\n",
       "  </tbody>\n",
       "</table>\n",
       "</div>"
      ],
      "text/plain": [
       "     set  y  n_interactions\n",
       "0   test  0            10.1\n",
       "1   test  1            12.0\n",
       "2  train  0           183.3\n",
       "3  train  1           209.7\n",
       "4    val  0            10.1\n",
       "5    val  1            11.9"
      ]
     },
     "execution_count": 8,
     "metadata": {},
     "output_type": "execute_result"
    }
   ],
   "source": [
    "user_interaction_counts_per_set = df.groupby(['set', 'userId', 'y']).size().reset_index(name='n_interactions')\n",
    "\n",
    "user_interaction_counts_per_set = user_interaction_counts_per_set.groupby(['set', 'y'])['n_interactions'].mean().round(1).reset_index(name='n_interactions')\n",
    "\n",
    "print(\"On average, a user has the following numbers of interactions per set:\")\n",
    "user_interaction_counts_per_set"
   ]
  },
  {
   "cell_type": "markdown",
   "metadata": {},
   "source": [
    "##### **Average number of interactions per item, in total and per set**"
   ]
  },
  {
   "cell_type": "code",
   "execution_count": 9,
   "metadata": {},
   "outputs": [
    {
     "name": "stdout",
     "output_type": "stream",
     "text": [
      "On average, an item is interacted with 1801.8 times, split into the following interest distribution:\n"
     ]
    },
    {
     "data": {
      "text/html": [
       "<div>\n",
       "<style scoped>\n",
       "    .dataframe tbody tr th:only-of-type {\n",
       "        vertical-align: middle;\n",
       "    }\n",
       "\n",
       "    .dataframe tbody tr th {\n",
       "        vertical-align: top;\n",
       "    }\n",
       "\n",
       "    .dataframe thead th {\n",
       "        text-align: right;\n",
       "    }\n",
       "</style>\n",
       "<table border=\"1\" class=\"dataframe\">\n",
       "  <thead>\n",
       "    <tr style=\"text-align: right;\">\n",
       "      <th></th>\n",
       "      <th>y</th>\n",
       "      <th>n_interactions</th>\n",
       "    </tr>\n",
       "  </thead>\n",
       "  <tbody>\n",
       "    <tr>\n",
       "      <th>0</th>\n",
       "      <td>0</td>\n",
       "      <td>838.6</td>\n",
       "    </tr>\n",
       "    <tr>\n",
       "      <th>1</th>\n",
       "      <td>1</td>\n",
       "      <td>963.3</td>\n",
       "    </tr>\n",
       "  </tbody>\n",
       "</table>\n",
       "</div>"
      ],
      "text/plain": [
       "   y  n_interactions\n",
       "0  0           838.6\n",
       "1  1           963.3"
      ]
     },
     "execution_count": 9,
     "metadata": {},
     "output_type": "execute_result"
    }
   ],
   "source": [
    "item_interaction_counts = df['itemId'].value_counts() # per track, count the interactions\n",
    "avg_item_counts = item_interaction_counts.mean() # average interaction counts over all items\n",
    "\n",
    "print(f\"On average, an item is interacted with {round(avg_item_counts, 1)} times, split into the following interest distribution:\")\n",
    "\n",
    "item_interaction_counts_interest_scores = df.groupby(['itemId', 'y']).size().reset_index(name='n_interactions')\n",
    "item_interaction_counts_interest_scores.groupby('y')['n_interactions'].mean().round(1).reset_index(name='n_interactions')"
   ]
  },
  {
   "cell_type": "code",
   "execution_count": 53,
   "metadata": {},
   "outputs": [
    {
     "name": "stdout",
     "output_type": "stream",
     "text": [
      "On average, an item is interacted with the following number of times per set:\n"
     ]
    },
    {
     "data": {
      "text/html": [
       "<div>\n",
       "<style scoped>\n",
       "    .dataframe tbody tr th:only-of-type {\n",
       "        vertical-align: middle;\n",
       "    }\n",
       "\n",
       "    .dataframe tbody tr th {\n",
       "        vertical-align: top;\n",
       "    }\n",
       "\n",
       "    .dataframe thead th {\n",
       "        text-align: right;\n",
       "    }\n",
       "</style>\n",
       "<table border=\"1\" class=\"dataframe\">\n",
       "  <thead>\n",
       "    <tr style=\"text-align: right;\">\n",
       "      <th></th>\n",
       "      <th>set</th>\n",
       "      <th>y</th>\n",
       "      <th>n_interactions</th>\n",
       "    </tr>\n",
       "  </thead>\n",
       "  <tbody>\n",
       "    <tr>\n",
       "      <th>0</th>\n",
       "      <td>test</td>\n",
       "      <td>0</td>\n",
       "      <td>44.7</td>\n",
       "    </tr>\n",
       "    <tr>\n",
       "      <th>1</th>\n",
       "      <td>test</td>\n",
       "      <td>1</td>\n",
       "      <td>53.3</td>\n",
       "    </tr>\n",
       "    <tr>\n",
       "      <th>2</th>\n",
       "      <td>train</td>\n",
       "      <td>0</td>\n",
       "      <td>755.5</td>\n",
       "    </tr>\n",
       "    <tr>\n",
       "      <th>3</th>\n",
       "      <td>train</td>\n",
       "      <td>1</td>\n",
       "      <td>864.4</td>\n",
       "    </tr>\n",
       "    <tr>\n",
       "      <th>4</th>\n",
       "      <td>val</td>\n",
       "      <td>0</td>\n",
       "      <td>45.0</td>\n",
       "    </tr>\n",
       "    <tr>\n",
       "      <th>5</th>\n",
       "      <td>val</td>\n",
       "      <td>1</td>\n",
       "      <td>53.4</td>\n",
       "    </tr>\n",
       "  </tbody>\n",
       "</table>\n",
       "</div>"
      ],
      "text/plain": [
       "     set  y  n_interactions\n",
       "0   test  0            44.7\n",
       "1   test  1            53.3\n",
       "2  train  0           755.5\n",
       "3  train  1           864.4\n",
       "4    val  0            45.0\n",
       "5    val  1            53.4"
      ]
     },
     "execution_count": 53,
     "metadata": {},
     "output_type": "execute_result"
    }
   ],
   "source": [
    "item_interaction_counts_per_set = df.groupby(['set', 'itemId', 'y']).size()\n",
    "\n",
    "item_interaction_counts_per_set = item_interaction_counts_per_set.groupby(['set', 'y']).mean().round(1).reset_index(name='n_interactions')\n",
    "\n",
    "print(\"On average, an item is interacted with the following number of times per set:\")\n",
    "item_interaction_counts_per_set"
   ]
  },
  {
   "cell_type": "markdown",
   "metadata": {},
   "source": [
    "Here we also observe that a slight majority of consumed tracks are listened to >80% of their duration."
   ]
  },
  {
   "cell_type": "markdown",
   "metadata": {},
   "source": [
    "##### **Average count of repetitions across all users, in total and per set**"
   ]
  },
  {
   "cell_type": "markdown",
   "metadata": {},
   "source": [
    "Since our work focuses on a user's repetitive behavior, another statistic that we observe is the number of repetitions "
   ]
  },
  {
   "cell_type": "code",
   "execution_count": 68,
   "metadata": {},
   "outputs": [
    {
     "name": "stdout",
     "output_type": "stream",
     "text": [
      "On average, a user repeats one particular track with the following distribution:\n"
     ]
    },
    {
     "data": {
      "text/html": [
       "<div>\n",
       "<style scoped>\n",
       "    .dataframe tbody tr th:only-of-type {\n",
       "        vertical-align: middle;\n",
       "    }\n",
       "\n",
       "    .dataframe tbody tr th {\n",
       "        vertical-align: top;\n",
       "    }\n",
       "\n",
       "    .dataframe thead th {\n",
       "        text-align: right;\n",
       "    }\n",
       "</style>\n",
       "<table border=\"1\" class=\"dataframe\">\n",
       "  <thead>\n",
       "    <tr style=\"text-align: right;\">\n",
       "      <th></th>\n",
       "      <th>y</th>\n",
       "      <th>n_interactions</th>\n",
       "    </tr>\n",
       "  </thead>\n",
       "  <tbody>\n",
       "    <tr>\n",
       "      <th>0</th>\n",
       "      <td>0</td>\n",
       "      <td>5.1</td>\n",
       "    </tr>\n",
       "    <tr>\n",
       "      <th>1</th>\n",
       "      <td>1</td>\n",
       "      <td>5.8</td>\n",
       "    </tr>\n",
       "  </tbody>\n",
       "</table>\n",
       "</div>"
      ],
      "text/plain": [
       "   y  n_interactions\n",
       "0  0             5.1\n",
       "1  1             5.8"
      ]
     },
     "execution_count": 68,
     "metadata": {},
     "output_type": "execute_result"
    }
   ],
   "source": [
    "user_item_same_pairs_counts = df.groupby(['userId', 'itemId', 'y']).size().reset_index(name='n_interactions') # counts the number of rows per same user-item pair\n",
    "\n",
    "average_repetitions = user_item_same_pairs_counts.groupby('y')['n_interactions'].mean().round(1).reset_index(name='n_interactions') # averages them\n",
    "\n",
    "print(f\"On average, a user repeats one particular track with the following distribution:\")\n",
    "average_repetitions"
   ]
  },
  {
   "cell_type": "code",
   "execution_count": 12,
   "metadata": {},
   "outputs": [
    {
     "name": "stdout",
     "output_type": "stream",
     "text": [
      "Per set, on average, a user repeats one particular track the following number of times: \n",
      " set\n",
      "test     11.1\n",
      "train    10.8\n",
      "val      11.0\n",
      "dtype: float64\n"
     ]
    }
   ],
   "source": [
    "user_item_same_pairs_counts_per_set = df.groupby(['set', 'userId', 'itemId']).size() # counts the number of same user-item pairs per set\n",
    "\n",
    "average_repetitions_per_set = user_item_same_pairs_counts_per_set.groupby(level='set').mean().round(1) # averages them for each set\n",
    "\n",
    "print(\"Per set, on average, a user repeats one particular track the following number of times: \\n\", average_repetitions_per_set)"
   ]
  },
  {
   "cell_type": "markdown",
   "metadata": {},
   "source": [
    "#### 1.2.2 Session-based measures"
   ]
  },
  {
   "cell_type": "code",
   "execution_count": 13,
   "metadata": {},
   "outputs": [],
   "source": [
    "# define cutoff value for sessionizing (here, 30 mins (1800s) is taken)\n",
    "THRESHOLD = 1800\n",
    "def detect_sessions(unique_user_interactions, threshold=THRESHOLD):\n",
    "    # sort interactions chronologically (should be given by dataset anyway, this is just a precaution)\n",
    "    unique_user_interactions = unique_user_interactions.sort_values('timestamp')\n",
    "\n",
    "    # calc time differences between consecutive timestamps timestamp_j - timestamp_i\n",
    "    time_diff = unique_user_interactions['timestamp'].diff()\n",
    "\n",
    "    # sums up separate sessions - splits to next group when a new session starts (time difference > 30 mins), otherwise it stays the same - this can be used as IDs/index to mark which rows in sorted unique_user_interactions belong to which session\n",
    "    sessions = (time_diff > threshold).cumsum()\n",
    "    unique_user_interactions['session_id'] = sessions\n",
    "    return unique_user_interactions"
   ]
  },
  {
   "cell_type": "code",
   "execution_count": 14,
   "metadata": {},
   "outputs": [],
   "source": [
    "# assign session id's based on unique user's interactions and threshold\n",
    "sessionized_df_overall = df.groupby(['userId']).apply(detect_sessions).reset_index(drop=True)\n",
    "\n",
    "# for each set, group each user (unique users in training set, unique users in val set, unique users in test set) and detect their sessions\n",
    "sessionized_df = df.groupby(['set', 'userId']).apply(detect_sessions).reset_index(drop=True)"
   ]
  },
  {
   "cell_type": "code",
   "execution_count": 15,
   "metadata": {},
   "outputs": [
    {
     "data": {
      "text/html": [
       "<div>\n",
       "<style scoped>\n",
       "    .dataframe tbody tr th:only-of-type {\n",
       "        vertical-align: middle;\n",
       "    }\n",
       "\n",
       "    .dataframe tbody tr th {\n",
       "        vertical-align: top;\n",
       "    }\n",
       "\n",
       "    .dataframe thead th {\n",
       "        text-align: right;\n",
       "    }\n",
       "</style>\n",
       "<table border=\"1\" class=\"dataframe\">\n",
       "  <thead>\n",
       "    <tr style=\"text-align: right;\">\n",
       "      <th></th>\n",
       "      <th>userId</th>\n",
       "      <th>itemId</th>\n",
       "      <th>timestamp</th>\n",
       "      <th>y</th>\n",
       "      <th>relational_interval</th>\n",
       "      <th>set</th>\n",
       "      <th>session_id</th>\n",
       "    </tr>\n",
       "  </thead>\n",
       "  <tbody>\n",
       "    <tr>\n",
       "      <th>0</th>\n",
       "      <td>0</td>\n",
       "      <td>14</td>\n",
       "      <td>1296206</td>\n",
       "      <td>1</td>\n",
       "      <td>[0.0]</td>\n",
       "      <td>test</td>\n",
       "      <td>0</td>\n",
       "    </tr>\n",
       "    <tr>\n",
       "      <th>1</th>\n",
       "      <td>0</td>\n",
       "      <td>298</td>\n",
       "      <td>1326351</td>\n",
       "      <td>1</td>\n",
       "      <td>[0.0]</td>\n",
       "      <td>test</td>\n",
       "      <td>1</td>\n",
       "    </tr>\n",
       "    <tr>\n",
       "      <th>2</th>\n",
       "      <td>0</td>\n",
       "      <td>14</td>\n",
       "      <td>1449841</td>\n",
       "      <td>1</td>\n",
       "      <td>[42.67638888888889, 0.0]</td>\n",
       "      <td>test</td>\n",
       "      <td>2</td>\n",
       "    </tr>\n",
       "    <tr>\n",
       "      <th>3</th>\n",
       "      <td>0</td>\n",
       "      <td>14</td>\n",
       "      <td>1450319</td>\n",
       "      <td>0</td>\n",
       "      <td>[42.80916666666667, 0.13277777777777777]</td>\n",
       "      <td>test</td>\n",
       "      <td>2</td>\n",
       "    </tr>\n",
       "    <tr>\n",
       "      <th>4</th>\n",
       "      <td>0</td>\n",
       "      <td>14</td>\n",
       "      <td>2895492</td>\n",
       "      <td>1</td>\n",
       "      <td>[444.24611111111113, 401.5697222222222, 0.0]</td>\n",
       "      <td>test</td>\n",
       "      <td>3</td>\n",
       "    </tr>\n",
       "    <tr>\n",
       "      <th>...</th>\n",
       "      <td>...</td>\n",
       "      <td>...</td>\n",
       "      <td>...</td>\n",
       "      <td>...</td>\n",
       "      <td>...</td>\n",
       "      <td>...</td>\n",
       "      <td>...</td>\n",
       "    </tr>\n",
       "    <tr>\n",
       "      <th>1583810</th>\n",
       "      <td>3622</td>\n",
       "      <td>559</td>\n",
       "      <td>9968460</td>\n",
       "      <td>1</td>\n",
       "      <td>[597.9216666666666, 593.5372222222222, 572.214...</td>\n",
       "      <td>val</td>\n",
       "      <td>18</td>\n",
       "    </tr>\n",
       "    <tr>\n",
       "      <th>1583811</th>\n",
       "      <td>3622</td>\n",
       "      <td>559</td>\n",
       "      <td>10140227</td>\n",
       "      <td>1</td>\n",
       "      <td>[645.6347222222222, 641.2502777777778, 619.927...</td>\n",
       "      <td>val</td>\n",
       "      <td>19</td>\n",
       "    </tr>\n",
       "    <tr>\n",
       "      <th>1583812</th>\n",
       "      <td>3622</td>\n",
       "      <td>584</td>\n",
       "      <td>10144708</td>\n",
       "      <td>1</td>\n",
       "      <td>[641.2966666666666, 595.9677777777778, 595.891...</td>\n",
       "      <td>val</td>\n",
       "      <td>20</td>\n",
       "    </tr>\n",
       "    <tr>\n",
       "      <th>1583813</th>\n",
       "      <td>3622</td>\n",
       "      <td>559</td>\n",
       "      <td>10391098</td>\n",
       "      <td>1</td>\n",
       "      <td>[715.3211111111111, 710.9366666666666, 689.614...</td>\n",
       "      <td>val</td>\n",
       "      <td>21</td>\n",
       "    </tr>\n",
       "    <tr>\n",
       "      <th>1583814</th>\n",
       "      <td>3622</td>\n",
       "      <td>584</td>\n",
       "      <td>10396691</td>\n",
       "      <td>1</td>\n",
       "      <td>[711.2919444444444, 665.9630555555556, 665.886...</td>\n",
       "      <td>val</td>\n",
       "      <td>22</td>\n",
       "    </tr>\n",
       "  </tbody>\n",
       "</table>\n",
       "<p>1583815 rows × 7 columns</p>\n",
       "</div>"
      ],
      "text/plain": [
       "         userId  itemId  timestamp  y  \\\n",
       "0             0      14    1296206  1   \n",
       "1             0     298    1326351  1   \n",
       "2             0      14    1449841  1   \n",
       "3             0      14    1450319  0   \n",
       "4             0      14    2895492  1   \n",
       "...         ...     ...        ... ..   \n",
       "1583810    3622     559    9968460  1   \n",
       "1583811    3622     559   10140227  1   \n",
       "1583812    3622     584   10144708  1   \n",
       "1583813    3622     559   10391098  1   \n",
       "1583814    3622     584   10396691  1   \n",
       "\n",
       "                                       relational_interval   set  session_id  \n",
       "0                                                    [0.0]  test           0  \n",
       "1                                                    [0.0]  test           1  \n",
       "2                                 [42.67638888888889, 0.0]  test           2  \n",
       "3                 [42.80916666666667, 0.13277777777777777]  test           2  \n",
       "4             [444.24611111111113, 401.5697222222222, 0.0]  test           3  \n",
       "...                                                    ...   ...         ...  \n",
       "1583810  [597.9216666666666, 593.5372222222222, 572.214...   val          18  \n",
       "1583811  [645.6347222222222, 641.2502777777778, 619.927...   val          19  \n",
       "1583812  [641.2966666666666, 595.9677777777778, 595.891...   val          20  \n",
       "1583813  [715.3211111111111, 710.9366666666666, 689.614...   val          21  \n",
       "1583814  [711.2919444444444, 665.9630555555556, 665.886...   val          22  \n",
       "\n",
       "[1583815 rows x 7 columns]"
      ]
     },
     "execution_count": 15,
     "metadata": {},
     "output_type": "execute_result"
    }
   ],
   "source": [
    "sessionized_df"
   ]
  },
  {
   "cell_type": "code",
   "execution_count": 16,
   "metadata": {},
   "outputs": [
    {
     "name": "stdout",
     "output_type": "stream",
     "text": [
      "      userId  itemId  timestamp  y                       relational_interval  \\\n",
      "2411       3       3       8076  0                                        []   \n",
      "2412       3       6     196538  0                                        []   \n",
      "2413       3      49     242578  1                                     [0.0]   \n",
      "2414       3      30     301625  0                                        []   \n",
      "2415       3      88     317156  0                                        []   \n",
      "...      ...     ...        ... ..                                       ...   \n",
      "3676       3      61    5152873  0                      [1011.2397222222222]   \n",
      "3677       3      61    5152952  0                      [1011.2616666666667]   \n",
      "3678       3     298    5153050  0                      [1011.3916666666667]   \n",
      "3679       3     278    5153053  0  [458.37694444444446, 18.959722222222222]   \n",
      "3680       3     298    5153134  0                                [1011.415]   \n",
      "\n",
      "        set  session_id  \n",
      "2411  train           0  \n",
      "2412  train           1  \n",
      "2413  train           2  \n",
      "2414  train           3  \n",
      "2415  train           4  \n",
      "...     ...         ...  \n",
      "3676  train         142  \n",
      "3677  train         142  \n",
      "3678  train         142  \n",
      "3679  train         142  \n",
      "3680  train         142  \n",
      "\n",
      "[1270 rows x 7 columns]\n"
     ]
    }
   ],
   "source": [
    "# Filter the sessionized DataFrame for user with userId 2\n",
    "user_sessions = sessionized_df_overall[sessionized_df_overall['userId'] == 3]\n",
    "\n",
    "# Display all sessions for this user\n",
    "print(user_sessions)"
   ]
  },
  {
   "cell_type": "markdown",
   "metadata": {},
   "source": [
    "##### **Totel number of sessions in the dataset**"
   ]
  },
  {
   "cell_type": "code",
   "execution_count": 17,
   "metadata": {},
   "outputs": [
    {
     "name": "stdout",
     "output_type": "stream",
     "text": [
      "In total, the dataset consists of 311509 sessions.\n"
     ]
    }
   ],
   "source": [
    "# group number of sessions per user and sum them up to get total amount of sessions - this way, duplicate session IDs across users are permitted\n",
    "n_sessions_total = len(sessionized_df_overall.groupby(['userId', 'session_id']).size())\n",
    "\n",
    "print(f\"In total, the dataset consists of {n_sessions_total} sessions.\")"
   ]
  },
  {
   "cell_type": "markdown",
   "metadata": {},
   "source": [
    "##### **Average number of sessions per user, in total and per set**"
   ]
  },
  {
   "cell_type": "code",
   "execution_count": 18,
   "metadata": {},
   "outputs": [
    {
     "name": "stdout",
     "output_type": "stream",
     "text": [
      "On average, a user has 86.0 sessions.\n"
     ]
    }
   ],
   "source": [
    "# count id's across users and calculate average of that count across all users\n",
    "session_counts_user_overall = sessionized_df_overall.groupby('userId')['session_id'].nunique().mean().round(1)\n",
    "\n",
    "print(f\"On average, a user has {session_counts_user_overall} sessions.\")"
   ]
  },
  {
   "cell_type": "code",
   "execution_count": 19,
   "metadata": {},
   "outputs": [
    {
     "name": "stdout",
     "output_type": "stream",
     "text": [
      "Per set, a user has on average the following number of sessions: \n",
      " set\n",
      "test     16.0\n",
      "train    82.6\n",
      "val      15.9\n",
      "Name: session_id, dtype: float64\n"
     ]
    }
   ],
   "source": [
    "# count number of sessions per user per set\n",
    "session_counts = sessionized_df.groupby(['set', 'userId'])['session_id'].nunique()\n",
    "\n",
    "# averaging\n",
    "average_session_counts_per_set = session_counts.groupby(level='set').mean().round(1)\n",
    "\n",
    "print(\"Per set, a user has on average the following number of sessions: \\n\", average_session_counts_per_set)"
   ]
  },
  {
   "cell_type": "code",
   "execution_count": 20,
   "metadata": {},
   "outputs": [
    {
     "name": "stdout",
     "output_type": "stream",
     "text": [
      "On average, each item appears in 1341.8 sessions.\n"
     ]
    }
   ],
   "source": [
    "# create global session id to account for the fact that while session id's are unique per user, they are not unique globally, each global session id exactly describes one user in a specific session and is not the same across multiple users\n",
    "sessionized_df_overall['global_session_id'] = sessionized_df_overall['userId'].astype(str) + \"_\" + sessionized_df_overall['session_id'].astype(str)\n",
    "\n",
    "# group by itemId and count the sessions for each item\n",
    "item_sessions_count = sessionized_df_overall.groupby('itemId')['global_session_id'].nunique()\n",
    "\n",
    "# average sessions per item\n",
    "avg_sessions_per_item = item_sessions_count.mean().round(1)\n",
    "\n",
    "print(f\"On average, each item appears in {avg_sessions_per_item} sessions.\")\n"
   ]
  },
  {
   "cell_type": "code",
   "execution_count": 21,
   "metadata": {},
   "outputs": [
    {
     "name": "stdout",
     "output_type": "stream",
     "text": [
      "On average, for each set, each item appears in the following number of sessions: \n",
      " set\n",
      "test       74.1\n",
      "train    1203.0\n",
      "val        74.4\n",
      "Name: global_set_session_id, dtype: float64\n"
     ]
    }
   ],
   "source": [
    "# each global_set_session_id describes one user in a specific session in a specific set\n",
    "sessionized_df_overall['global_set_session_id'] = sessionized_df_overall['set'].astype(str) + \"_\" + sessionized_df_overall['userId'].astype(str) + sessionized_df_overall['session_id'].astype(str)\n",
    "\n",
    "# group by itemid, then by set, and count sessions\n",
    "item_session_count_per_set = sessionized_df_overall.groupby(['itemId', 'set'])['global_set_session_id'].nunique()\n",
    "\n",
    "avg_item_session_count_per_set = item_session_count_per_set.groupby(level='set').mean().round(1)\n",
    "\n",
    "print(\"On average, for each set, each item appears in the following number of sessions: \\n\", avg_item_session_count_per_set)"
   ]
  },
  {
   "cell_type": "code",
   "execution_count": 22,
   "metadata": {},
   "outputs": [
    {
     "data": {
      "text/plain": [
       "' file_path_testdata = \\'./data/testdata.csv\\' # adjust as needed\\ndf_testdata = pd.read_csv(file_path_testdata)\\n\\n#sessionized\\nsessionized_testdata = df_testdata.groupby([\\'userId\\']).apply(detect_sessions).reset_index(drop=True)\\n\\n#globally sessionized\\nsessionized_testdata[\\'global_session_id\\'] = sessionized_testdata[\\'userId\\'].astype(str) + \"_\" + sessionized_testdata[\\'session_id\\'].astype(str)\\n\\nsessionized_testdata '"
      ]
     },
     "execution_count": 22,
     "metadata": {},
     "output_type": "execute_result"
    }
   ],
   "source": [
    "\"\"\" file_path_testdata = './data/testdata.csv' # adjust as needed\n",
    "df_testdata = pd.read_csv(file_path_testdata)\n",
    "\n",
    "#sessionized\n",
    "sessionized_testdata = df_testdata.groupby(['userId']).apply(detect_sessions).reset_index(drop=True)\n",
    "\n",
    "#globally sessionized\n",
    "sessionized_testdata['global_session_id'] = sessionized_testdata['userId'].astype(str) + \"_\" + sessionized_testdata['session_id'].astype(str)\n",
    "\n",
    "sessionized_testdata \"\"\""
   ]
  },
  {
   "cell_type": "code",
   "execution_count": 23,
   "metadata": {},
   "outputs": [
    {
     "data": {
      "text/html": [
       "<div>\n",
       "<style scoped>\n",
       "    .dataframe tbody tr th:only-of-type {\n",
       "        vertical-align: middle;\n",
       "    }\n",
       "\n",
       "    .dataframe tbody tr th {\n",
       "        vertical-align: top;\n",
       "    }\n",
       "\n",
       "    .dataframe thead th {\n",
       "        text-align: right;\n",
       "    }\n",
       "</style>\n",
       "<table border=\"1\" class=\"dataframe\">\n",
       "  <thead>\n",
       "    <tr style=\"text-align: right;\">\n",
       "      <th></th>\n",
       "      <th>userId</th>\n",
       "      <th>itemId</th>\n",
       "      <th>global_session_id</th>\n",
       "      <th>n_reps</th>\n",
       "    </tr>\n",
       "  </thead>\n",
       "  <tbody>\n",
       "    <tr>\n",
       "      <th>0</th>\n",
       "      <td>0</td>\n",
       "      <td>0</td>\n",
       "      <td>0_0</td>\n",
       "      <td>1</td>\n",
       "    </tr>\n",
       "    <tr>\n",
       "      <th>1</th>\n",
       "      <td>0</td>\n",
       "      <td>0</td>\n",
       "      <td>0_117</td>\n",
       "      <td>3</td>\n",
       "    </tr>\n",
       "    <tr>\n",
       "      <th>2</th>\n",
       "      <td>0</td>\n",
       "      <td>0</td>\n",
       "      <td>0_122</td>\n",
       "      <td>1</td>\n",
       "    </tr>\n",
       "    <tr>\n",
       "      <th>3</th>\n",
       "      <td>0</td>\n",
       "      <td>0</td>\n",
       "      <td>0_25</td>\n",
       "      <td>1</td>\n",
       "    </tr>\n",
       "    <tr>\n",
       "      <th>4</th>\n",
       "      <td>0</td>\n",
       "      <td>0</td>\n",
       "      <td>0_35</td>\n",
       "      <td>1</td>\n",
       "    </tr>\n",
       "    <tr>\n",
       "      <th>...</th>\n",
       "      <td>...</td>\n",
       "      <td>...</td>\n",
       "      <td>...</td>\n",
       "      <td>...</td>\n",
       "    </tr>\n",
       "    <tr>\n",
       "      <th>1179425</th>\n",
       "      <td>3622</td>\n",
       "      <td>592</td>\n",
       "      <td>3622_22</td>\n",
       "      <td>1</td>\n",
       "    </tr>\n",
       "    <tr>\n",
       "      <th>1179426</th>\n",
       "      <td>3622</td>\n",
       "      <td>592</td>\n",
       "      <td>3622_23</td>\n",
       "      <td>1</td>\n",
       "    </tr>\n",
       "    <tr>\n",
       "      <th>1179427</th>\n",
       "      <td>3622</td>\n",
       "      <td>592</td>\n",
       "      <td>3622_4</td>\n",
       "      <td>1</td>\n",
       "    </tr>\n",
       "    <tr>\n",
       "      <th>1179428</th>\n",
       "      <td>3622</td>\n",
       "      <td>592</td>\n",
       "      <td>3622_7</td>\n",
       "      <td>2</td>\n",
       "    </tr>\n",
       "    <tr>\n",
       "      <th>1179429</th>\n",
       "      <td>3622</td>\n",
       "      <td>592</td>\n",
       "      <td>3622_8</td>\n",
       "      <td>1</td>\n",
       "    </tr>\n",
       "  </tbody>\n",
       "</table>\n",
       "<p>1179430 rows × 4 columns</p>\n",
       "</div>"
      ],
      "text/plain": [
       "         userId  itemId global_session_id  n_reps\n",
       "0             0       0               0_0       1\n",
       "1             0       0             0_117       3\n",
       "2             0       0             0_122       1\n",
       "3             0       0              0_25       1\n",
       "4             0       0              0_35       1\n",
       "...         ...     ...               ...     ...\n",
       "1179425    3622     592           3622_22       1\n",
       "1179426    3622     592           3622_23       1\n",
       "1179427    3622     592            3622_4       1\n",
       "1179428    3622     592            3622_7       2\n",
       "1179429    3622     592            3622_8       1\n",
       "\n",
       "[1179430 rows x 4 columns]"
      ]
     },
     "execution_count": 23,
     "metadata": {},
     "output_type": "execute_result"
    }
   ],
   "source": [
    "# INTRA rep avg\n",
    "reps_per_item_per_session_intra = sessionized_df_overall.groupby(['userId', 'itemId', 'global_session_id']).size().reset_index(name='n_reps')\n",
    "reps_per_item_per_session_intra"
   ]
  },
  {
   "cell_type": "code",
   "execution_count": 24,
   "metadata": {},
   "outputs": [
    {
     "data": {
      "text/html": [
       "<div>\n",
       "<style scoped>\n",
       "    .dataframe tbody tr th:only-of-type {\n",
       "        vertical-align: middle;\n",
       "    }\n",
       "\n",
       "    .dataframe tbody tr th {\n",
       "        vertical-align: top;\n",
       "    }\n",
       "\n",
       "    .dataframe thead th {\n",
       "        text-align: right;\n",
       "    }\n",
       "</style>\n",
       "<table border=\"1\" class=\"dataframe\">\n",
       "  <thead>\n",
       "    <tr style=\"text-align: right;\">\n",
       "      <th></th>\n",
       "      <th>global_session_id</th>\n",
       "      <th>n_reps</th>\n",
       "    </tr>\n",
       "  </thead>\n",
       "  <tbody>\n",
       "    <tr>\n",
       "      <th>0</th>\n",
       "      <td>0_0</td>\n",
       "      <td>1</td>\n",
       "    </tr>\n",
       "    <tr>\n",
       "      <th>1</th>\n",
       "      <td>0_1</td>\n",
       "      <td>1</td>\n",
       "    </tr>\n",
       "    <tr>\n",
       "      <th>2</th>\n",
       "      <td>0_10</td>\n",
       "      <td>1</td>\n",
       "    </tr>\n",
       "    <tr>\n",
       "      <th>3</th>\n",
       "      <td>0_100</td>\n",
       "      <td>29</td>\n",
       "    </tr>\n",
       "    <tr>\n",
       "      <th>4</th>\n",
       "      <td>0_101</td>\n",
       "      <td>60</td>\n",
       "    </tr>\n",
       "    <tr>\n",
       "      <th>...</th>\n",
       "      <td>...</td>\n",
       "      <td>...</td>\n",
       "    </tr>\n",
       "    <tr>\n",
       "      <th>311504</th>\n",
       "      <td>9_59</td>\n",
       "      <td>2</td>\n",
       "    </tr>\n",
       "    <tr>\n",
       "      <th>311505</th>\n",
       "      <td>9_6</td>\n",
       "      <td>8</td>\n",
       "    </tr>\n",
       "    <tr>\n",
       "      <th>311506</th>\n",
       "      <td>9_7</td>\n",
       "      <td>5</td>\n",
       "    </tr>\n",
       "    <tr>\n",
       "      <th>311507</th>\n",
       "      <td>9_8</td>\n",
       "      <td>32</td>\n",
       "    </tr>\n",
       "    <tr>\n",
       "      <th>311508</th>\n",
       "      <td>9_9</td>\n",
       "      <td>16</td>\n",
       "    </tr>\n",
       "  </tbody>\n",
       "</table>\n",
       "<p>311509 rows × 2 columns</p>\n",
       "</div>"
      ],
      "text/plain": [
       "       global_session_id  n_reps\n",
       "0                    0_0       1\n",
       "1                    0_1       1\n",
       "2                   0_10       1\n",
       "3                  0_100      29\n",
       "4                  0_101      60\n",
       "...                  ...     ...\n",
       "311504              9_59       2\n",
       "311505               9_6       8\n",
       "311506               9_7       5\n",
       "311507               9_8      32\n",
       "311508               9_9      16\n",
       "\n",
       "[311509 rows x 2 columns]"
      ]
     },
     "execution_count": 24,
     "metadata": {},
     "output_type": "execute_result"
    }
   ],
   "source": [
    "reps_per_session = reps_per_item_per_session_intra.groupby('global_session_id')['n_reps'].sum().reset_index(name='n_reps')\n",
    "reps_per_session"
   ]
  },
  {
   "cell_type": "code",
   "execution_count": 25,
   "metadata": {},
   "outputs": [
    {
     "data": {
      "text/plain": [
       "5.08433143183664"
      ]
     },
     "execution_count": 25,
     "metadata": {},
     "output_type": "execute_result"
    }
   ],
   "source": [
    "intra_session_rep_rate = reps_per_session['n_reps'].mean()\n",
    "intra_session_rep_rate"
   ]
  },
  {
   "cell_type": "code",
   "execution_count": 26,
   "metadata": {},
   "outputs": [
    {
     "data": {
      "text/html": [
       "<div>\n",
       "<style scoped>\n",
       "    .dataframe tbody tr th:only-of-type {\n",
       "        vertical-align: middle;\n",
       "    }\n",
       "\n",
       "    .dataframe tbody tr th {\n",
       "        vertical-align: top;\n",
       "    }\n",
       "\n",
       "    .dataframe thead th {\n",
       "        text-align: right;\n",
       "    }\n",
       "</style>\n",
       "<table border=\"1\" class=\"dataframe\">\n",
       "  <thead>\n",
       "    <tr style=\"text-align: right;\">\n",
       "      <th></th>\n",
       "      <th>set</th>\n",
       "      <th>userId</th>\n",
       "      <th>itemId</th>\n",
       "      <th>global_session_id</th>\n",
       "      <th>n_reps</th>\n",
       "    </tr>\n",
       "  </thead>\n",
       "  <tbody>\n",
       "    <tr>\n",
       "      <th>0</th>\n",
       "      <td>test</td>\n",
       "      <td>0</td>\n",
       "      <td>14</td>\n",
       "      <td>0_115</td>\n",
       "      <td>1</td>\n",
       "    </tr>\n",
       "    <tr>\n",
       "      <th>1</th>\n",
       "      <td>test</td>\n",
       "      <td>0</td>\n",
       "      <td>14</td>\n",
       "      <td>0_123</td>\n",
       "      <td>3</td>\n",
       "    </tr>\n",
       "    <tr>\n",
       "      <th>2</th>\n",
       "      <td>test</td>\n",
       "      <td>0</td>\n",
       "      <td>14</td>\n",
       "      <td>0_26</td>\n",
       "      <td>1</td>\n",
       "    </tr>\n",
       "    <tr>\n",
       "      <th>3</th>\n",
       "      <td>test</td>\n",
       "      <td>0</td>\n",
       "      <td>14</td>\n",
       "      <td>0_35</td>\n",
       "      <td>2</td>\n",
       "    </tr>\n",
       "    <tr>\n",
       "      <th>4</th>\n",
       "      <td>test</td>\n",
       "      <td>0</td>\n",
       "      <td>14</td>\n",
       "      <td>0_65</td>\n",
       "      <td>1</td>\n",
       "    </tr>\n",
       "    <tr>\n",
       "      <th>...</th>\n",
       "      <td>...</td>\n",
       "      <td>...</td>\n",
       "      <td>...</td>\n",
       "      <td>...</td>\n",
       "      <td>...</td>\n",
       "    </tr>\n",
       "    <tr>\n",
       "      <th>1179425</th>\n",
       "      <td>val</td>\n",
       "      <td>3622</td>\n",
       "      <td>584</td>\n",
       "      <td>3622_23</td>\n",
       "      <td>1</td>\n",
       "    </tr>\n",
       "    <tr>\n",
       "      <th>1179426</th>\n",
       "      <td>val</td>\n",
       "      <td>3622</td>\n",
       "      <td>584</td>\n",
       "      <td>3622_4</td>\n",
       "      <td>3</td>\n",
       "    </tr>\n",
       "    <tr>\n",
       "      <th>1179427</th>\n",
       "      <td>val</td>\n",
       "      <td>3622</td>\n",
       "      <td>584</td>\n",
       "      <td>3622_6</td>\n",
       "      <td>1</td>\n",
       "    </tr>\n",
       "    <tr>\n",
       "      <th>1179428</th>\n",
       "      <td>val</td>\n",
       "      <td>3622</td>\n",
       "      <td>584</td>\n",
       "      <td>3622_7</td>\n",
       "      <td>2</td>\n",
       "    </tr>\n",
       "    <tr>\n",
       "      <th>1179429</th>\n",
       "      <td>val</td>\n",
       "      <td>3622</td>\n",
       "      <td>584</td>\n",
       "      <td>3622_8</td>\n",
       "      <td>1</td>\n",
       "    </tr>\n",
       "  </tbody>\n",
       "</table>\n",
       "<p>1179430 rows × 5 columns</p>\n",
       "</div>"
      ],
      "text/plain": [
       "          set  userId  itemId global_session_id  n_reps\n",
       "0        test       0      14             0_115       1\n",
       "1        test       0      14             0_123       3\n",
       "2        test       0      14              0_26       1\n",
       "3        test       0      14              0_35       2\n",
       "4        test       0      14              0_65       1\n",
       "...       ...     ...     ...               ...     ...\n",
       "1179425   val    3622     584           3622_23       1\n",
       "1179426   val    3622     584            3622_4       3\n",
       "1179427   val    3622     584            3622_6       1\n",
       "1179428   val    3622     584            3622_7       2\n",
       "1179429   val    3622     584            3622_8       1\n",
       "\n",
       "[1179430 rows x 5 columns]"
      ]
     },
     "execution_count": 26,
     "metadata": {},
     "output_type": "execute_result"
    }
   ],
   "source": [
    "# INTRA rate per set\n",
    "reps_per_item_per_session_intra_per_set = sessionized_df_overall.groupby(['set', 'userId', 'itemId', 'global_session_id']).size().reset_index(name='n_reps')\n",
    "reps_per_item_per_session_intra_per_set"
   ]
  },
  {
   "cell_type": "code",
   "execution_count": 27,
   "metadata": {},
   "outputs": [
    {
     "data": {
      "text/html": [
       "<div>\n",
       "<style scoped>\n",
       "    .dataframe tbody tr th:only-of-type {\n",
       "        vertical-align: middle;\n",
       "    }\n",
       "\n",
       "    .dataframe tbody tr th {\n",
       "        vertical-align: top;\n",
       "    }\n",
       "\n",
       "    .dataframe thead th {\n",
       "        text-align: right;\n",
       "    }\n",
       "</style>\n",
       "<table border=\"1\" class=\"dataframe\">\n",
       "  <thead>\n",
       "    <tr style=\"text-align: right;\">\n",
       "      <th></th>\n",
       "      <th>set</th>\n",
       "      <th>global_session_id</th>\n",
       "      <th>n_reps</th>\n",
       "    </tr>\n",
       "  </thead>\n",
       "  <tbody>\n",
       "    <tr>\n",
       "      <th>0</th>\n",
       "      <td>test</td>\n",
       "      <td>0_101</td>\n",
       "      <td>1</td>\n",
       "    </tr>\n",
       "    <tr>\n",
       "      <th>1</th>\n",
       "      <td>test</td>\n",
       "      <td>0_115</td>\n",
       "      <td>1</td>\n",
       "    </tr>\n",
       "    <tr>\n",
       "      <th>2</th>\n",
       "      <td>test</td>\n",
       "      <td>0_123</td>\n",
       "      <td>3</td>\n",
       "    </tr>\n",
       "    <tr>\n",
       "      <th>3</th>\n",
       "      <td>test</td>\n",
       "      <td>0_131</td>\n",
       "      <td>1</td>\n",
       "    </tr>\n",
       "    <tr>\n",
       "      <th>4</th>\n",
       "      <td>test</td>\n",
       "      <td>0_26</td>\n",
       "      <td>1</td>\n",
       "    </tr>\n",
       "    <tr>\n",
       "      <th>...</th>\n",
       "      <td>...</td>\n",
       "      <td>...</td>\n",
       "      <td>...</td>\n",
       "    </tr>\n",
       "    <tr>\n",
       "      <th>405466</th>\n",
       "      <td>val</td>\n",
       "      <td>9_13</td>\n",
       "      <td>2</td>\n",
       "    </tr>\n",
       "    <tr>\n",
       "      <th>405467</th>\n",
       "      <td>val</td>\n",
       "      <td>9_28</td>\n",
       "      <td>3</td>\n",
       "    </tr>\n",
       "    <tr>\n",
       "      <th>405468</th>\n",
       "      <td>val</td>\n",
       "      <td>9_30</td>\n",
       "      <td>3</td>\n",
       "    </tr>\n",
       "    <tr>\n",
       "      <th>405469</th>\n",
       "      <td>val</td>\n",
       "      <td>9_33</td>\n",
       "      <td>2</td>\n",
       "    </tr>\n",
       "    <tr>\n",
       "      <th>405470</th>\n",
       "      <td>val</td>\n",
       "      <td>9_6</td>\n",
       "      <td>1</td>\n",
       "    </tr>\n",
       "  </tbody>\n",
       "</table>\n",
       "<p>405471 rows × 3 columns</p>\n",
       "</div>"
      ],
      "text/plain": [
       "         set global_session_id  n_reps\n",
       "0       test             0_101       1\n",
       "1       test             0_115       1\n",
       "2       test             0_123       3\n",
       "3       test             0_131       1\n",
       "4       test              0_26       1\n",
       "...      ...               ...     ...\n",
       "405466   val              9_13       2\n",
       "405467   val              9_28       3\n",
       "405468   val              9_30       3\n",
       "405469   val              9_33       2\n",
       "405470   val               9_6       1\n",
       "\n",
       "[405471 rows x 3 columns]"
      ]
     },
     "execution_count": 27,
     "metadata": {},
     "output_type": "execute_result"
    }
   ],
   "source": [
    "reps_per_session_per_set = reps_per_item_per_session_intra_per_set.groupby(['set', 'global_session_id'])['n_reps'].sum().reset_index(name='n_reps')\n",
    "reps_per_session_per_set"
   ]
  },
  {
   "cell_type": "code",
   "execution_count": 28,
   "metadata": {},
   "outputs": [
    {
     "data": {
      "text/html": [
       "<div>\n",
       "<style scoped>\n",
       "    .dataframe tbody tr th:only-of-type {\n",
       "        vertical-align: middle;\n",
       "    }\n",
       "\n",
       "    .dataframe tbody tr th {\n",
       "        vertical-align: top;\n",
       "    }\n",
       "\n",
       "    .dataframe thead th {\n",
       "        text-align: right;\n",
       "    }\n",
       "</style>\n",
       "<table border=\"1\" class=\"dataframe\">\n",
       "  <thead>\n",
       "    <tr style=\"text-align: right;\">\n",
       "      <th></th>\n",
       "      <th>set</th>\n",
       "      <th>mean_reps</th>\n",
       "    </tr>\n",
       "  </thead>\n",
       "  <tbody>\n",
       "    <tr>\n",
       "      <th>0</th>\n",
       "      <td>test</td>\n",
       "      <td>1.474155</td>\n",
       "    </tr>\n",
       "    <tr>\n",
       "      <th>1</th>\n",
       "      <td>train</td>\n",
       "      <td>4.790931</td>\n",
       "    </tr>\n",
       "    <tr>\n",
       "      <th>2</th>\n",
       "      <td>val</td>\n",
       "      <td>1.479704</td>\n",
       "    </tr>\n",
       "  </tbody>\n",
       "</table>\n",
       "</div>"
      ],
      "text/plain": [
       "     set  mean_reps\n",
       "0   test   1.474155\n",
       "1  train   4.790931\n",
       "2    val   1.479704"
      ]
     },
     "execution_count": 28,
     "metadata": {},
     "output_type": "execute_result"
    }
   ],
   "source": [
    "intra_session_rep_rate_per_set = reps_per_session_per_set.groupby('set')['n_reps'].mean().reset_index(name='mean_reps')\n",
    "intra_session_rep_rate_per_set"
   ]
  },
  {
   "cell_type": "code",
   "execution_count": 29,
   "metadata": {},
   "outputs": [
    {
     "data": {
      "text/html": [
       "<div>\n",
       "<style scoped>\n",
       "    .dataframe tbody tr th:only-of-type {\n",
       "        vertical-align: middle;\n",
       "    }\n",
       "\n",
       "    .dataframe tbody tr th {\n",
       "        vertical-align: top;\n",
       "    }\n",
       "\n",
       "    .dataframe thead th {\n",
       "        text-align: right;\n",
       "    }\n",
       "</style>\n",
       "<table border=\"1\" class=\"dataframe\">\n",
       "  <thead>\n",
       "    <tr style=\"text-align: right;\">\n",
       "      <th></th>\n",
       "      <th>userId</th>\n",
       "      <th>itemId</th>\n",
       "      <th>global_session_id</th>\n",
       "      <th>reps</th>\n",
       "    </tr>\n",
       "  </thead>\n",
       "  <tbody>\n",
       "    <tr>\n",
       "      <th>0</th>\n",
       "      <td>0</td>\n",
       "      <td>0</td>\n",
       "      <td>0_0</td>\n",
       "      <td>1</td>\n",
       "    </tr>\n",
       "    <tr>\n",
       "      <th>1</th>\n",
       "      <td>0</td>\n",
       "      <td>0</td>\n",
       "      <td>0_117</td>\n",
       "      <td>3</td>\n",
       "    </tr>\n",
       "    <tr>\n",
       "      <th>2</th>\n",
       "      <td>0</td>\n",
       "      <td>0</td>\n",
       "      <td>0_122</td>\n",
       "      <td>1</td>\n",
       "    </tr>\n",
       "    <tr>\n",
       "      <th>3</th>\n",
       "      <td>0</td>\n",
       "      <td>0</td>\n",
       "      <td>0_25</td>\n",
       "      <td>1</td>\n",
       "    </tr>\n",
       "    <tr>\n",
       "      <th>4</th>\n",
       "      <td>0</td>\n",
       "      <td>0</td>\n",
       "      <td>0_35</td>\n",
       "      <td>1</td>\n",
       "    </tr>\n",
       "    <tr>\n",
       "      <th>...</th>\n",
       "      <td>...</td>\n",
       "      <td>...</td>\n",
       "      <td>...</td>\n",
       "      <td>...</td>\n",
       "    </tr>\n",
       "    <tr>\n",
       "      <th>1179425</th>\n",
       "      <td>3622</td>\n",
       "      <td>592</td>\n",
       "      <td>3622_22</td>\n",
       "      <td>1</td>\n",
       "    </tr>\n",
       "    <tr>\n",
       "      <th>1179426</th>\n",
       "      <td>3622</td>\n",
       "      <td>592</td>\n",
       "      <td>3622_23</td>\n",
       "      <td>1</td>\n",
       "    </tr>\n",
       "    <tr>\n",
       "      <th>1179427</th>\n",
       "      <td>3622</td>\n",
       "      <td>592</td>\n",
       "      <td>3622_4</td>\n",
       "      <td>1</td>\n",
       "    </tr>\n",
       "    <tr>\n",
       "      <th>1179428</th>\n",
       "      <td>3622</td>\n",
       "      <td>592</td>\n",
       "      <td>3622_7</td>\n",
       "      <td>2</td>\n",
       "    </tr>\n",
       "    <tr>\n",
       "      <th>1179429</th>\n",
       "      <td>3622</td>\n",
       "      <td>592</td>\n",
       "      <td>3622_8</td>\n",
       "      <td>1</td>\n",
       "    </tr>\n",
       "  </tbody>\n",
       "</table>\n",
       "<p>1179430 rows × 4 columns</p>\n",
       "</div>"
      ],
      "text/plain": [
       "         userId  itemId global_session_id  reps\n",
       "0             0       0               0_0     1\n",
       "1             0       0             0_117     3\n",
       "2             0       0             0_122     1\n",
       "3             0       0              0_25     1\n",
       "4             0       0              0_35     1\n",
       "...         ...     ...               ...   ...\n",
       "1179425    3622     592           3622_22     1\n",
       "1179426    3622     592           3622_23     1\n",
       "1179427    3622     592            3622_4     1\n",
       "1179428    3622     592            3622_7     2\n",
       "1179429    3622     592            3622_8     1\n",
       "\n",
       "[1179430 rows x 4 columns]"
      ]
     },
     "execution_count": 29,
     "metadata": {},
     "output_type": "execute_result"
    }
   ],
   "source": [
    "# INTER rep avg\n",
    "reps_per_item_per_session_inter = sessionized_df_overall.groupby(['userId', 'itemId', 'global_session_id']).size().reset_index(name='reps')\n",
    "reps_per_item_per_session_inter"
   ]
  },
  {
   "cell_type": "code",
   "execution_count": 30,
   "metadata": {},
   "outputs": [
    {
     "data": {
      "text/html": [
       "<div>\n",
       "<style scoped>\n",
       "    .dataframe tbody tr th:only-of-type {\n",
       "        vertical-align: middle;\n",
       "    }\n",
       "\n",
       "    .dataframe tbody tr th {\n",
       "        vertical-align: top;\n",
       "    }\n",
       "\n",
       "    .dataframe thead th {\n",
       "        text-align: right;\n",
       "    }\n",
       "</style>\n",
       "<table border=\"1\" class=\"dataframe\">\n",
       "  <thead>\n",
       "    <tr style=\"text-align: right;\">\n",
       "      <th></th>\n",
       "      <th>userId</th>\n",
       "      <th>reps</th>\n",
       "    </tr>\n",
       "  </thead>\n",
       "  <tbody>\n",
       "    <tr>\n",
       "      <th>0</th>\n",
       "      <td>0</td>\n",
       "      <td>1629</td>\n",
       "    </tr>\n",
       "    <tr>\n",
       "      <th>1</th>\n",
       "      <td>1</td>\n",
       "      <td>209</td>\n",
       "    </tr>\n",
       "    <tr>\n",
       "      <th>2</th>\n",
       "      <td>2</td>\n",
       "      <td>573</td>\n",
       "    </tr>\n",
       "    <tr>\n",
       "      <th>3</th>\n",
       "      <td>3</td>\n",
       "      <td>1270</td>\n",
       "    </tr>\n",
       "    <tr>\n",
       "      <th>4</th>\n",
       "      <td>4</td>\n",
       "      <td>788</td>\n",
       "    </tr>\n",
       "    <tr>\n",
       "      <th>...</th>\n",
       "      <td>...</td>\n",
       "      <td>...</td>\n",
       "    </tr>\n",
       "    <tr>\n",
       "      <th>3618</th>\n",
       "      <td>3618</td>\n",
       "      <td>537</td>\n",
       "    </tr>\n",
       "    <tr>\n",
       "      <th>3619</th>\n",
       "      <td>3619</td>\n",
       "      <td>548</td>\n",
       "    </tr>\n",
       "    <tr>\n",
       "      <th>3620</th>\n",
       "      <td>3620</td>\n",
       "      <td>457</td>\n",
       "    </tr>\n",
       "    <tr>\n",
       "      <th>3621</th>\n",
       "      <td>3621</td>\n",
       "      <td>602</td>\n",
       "    </tr>\n",
       "    <tr>\n",
       "      <th>3622</th>\n",
       "      <td>3622</td>\n",
       "      <td>313</td>\n",
       "    </tr>\n",
       "  </tbody>\n",
       "</table>\n",
       "<p>3623 rows × 2 columns</p>\n",
       "</div>"
      ],
      "text/plain": [
       "      userId  reps\n",
       "0          0  1629\n",
       "1          1   209\n",
       "2          2   573\n",
       "3          3  1270\n",
       "4          4   788\n",
       "...      ...   ...\n",
       "3618    3618   537\n",
       "3619    3619   548\n",
       "3620    3620   457\n",
       "3621    3621   602\n",
       "3622    3622   313\n",
       "\n",
       "[3623 rows x 2 columns]"
      ]
     },
     "execution_count": 30,
     "metadata": {},
     "output_type": "execute_result"
    }
   ],
   "source": [
    "reps_per_user_across_sessions = reps_per_item_per_session_inter.groupby('userId')['reps'].sum().reset_index(name='reps')\n",
    "reps_per_user_across_sessions"
   ]
  },
  {
   "cell_type": "code",
   "execution_count": 31,
   "metadata": {},
   "outputs": [
    {
     "data": {
      "text/plain": [
       "437.16"
      ]
     },
     "execution_count": 31,
     "metadata": {},
     "output_type": "execute_result"
    }
   ],
   "source": [
    "inter_session_rep_rate = reps_per_user_across_sessions['reps'].mean().round(2)\n",
    "inter_session_rep_rate"
   ]
  },
  {
   "cell_type": "code",
   "execution_count": 32,
   "metadata": {},
   "outputs": [
    {
     "data": {
      "text/html": [
       "<div>\n",
       "<style scoped>\n",
       "    .dataframe tbody tr th:only-of-type {\n",
       "        vertical-align: middle;\n",
       "    }\n",
       "\n",
       "    .dataframe tbody tr th {\n",
       "        vertical-align: top;\n",
       "    }\n",
       "\n",
       "    .dataframe thead th {\n",
       "        text-align: right;\n",
       "    }\n",
       "</style>\n",
       "<table border=\"1\" class=\"dataframe\">\n",
       "  <thead>\n",
       "    <tr style=\"text-align: right;\">\n",
       "      <th></th>\n",
       "      <th>set</th>\n",
       "      <th>userId</th>\n",
       "      <th>itemId</th>\n",
       "      <th>global_session_id</th>\n",
       "      <th>reps</th>\n",
       "    </tr>\n",
       "  </thead>\n",
       "  <tbody>\n",
       "    <tr>\n",
       "      <th>0</th>\n",
       "      <td>test</td>\n",
       "      <td>0</td>\n",
       "      <td>14</td>\n",
       "      <td>0_115</td>\n",
       "      <td>1</td>\n",
       "    </tr>\n",
       "    <tr>\n",
       "      <th>1</th>\n",
       "      <td>test</td>\n",
       "      <td>0</td>\n",
       "      <td>14</td>\n",
       "      <td>0_123</td>\n",
       "      <td>3</td>\n",
       "    </tr>\n",
       "    <tr>\n",
       "      <th>2</th>\n",
       "      <td>test</td>\n",
       "      <td>0</td>\n",
       "      <td>14</td>\n",
       "      <td>0_26</td>\n",
       "      <td>1</td>\n",
       "    </tr>\n",
       "    <tr>\n",
       "      <th>3</th>\n",
       "      <td>test</td>\n",
       "      <td>0</td>\n",
       "      <td>14</td>\n",
       "      <td>0_35</td>\n",
       "      <td>2</td>\n",
       "    </tr>\n",
       "    <tr>\n",
       "      <th>4</th>\n",
       "      <td>test</td>\n",
       "      <td>0</td>\n",
       "      <td>14</td>\n",
       "      <td>0_65</td>\n",
       "      <td>1</td>\n",
       "    </tr>\n",
       "    <tr>\n",
       "      <th>...</th>\n",
       "      <td>...</td>\n",
       "      <td>...</td>\n",
       "      <td>...</td>\n",
       "      <td>...</td>\n",
       "      <td>...</td>\n",
       "    </tr>\n",
       "    <tr>\n",
       "      <th>1179425</th>\n",
       "      <td>val</td>\n",
       "      <td>3622</td>\n",
       "      <td>584</td>\n",
       "      <td>3622_23</td>\n",
       "      <td>1</td>\n",
       "    </tr>\n",
       "    <tr>\n",
       "      <th>1179426</th>\n",
       "      <td>val</td>\n",
       "      <td>3622</td>\n",
       "      <td>584</td>\n",
       "      <td>3622_4</td>\n",
       "      <td>3</td>\n",
       "    </tr>\n",
       "    <tr>\n",
       "      <th>1179427</th>\n",
       "      <td>val</td>\n",
       "      <td>3622</td>\n",
       "      <td>584</td>\n",
       "      <td>3622_6</td>\n",
       "      <td>1</td>\n",
       "    </tr>\n",
       "    <tr>\n",
       "      <th>1179428</th>\n",
       "      <td>val</td>\n",
       "      <td>3622</td>\n",
       "      <td>584</td>\n",
       "      <td>3622_7</td>\n",
       "      <td>2</td>\n",
       "    </tr>\n",
       "    <tr>\n",
       "      <th>1179429</th>\n",
       "      <td>val</td>\n",
       "      <td>3622</td>\n",
       "      <td>584</td>\n",
       "      <td>3622_8</td>\n",
       "      <td>1</td>\n",
       "    </tr>\n",
       "  </tbody>\n",
       "</table>\n",
       "<p>1179430 rows × 5 columns</p>\n",
       "</div>"
      ],
      "text/plain": [
       "          set  userId  itemId global_session_id  reps\n",
       "0        test       0      14             0_115     1\n",
       "1        test       0      14             0_123     3\n",
       "2        test       0      14              0_26     1\n",
       "3        test       0      14              0_35     2\n",
       "4        test       0      14              0_65     1\n",
       "...       ...     ...     ...               ...   ...\n",
       "1179425   val    3622     584           3622_23     1\n",
       "1179426   val    3622     584            3622_4     3\n",
       "1179427   val    3622     584            3622_6     1\n",
       "1179428   val    3622     584            3622_7     2\n",
       "1179429   val    3622     584            3622_8     1\n",
       "\n",
       "[1179430 rows x 5 columns]"
      ]
     },
     "execution_count": 32,
     "metadata": {},
     "output_type": "execute_result"
    }
   ],
   "source": [
    "#INTER rate per set\n",
    "reps_per_item_per_session_inter_per_set = sessionized_df_overall.groupby(['set', 'userId', 'itemId', 'global_session_id']).size().reset_index(name='reps')\n",
    "reps_per_item_per_session_inter_per_set"
   ]
  },
  {
   "cell_type": "code",
   "execution_count": 33,
   "metadata": {},
   "outputs": [
    {
     "data": {
      "text/html": [
       "<div>\n",
       "<style scoped>\n",
       "    .dataframe tbody tr th:only-of-type {\n",
       "        vertical-align: middle;\n",
       "    }\n",
       "\n",
       "    .dataframe tbody tr th {\n",
       "        vertical-align: top;\n",
       "    }\n",
       "\n",
       "    .dataframe thead th {\n",
       "        text-align: right;\n",
       "    }\n",
       "</style>\n",
       "<table border=\"1\" class=\"dataframe\">\n",
       "  <thead>\n",
       "    <tr style=\"text-align: right;\">\n",
       "      <th></th>\n",
       "      <th>set</th>\n",
       "      <th>userId</th>\n",
       "      <th>reps</th>\n",
       "    </tr>\n",
       "  </thead>\n",
       "  <tbody>\n",
       "    <tr>\n",
       "      <th>0</th>\n",
       "      <td>test</td>\n",
       "      <td>0</td>\n",
       "      <td>14</td>\n",
       "    </tr>\n",
       "    <tr>\n",
       "      <th>1</th>\n",
       "      <td>test</td>\n",
       "      <td>1</td>\n",
       "      <td>13</td>\n",
       "    </tr>\n",
       "    <tr>\n",
       "      <th>2</th>\n",
       "      <td>test</td>\n",
       "      <td>2</td>\n",
       "      <td>22</td>\n",
       "    </tr>\n",
       "    <tr>\n",
       "      <th>3</th>\n",
       "      <td>test</td>\n",
       "      <td>3</td>\n",
       "      <td>21</td>\n",
       "    </tr>\n",
       "    <tr>\n",
       "      <th>4</th>\n",
       "      <td>test</td>\n",
       "      <td>4</td>\n",
       "      <td>14</td>\n",
       "    </tr>\n",
       "    <tr>\n",
       "      <th>...</th>\n",
       "      <td>...</td>\n",
       "      <td>...</td>\n",
       "      <td>...</td>\n",
       "    </tr>\n",
       "    <tr>\n",
       "      <th>10864</th>\n",
       "      <td>val</td>\n",
       "      <td>3618</td>\n",
       "      <td>14</td>\n",
       "    </tr>\n",
       "    <tr>\n",
       "      <th>10865</th>\n",
       "      <td>val</td>\n",
       "      <td>3619</td>\n",
       "      <td>41</td>\n",
       "    </tr>\n",
       "    <tr>\n",
       "      <th>10866</th>\n",
       "      <td>val</td>\n",
       "      <td>3620</td>\n",
       "      <td>27</td>\n",
       "    </tr>\n",
       "    <tr>\n",
       "      <th>10867</th>\n",
       "      <td>val</td>\n",
       "      <td>3621</td>\n",
       "      <td>15</td>\n",
       "    </tr>\n",
       "    <tr>\n",
       "      <th>10868</th>\n",
       "      <td>val</td>\n",
       "      <td>3622</td>\n",
       "      <td>28</td>\n",
       "    </tr>\n",
       "  </tbody>\n",
       "</table>\n",
       "<p>10869 rows × 3 columns</p>\n",
       "</div>"
      ],
      "text/plain": [
       "        set  userId  reps\n",
       "0      test       0    14\n",
       "1      test       1    13\n",
       "2      test       2    22\n",
       "3      test       3    21\n",
       "4      test       4    14\n",
       "...     ...     ...   ...\n",
       "10864   val    3618    14\n",
       "10865   val    3619    41\n",
       "10866   val    3620    27\n",
       "10867   val    3621    15\n",
       "10868   val    3622    28\n",
       "\n",
       "[10869 rows x 3 columns]"
      ]
     },
     "execution_count": 33,
     "metadata": {},
     "output_type": "execute_result"
    }
   ],
   "source": [
    "reps_per_user_across_sessions_per_set = reps_per_item_per_session_inter_per_set.groupby(['set', 'userId'])['reps'].sum().reset_index(name='reps')\n",
    "reps_per_user_across_sessions_per_set"
   ]
  },
  {
   "cell_type": "code",
   "execution_count": 34,
   "metadata": {},
   "outputs": [
    {
     "data": {
      "text/plain": [
       "set\n",
       "test      22.13\n",
       "train    393.02\n",
       "val       22.00\n",
       "Name: reps, dtype: float64"
      ]
     },
     "execution_count": 34,
     "metadata": {},
     "output_type": "execute_result"
    }
   ],
   "source": [
    "inter_session_rep_rate_per_set = reps_per_user_across_sessions_per_set.groupby('set')['reps'].mean().round(2)\n",
    "inter_session_rep_rate_per_set"
   ]
  },
  {
   "cell_type": "code",
   "execution_count": 35,
   "metadata": {},
   "outputs": [],
   "source": [
    "#avg length per SINGLE user session "
   ]
  },
  {
   "cell_type": "code",
   "execution_count": 36,
   "metadata": {},
   "outputs": [],
   "source": [
    "#avg number of interactions per SINGLE user session"
   ]
  },
  {
   "cell_type": "markdown",
   "metadata": {},
   "source": [
    "•\tTotal count of user-item interactions per set -> DONE\n",
    "•\tAverage count of user-item interactions per user -> DONE\n",
    "•\tAverage count of user-item interactions per user per set -> DONE\n",
    "•\tAverage count of user-item interactions per item -> DONE\n",
    "•\tAverage count of user-item interactions per item per set -> DONE\n",
    "•\tHow many repetitions in the whole dataset\n",
    "•\tHow many repetitions on average per user -> DONE\n",
    "Session-based measures\n",
    "•\tTotal number of sessions\n",
    "•\tAverage amount of sessions per user\n",
    "•\tAverage amount of sessions per user, per set\n",
    "•\tAverage amount of sessions an item is in\n",
    "•\tAverage amount of sessions an item is in, per session\n",
    "•\tHow many repetitions per user-session -> INTRA SESSION\n",
    "•\tHow many repetitions per user across sessions -> INTER SESSION\n",
    "•\tAverage length of user-session (timestamp)\n",
    "•\tAverage number of interactions within one user session"
   ]
  },
  {
   "cell_type": "markdown",
   "metadata": {},
   "source": [
    "## References\n",
    "\n",
    "[a] Session-aware recommendation paper\n",
    "\n",
    "[b] Ex2Vec paper"
   ]
  }
 ],
 "metadata": {
  "kernelspec": {
   "display_name": "supervised",
   "language": "python",
   "name": "python3"
  },
  "language_info": {
   "codemirror_mode": {
    "name": "ipython",
    "version": 3
   },
   "file_extension": ".py",
   "mimetype": "text/x-python",
   "name": "python",
   "nbconvert_exporter": "python",
   "pygments_lexer": "ipython3",
   "version": "3.10.11"
  }
 },
 "nbformat": 4,
 "nbformat_minor": 2
}
