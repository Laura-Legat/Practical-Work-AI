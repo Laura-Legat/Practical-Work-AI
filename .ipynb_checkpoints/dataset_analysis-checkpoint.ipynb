{
 "cells": [
  {
   "cell_type": "code",
   "execution_count": 1,
   "metadata": {},
   "outputs": [
    {
     "name": "stdout",
     "output_type": "stream",
     "text": [
      "Requirement already satisfied: pandas in c:\\users\\laura\\miniconda3\\envs\\supervised\\lib\\site-packages (1.5.3)\n",
      "Requirement already satisfied: python-dateutil>=2.8.1 in c:\\users\\laura\\miniconda3\\envs\\supervised\\lib\\site-packages (from pandas) (2.8.2)\n",
      "Requirement already satisfied: pytz>=2020.1 in c:\\users\\laura\\miniconda3\\envs\\supervised\\lib\\site-packages (from pandas) (2022.7)\n",
      "Requirement already satisfied: numpy>=1.21.0 in c:\\users\\laura\\miniconda3\\envs\\supervised\\lib\\site-packages (from pandas) (1.25.0)\n",
      "Requirement already satisfied: six>=1.5 in c:\\users\\laura\\miniconda3\\envs\\supervised\\lib\\site-packages (from python-dateutil>=2.8.1->pandas) (1.16.0)\n"
     ]
    }
   ],
   "source": [
    "#!pip install pandas"
   ]
  },
  {
   "cell_type": "code",
   "execution_count": 2,
   "metadata": {},
   "outputs": [
    {
     "name": "stdout",
     "output_type": "stream",
     "text": [
      "Counts for each set:\n",
      "train    1423927\n",
      "test       80166\n",
      "val        79722\n",
      "Name: set, dtype: int64\n"
     ]
    }
   ],
   "source": [
    "import pandas as pd\n",
    "\n",
    "# Assuming your CSV file is named 'processed.csv' and located in the current directory\n",
    "file_path = './data/processed.csv'\n",
    "\n",
    "# Load the dataset into a pandas DataFrame\n",
    "df = pd.read_csv(file_path)\n",
    "\n",
    "# Count the number of entries in each set\n",
    "set_counts = df['set'].value_counts()\n",
    "\n",
    "# Print the counts for each set\n",
    "print(\"Counts for each set:\")\n",
    "print(set_counts)\n"
   ]
  },
  {
   "cell_type": "code",
   "execution_count": 3,
   "metadata": {},
   "outputs": [
    {
     "name": "stdout",
     "output_type": "stream",
     "text": [
      "Number of sessions per user per set:\n",
      "set   userId  session_id\n",
      "test  0       0             1\n",
      "              1             1\n",
      "              2             2\n",
      "              3             1\n",
      "              4             1\n",
      "                           ..\n",
      "val   3622    18            1\n",
      "              19            1\n",
      "              20            1\n",
      "              21            1\n",
      "              22            1\n",
      "Length: 414420, dtype: int64\n"
     ]
    }
   ],
   "source": [
    "# Define a function to detect session boundaries based on time gaps\n",
    "def detect_sessions(group, threshold=1800):\n",
    "    # Sort values by timestamp to ensure correct session boundary detection\n",
    "    group = group.sort_values('timestamp')\n",
    "    # Calculate the difference between consecutive timestamps\n",
    "    time_diff = group['timestamp'].diff()\n",
    "    # A session change occurs where the time difference exceeds the threshold\n",
    "    sessions = (time_diff > threshold).cumsum()\n",
    "    group['session_id'] = sessions\n",
    "    return group\n",
    "\n",
    "# Apply the function to each user group and reset the index\n",
    "sessionized_df = df.groupby(['set', 'userId']).apply(detect_sessions).reset_index(drop=True)\n",
    "\n",
    "# Now group by set, user, and session_id to check for the number of sessions per set\n",
    "session_counts = sessionized_df.groupby(['set', 'userId', 'session_id']).size()\n",
    "\n",
    "# Print the number of sessions per user per set\n",
    "print(\"Number of interactions per user session:\")\n",
    "print(session_counts)"
   ]
  },
  {
   "cell_type": "code",
   "execution_count": 6,
   "metadata": {},
   "outputs": [
    {
     "name": "stdout",
     "output_type": "stream",
     "text": [
      "    userId  itemId  timestamp  y  \\\n",
      "0        0      14    1296206  1   \n",
      "1        0     298    1326351  1   \n",
      "2        0      14    1449841  1   \n",
      "3        0      14    1450319  0   \n",
      "4        0      14    2895492  1   \n",
      "5        0     298    2910072  1   \n",
      "6        0      14    3295034  0   \n",
      "7        0     298    4366958  0   \n",
      "8        0     298    4418172  0   \n",
      "9        0      14    4736418  1   \n",
      "10       0      14    4978819  0   \n",
      "11       0      14    4979078  0   \n",
      "12       0      14    4979160  0   \n",
      "13       0     298    5631477  0   \n",
      "14       1      40    1115860  0   \n",
      "15       1      40    1115866  1   \n",
      "16       1     300    2090780  0   \n",
      "17       1      40    3508379  0   \n",
      "18       1     300    5100879  0   \n",
      "19       1     300    5100965  0   \n",
      "\n",
      "                                  relational_interval   set  session_id  \n",
      "0                                               [0.0]  test           0  \n",
      "1                                               [0.0]  test           1  \n",
      "2                            [42.67638888888889, 0.0]  test           2  \n",
      "3            [42.80916666666667, 0.13277777777777777]  test           2  \n",
      "4        [444.24611111111113, 401.5697222222222, 0.0]  test           3  \n",
      "5                                     [439.9225, 0.0]  test           4  \n",
      "6     [555.23, 512.5536111111111, 110.98388888888888]  test           5  \n",
      "7             [844.6130555555555, 404.69055555555553]  test           6  \n",
      "8              [858.8391666666666, 418.9166666666667]  test           7  \n",
      "9   [955.6144444444444, 912.9380555555556, 511.368...  test           8  \n",
      "10  [1022.9480555555556, 980.2716666666666, 578.70...  test           9  \n",
      "11  [1023.02, 980.3436111111112, 578.7738888888889...  test           9  \n",
      "12  [1023.0427777777778, 980.3663888888889, 578.79...  test           9  \n",
      "13            [1195.8683333333333, 755.9458333333333]  test          10  \n",
      "14                                                 []  test           0  \n",
      "15                                              [0.0]  test           0  \n",
      "16                                                 []  test           1  \n",
      "17                                [664.5869444444445]  test           2  \n",
      "18                                                 []  test           3  \n",
      "19                                                 []  test           3  \n"
     ]
    }
   ],
   "source": [
    "print(sessionized_df.head(20))"
   ]
  },
  {
   "cell_type": "code",
   "execution_count": 7,
   "metadata": {},
   "outputs": [
    {
     "name": "stdout",
     "output_type": "stream",
     "text": [
      "Number of sessions per user per set:\n",
      "set   userId  session_id\n",
      "test  0       0             1\n",
      "              1             1\n",
      "              2             2\n",
      "              3             1\n",
      "              4             1\n",
      "                           ..\n",
      "val   3622    18            1\n",
      "              19            1\n",
      "              20            1\n",
      "              21            1\n",
      "              22            1\n",
      "Length: 414420, dtype: int64\n"
     ]
    }
   ],
   "source": [
    "# Now group by set, user, and session_id to check for the number of sessions per set\n",
    "session_counts = sessionized_df.groupby(['set', 'userId', 'session_id']).size()\n",
    "\n",
    "# Print the number of sessions per user per set\n",
    "print(\"Number of sessions per user per set:\")\n",
    "print(session_counts)"
   ]
  },
  {
   "cell_type": "code",
   "execution_count": 9,
   "metadata": {},
   "outputs": [
    {
     "name": "stdout",
     "output_type": "stream",
     "text": [
      "Filtered sessions (10 or more interactions):\n",
      "set    userId  session_id\n",
      "test   2796    4             33\n",
      "train  0       24            31\n",
      "               27            31\n",
      "               35            43\n",
      "               64            62\n",
      "                             ..\n",
      "       3621    22            38\n",
      "               39            34\n",
      "       3622    21            32\n",
      "               22            30\n",
      "val    2146    2             31\n",
      "Length: 2947, dtype: int64\n"
     ]
    }
   ],
   "source": [
    "# Filter session_counts where the count is 10 or more\n",
    "filtered_sessions = session_counts[session_counts >= 30]\n",
    "\n",
    "# Print the filtered sessions\n",
    "print(\"Filtered sessions (10 or more interactions):\")\n",
    "print(filtered_sessions)\n"
   ]
  }
 ],
 "metadata": {
  "kernelspec": {
   "display_name": "Python (supervised)",
   "language": "python",
   "name": "supervised"
  },
  "language_info": {
   "codemirror_mode": {
    "name": "ipython",
    "version": 3
   },
   "file_extension": ".py",
   "mimetype": "text/x-python",
   "name": "python",
   "nbconvert_exporter": "python",
   "pygments_lexer": "ipython3",
   "version": "3.10.11"
  }
 },
 "nbformat": 4,
 "nbformat_minor": 2
}
