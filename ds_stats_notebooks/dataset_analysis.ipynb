{
 "cells": [
  {
   "cell_type": "markdown",
   "metadata": {},
   "source": [
    "# Practical Work in AI"
   ]
  },
  {
   "cell_type": "code",
   "execution_count": 1,
   "metadata": {},
   "outputs": [],
   "source": [
    "# installs necessary libraries\n",
    "\n",
    "#!pip install pandas"
   ]
  },
  {
   "cell_type": "code",
   "execution_count": 2,
   "metadata": {},
   "outputs": [],
   "source": [
    "# necessary imports for notebook to run\n",
    "import pandas as pd\n",
    "import matplotlib.pyplot as plt\n",
    "import seaborn as sns"
   ]
  },
  {
   "cell_type": "markdown",
   "metadata": {},
   "source": [
    "## 1. Dataset analysis"
   ]
  },
  {
   "cell_type": "markdown",
   "metadata": {},
   "source": [
    "### 1.1 Structure of processed.csv"
   ]
  },
  {
   "cell_type": "markdown",
   "metadata": {},
   "source": [
    "As a first step, certain statistics have to be observed on the given dataset in order to see if it is feasible to be sessionized and further used for training sequence-aware recommender systems models [a], such as GRU4Rec. In our work, a sessionized dataset is a dataset which has been split up into interaction sessions, where a specific user interacts with items. A set threshold determines when to split interactions into the next user session. A session always corresponds to one user, and one user can have multiple sessions.\n",
    "\n",
    "For the analysis, we are working with the \"processed.csv\" dataset, which contains user-item interactions and represents a pre-processed version of the \"new_release_stream.csv\" file. A single row in this file looks like the following:\n",
    "\n",
    "`28,60,188807,1,[0.0],train`\n",
    "\n",
    "Here, the user with ID 28 listened to the track with ID 60 at timestamp 188807 (measured in seconds from first consumption). The track was listened to over 80% of its length (y = 1). The time interval (measured in hours) between when user 28 interacted with item 60 this time, versus the previous times, is 0.0, meaning it is the first interaction from user 28 to track 60. Based on the train-test-val split done during pre-processing (see `preprocess.py`), this interaction is part of the training set. \n",
    "\n",
    "Repetitive behavior is measured via the relational interval column (here [0.0]). Hence, the following lines from the dataset:\n",
    "\n",
    "`28,60,188807,1,[0.0],train`\n",
    "\n",
    "`28,60,188977,1,\"[0.04722222222222222, 0.0]\",train`\n",
    "\n",
    "`28,60,189155,0,\"[0.09666666666666666, 0.049444444444444444]\",train`\n",
    "\n",
    "have the following meaning with regards to the repetitions:\n",
    "\n",
    "`28,60,188807,1,[0.0],train` = User 28 consumes item 60 for the first time, thus no previous consumptions logged in the relational interval\n",
    "\n",
    "`28,60,188977,1,\"[0.04722222222222222, 0.0]\",train` = User 28 consumed item 60 for the first time 188977-188807 = 170s / 60 / 60 = 0.047222hrs ago\n",
    "\n",
    "`28,60,189155,0,\"[0.09666666666666666, 0.049444444444444444]\",train` = User 28 consumed item 60 since the last time 189155-188977 = 178s / 60 / 60 = 0.049444hrs ago and for the first time 0.049444444444444444 + 0.04722222222222222 = 0.09666666666666666 hrs ago"
   ]
  },
  {
   "cell_type": "markdown",
   "metadata": {},
   "source": [
    "### 1.2 Statistical Analysis"
   ]
  },
  {
   "cell_type": "markdown",
   "metadata": {},
   "source": [
    "The analysis of the dataset is separated into two parts:\n",
    "\n",
    "- **Global measures**: e.g. average count of user-item interactions per set, average count of user-item interactions per item, etc.\n",
    "- **Session-based measures**: e.g. average number of sessions per user, average number of interactions per session, etc.\n",
    "\n",
    "Global measures are metrics which are interesting in terms of the whole dataset, without (yet) any focus on sessions. These statistics are based on the dataset as a whole. Session-based measures, as the name suggests, are evaluated on a previously sessionized dataset.\n",
    "\n",
    "We start by reading in the data:"
   ]
  },
  {
   "cell_type": "code",
   "execution_count": 4,
   "metadata": {},
   "outputs": [],
   "source": [
    "file_path = 'G:\\My Drive\\JKU\\practical_work\\Practical-Work-AI\\data\\processed.csv' # adjust as needed\n",
    "df = pd.read_csv(file_path)"
   ]
  },
  {
   "cell_type": "markdown",
   "metadata": {},
   "source": [
    "At first, we focus on global measures which concern the whole dataset."
   ]
  },
  {
   "cell_type": "markdown",
   "metadata": {},
   "source": [
    "#### 1.2.1 Global measures\n",
    "\n",
    "We observe the number of interactions, unique users and unique items in the dataset:"
   ]
  },
  {
   "cell_type": "code",
   "execution_count": 5,
   "metadata": {},
   "outputs": [
    {
     "name": "stdout",
     "output_type": "stream",
     "text": [
      "Number of user-item interactions in total:  243635\n",
      "Number of unique users:  463\n",
      "Number of unique songs:  879\n"
     ]
    }
   ],
   "source": [
    "print(\"Number of user-item interactions in total: \", len(df))\n",
    "print(\"Number of unique users: \", df.userId.nunique())\n",
    "print(\"Number of unique songs: \", df.itemId.nunique())"
   ]
  },
  {
   "cell_type": "markdown",
   "metadata": {},
   "source": [
    "These numbers are consistent with the reportings from [b], after the authors implemented a $k^{item}$ and a $k^{user}$ pre-processing step, where each user has to have interacted with at least $k^{item}$ items and every item has to have been consumed by $k^{user}$ users. They decided on $k^{item} = k^{user} = 30$. For details, see [b], pp. 975."
   ]
  },
  {
   "cell_type": "markdown",
   "metadata": {},
   "source": [
    "##### **Number of total user-item interactions per set**"
   ]
  },
  {
   "cell_type": "markdown",
   "metadata": {},
   "source": [
    "The following table shows the number of interactions per set (training, validation, and test). These are pre-determined by the 'set'-column, which is filled during the pre-processing step."
   ]
  },
  {
   "cell_type": "code",
   "execution_count": 6,
   "metadata": {},
   "outputs": [
    {
     "name": "stdout",
     "output_type": "stream",
     "text": [
      "Number of user-item interactions for training-, test-, and validation set:\n"
     ]
    },
    {
     "data": {
      "text/html": [
       "<div>\n",
       "<style scoped>\n",
       "    .dataframe tbody tr th:only-of-type {\n",
       "        vertical-align: middle;\n",
       "    }\n",
       "\n",
       "    .dataframe tbody tr th {\n",
       "        vertical-align: top;\n",
       "    }\n",
       "\n",
       "    .dataframe thead th {\n",
       "        text-align: right;\n",
       "    }\n",
       "</style>\n",
       "<table border=\"1\" class=\"dataframe\">\n",
       "  <thead>\n",
       "    <tr style=\"text-align: right;\">\n",
       "      <th></th>\n",
       "      <th>index</th>\n",
       "      <th>n_interactions</th>\n",
       "    </tr>\n",
       "  </thead>\n",
       "  <tbody>\n",
       "    <tr>\n",
       "      <th>0</th>\n",
       "      <td>train</td>\n",
       "      <td>170321</td>\n",
       "    </tr>\n",
       "    <tr>\n",
       "      <th>1</th>\n",
       "      <td>test</td>\n",
       "      <td>49160</td>\n",
       "    </tr>\n",
       "    <tr>\n",
       "      <th>2</th>\n",
       "      <td>val</td>\n",
       "      <td>24154</td>\n",
       "    </tr>\n",
       "  </tbody>\n",
       "</table>\n",
       "</div>"
      ],
      "text/plain": [
       "   index  n_interactions\n",
       "0  train          170321\n",
       "1   test           49160\n",
       "2    val           24154"
      ]
     },
     "execution_count": 6,
     "metadata": {},
     "output_type": "execute_result"
    }
   ],
   "source": [
    "# count number of rows per set, aka count size of training, test and validation dataset\n",
    "set_counts = df['set'].value_counts()\n",
    "\n",
    "# create df outof series and rename columns accordingly\n",
    "set_counts = set_counts.reset_index(name='n_interactions')\n",
    "\n",
    "print(\"Number of user-item interactions for training-, test-, and validation set:\")\n",
    "set_counts\n"
   ]
  },
  {
   "cell_type": "markdown",
   "metadata": {},
   "source": [
    "As we can see, after splitting the data, we have train = ~1.4m, test = ~80.1k and validation = ~79.7k interactions. "
   ]
  },
  {
   "cell_type": "markdown",
   "metadata": {},
   "source": [
    "##### **Interest score distribution across sets**"
   ]
  },
  {
   "cell_type": "markdown",
   "metadata": {},
   "source": [
    "We can now split up the number of interactions based on various criteria we want to observe. For example, this table shows the interest distribution across the different sets. The authors use the $y$ variable, where $y=1$ if the user has listened to more than 80% of the track, and $y=0$ otherwise, as target values for the interest. Namely, if $y=1$, then the interest score for that interaction is equal to 1, meaning the user is interested in the item. These are then used as the target variables in the test set. During training, interest scores ranging from 0 to 1 are obtained. These are then converted to 1 if the score >= 0.5, or 0 otherwise; and then compared to the target interest scores during evaluation."
   ]
  },
  {
   "cell_type": "code",
   "execution_count": 7,
   "metadata": {},
   "outputs": [
    {
     "data": {
      "text/html": [
       "<div>\n",
       "<style scoped>\n",
       "    .dataframe tbody tr th:only-of-type {\n",
       "        vertical-align: middle;\n",
       "    }\n",
       "\n",
       "    .dataframe tbody tr th {\n",
       "        vertical-align: top;\n",
       "    }\n",
       "\n",
       "    .dataframe thead th {\n",
       "        text-align: right;\n",
       "    }\n",
       "</style>\n",
       "<table border=\"1\" class=\"dataframe\">\n",
       "  <thead>\n",
       "    <tr style=\"text-align: right;\">\n",
       "      <th></th>\n",
       "      <th>set</th>\n",
       "      <th>y</th>\n",
       "      <th>n_interactions</th>\n",
       "    </tr>\n",
       "  </thead>\n",
       "  <tbody>\n",
       "    <tr>\n",
       "      <th>0</th>\n",
       "      <td>test</td>\n",
       "      <td>0</td>\n",
       "      <td>23671</td>\n",
       "    </tr>\n",
       "    <tr>\n",
       "      <th>1</th>\n",
       "      <td>test</td>\n",
       "      <td>1</td>\n",
       "      <td>25489</td>\n",
       "    </tr>\n",
       "    <tr>\n",
       "      <th>2</th>\n",
       "      <td>train</td>\n",
       "      <td>0</td>\n",
       "      <td>79301</td>\n",
       "    </tr>\n",
       "    <tr>\n",
       "      <th>3</th>\n",
       "      <td>train</td>\n",
       "      <td>1</td>\n",
       "      <td>91020</td>\n",
       "    </tr>\n",
       "    <tr>\n",
       "      <th>4</th>\n",
       "      <td>val</td>\n",
       "      <td>0</td>\n",
       "      <td>11896</td>\n",
       "    </tr>\n",
       "    <tr>\n",
       "      <th>5</th>\n",
       "      <td>val</td>\n",
       "      <td>1</td>\n",
       "      <td>12258</td>\n",
       "    </tr>\n",
       "  </tbody>\n",
       "</table>\n",
       "</div>"
      ],
      "text/plain": [
       "     set  y  n_interactions\n",
       "0   test  0           23671\n",
       "1   test  1           25489\n",
       "2  train  0           79301\n",
       "3  train  1           91020\n",
       "4    val  0           11896\n",
       "5    val  1           12258"
      ]
     },
     "execution_count": 7,
     "metadata": {},
     "output_type": "execute_result"
    }
   ],
   "source": [
    "listening_events = df.groupby(['set', 'y']).size().reset_index(name='n_interactions')\n",
    "listening_events"
   ]
  },
  {
   "cell_type": "markdown",
   "metadata": {},
   "source": [
    "We observe a pretty even distribution of the binary interest variable across the sets, with slightly more \"interested\" interactions than \"not interested\" interactions."
   ]
  },
  {
   "cell_type": "markdown",
   "metadata": {},
   "source": [
    "##### **Average number of interactions per user, in total and per set**"
   ]
  },
  {
   "cell_type": "markdown",
   "metadata": {},
   "source": [
    "The interactions can also be averaged per user or per item, and further split into a more useful statistic - the average number of interactions per user/item for each set. This lets us know if each set has enough data per user/item in it. We also observe how many tracks the user is interested in within all interactions."
   ]
  },
  {
   "cell_type": "code",
   "execution_count": 8,
   "metadata": {},
   "outputs": [
    {
     "name": "stdout",
     "output_type": "stream",
     "text": [
      "On average, a user has 526.2 item interactions in total with the following interest distribution:\n"
     ]
    },
    {
     "data": {
      "text/html": [
       "<div>\n",
       "<style scoped>\n",
       "    .dataframe tbody tr th:only-of-type {\n",
       "        vertical-align: middle;\n",
       "    }\n",
       "\n",
       "    .dataframe tbody tr th {\n",
       "        vertical-align: top;\n",
       "    }\n",
       "\n",
       "    .dataframe thead th {\n",
       "        text-align: right;\n",
       "    }\n",
       "</style>\n",
       "<table border=\"1\" class=\"dataframe\">\n",
       "  <thead>\n",
       "    <tr style=\"text-align: right;\">\n",
       "      <th></th>\n",
       "      <th>y</th>\n",
       "      <th>n_interactions</th>\n",
       "    </tr>\n",
       "  </thead>\n",
       "  <tbody>\n",
       "    <tr>\n",
       "      <th>0</th>\n",
       "      <td>0</td>\n",
       "      <td>248.1</td>\n",
       "    </tr>\n",
       "    <tr>\n",
       "      <th>1</th>\n",
       "      <td>1</td>\n",
       "      <td>278.1</td>\n",
       "    </tr>\n",
       "  </tbody>\n",
       "</table>\n",
       "</div>"
      ],
      "text/plain": [
       "   y  n_interactions\n",
       "0  0           248.1\n",
       "1  1           278.1"
      ]
     },
     "execution_count": 8,
     "metadata": {},
     "output_type": "execute_result"
    }
   ],
   "source": [
    "user_interaction_counts = df.groupby('userId').size() # per userId, count the interactions\n",
    "avg_user_counts = user_interaction_counts.mean() # average interaction counts over all users\n",
    "\n",
    "print(f\"On average, a user has {round(avg_user_counts, 1)} item interactions in total with the following interest distribution:\")\n",
    "\n",
    "user_interaction_counts_interest_scores = df.groupby(['userId', 'y']).size().reset_index(name='n_interactions')\n",
    "user_interaction_counts_interest_scores.groupby('y')['n_interactions'].mean().round(1).reset_index(name='n_interactions')"
   ]
  },
  {
   "cell_type": "markdown",
   "metadata": {},
   "source": [
    "On average, users have around 437 interactions and actually listen to (= are interested in) roughly half of the tracks of all interactions."
   ]
  },
  {
   "cell_type": "code",
   "execution_count": 9,
   "metadata": {},
   "outputs": [
    {
     "name": "stdout",
     "output_type": "stream",
     "text": [
      "On average, a user has the following numbers of interactions per set:\n"
     ]
    },
    {
     "data": {
      "text/html": [
       "<div>\n",
       "<style scoped>\n",
       "    .dataframe tbody tr th:only-of-type {\n",
       "        vertical-align: middle;\n",
       "    }\n",
       "\n",
       "    .dataframe tbody tr th {\n",
       "        vertical-align: top;\n",
       "    }\n",
       "\n",
       "    .dataframe thead th {\n",
       "        text-align: right;\n",
       "    }\n",
       "</style>\n",
       "<table border=\"1\" class=\"dataframe\">\n",
       "  <thead>\n",
       "    <tr style=\"text-align: right;\">\n",
       "      <th></th>\n",
       "      <th>set</th>\n",
       "      <th>y</th>\n",
       "      <th>n_interactions</th>\n",
       "    </tr>\n",
       "  </thead>\n",
       "  <tbody>\n",
       "    <tr>\n",
       "      <th>0</th>\n",
       "      <td>test</td>\n",
       "      <td>0</td>\n",
       "      <td>51.1</td>\n",
       "    </tr>\n",
       "    <tr>\n",
       "      <th>1</th>\n",
       "      <td>test</td>\n",
       "      <td>1</td>\n",
       "      <td>55.1</td>\n",
       "    </tr>\n",
       "    <tr>\n",
       "      <th>2</th>\n",
       "      <td>train</td>\n",
       "      <td>0</td>\n",
       "      <td>171.3</td>\n",
       "    </tr>\n",
       "    <tr>\n",
       "      <th>3</th>\n",
       "      <td>train</td>\n",
       "      <td>1</td>\n",
       "      <td>196.6</td>\n",
       "    </tr>\n",
       "    <tr>\n",
       "      <th>4</th>\n",
       "      <td>val</td>\n",
       "      <td>0</td>\n",
       "      <td>25.7</td>\n",
       "    </tr>\n",
       "    <tr>\n",
       "      <th>5</th>\n",
       "      <td>val</td>\n",
       "      <td>1</td>\n",
       "      <td>26.9</td>\n",
       "    </tr>\n",
       "  </tbody>\n",
       "</table>\n",
       "</div>"
      ],
      "text/plain": [
       "     set  y  n_interactions\n",
       "0   test  0            51.1\n",
       "1   test  1            55.1\n",
       "2  train  0           171.3\n",
       "3  train  1           196.6\n",
       "4    val  0            25.7\n",
       "5    val  1            26.9"
      ]
     },
     "execution_count": 9,
     "metadata": {},
     "output_type": "execute_result"
    }
   ],
   "source": [
    "user_interaction_counts_per_set = df.groupby(['set', 'userId', 'y']).size().reset_index(name='n_interactions')\n",
    "\n",
    "user_interaction_counts_per_set = user_interaction_counts_per_set.groupby(['set', 'y'])['n_interactions'].mean().round(1).reset_index(name='n_interactions')\n",
    "\n",
    "print(\"On average, a user has the following numbers of interactions per set:\")\n",
    "user_interaction_counts_per_set"
   ]
  },
  {
   "cell_type": "markdown",
   "metadata": {},
   "source": [
    "##### **Average number of interactions per item, in total and per set**"
   ]
  },
  {
   "cell_type": "code",
   "execution_count": 10,
   "metadata": {},
   "outputs": [
    {
     "name": "stdout",
     "output_type": "stream",
     "text": [
      "On average, an item is interacted with 277.2 times, split into the following interest distribution:\n"
     ]
    },
    {
     "data": {
      "text/html": [
       "<div>\n",
       "<style scoped>\n",
       "    .dataframe tbody tr th:only-of-type {\n",
       "        vertical-align: middle;\n",
       "    }\n",
       "\n",
       "    .dataframe tbody tr th {\n",
       "        vertical-align: top;\n",
       "    }\n",
       "\n",
       "    .dataframe thead th {\n",
       "        text-align: right;\n",
       "    }\n",
       "</style>\n",
       "<table border=\"1\" class=\"dataframe\">\n",
       "  <thead>\n",
       "    <tr style=\"text-align: right;\">\n",
       "      <th></th>\n",
       "      <th>y</th>\n",
       "      <th>n_interactions</th>\n",
       "    </tr>\n",
       "  </thead>\n",
       "  <tbody>\n",
       "    <tr>\n",
       "      <th>0</th>\n",
       "      <td>0</td>\n",
       "      <td>130.7</td>\n",
       "    </tr>\n",
       "    <tr>\n",
       "      <th>1</th>\n",
       "      <td>1</td>\n",
       "      <td>146.5</td>\n",
       "    </tr>\n",
       "  </tbody>\n",
       "</table>\n",
       "</div>"
      ],
      "text/plain": [
       "   y  n_interactions\n",
       "0  0           130.7\n",
       "1  1           146.5"
      ]
     },
     "execution_count": 10,
     "metadata": {},
     "output_type": "execute_result"
    }
   ],
   "source": [
    "item_interaction_counts = df['itemId'].value_counts() # per track, count the interactions\n",
    "avg_item_counts = item_interaction_counts.mean() # average interaction counts over all items\n",
    "\n",
    "print(f\"On average, an item is interacted with {round(avg_item_counts, 1)} times, split into the following interest distribution:\")\n",
    "\n",
    "item_interaction_counts_interest_scores = df.groupby(['itemId', 'y']).size().reset_index(name='n_interactions')\n",
    "item_interaction_counts_interest_scores.groupby('y')['n_interactions'].mean().round(1).reset_index(name='n_interactions')"
   ]
  },
  {
   "cell_type": "code",
   "execution_count": 11,
   "metadata": {},
   "outputs": [
    {
     "name": "stdout",
     "output_type": "stream",
     "text": [
      "On average, an item is interacted with the following number of times per set:\n"
     ]
    },
    {
     "data": {
      "text/html": [
       "<div>\n",
       "<style scoped>\n",
       "    .dataframe tbody tr th:only-of-type {\n",
       "        vertical-align: middle;\n",
       "    }\n",
       "\n",
       "    .dataframe tbody tr th {\n",
       "        vertical-align: top;\n",
       "    }\n",
       "\n",
       "    .dataframe thead th {\n",
       "        text-align: right;\n",
       "    }\n",
       "</style>\n",
       "<table border=\"1\" class=\"dataframe\">\n",
       "  <thead>\n",
       "    <tr style=\"text-align: right;\">\n",
       "      <th></th>\n",
       "      <th>set</th>\n",
       "      <th>y</th>\n",
       "      <th>n_interactions</th>\n",
       "    </tr>\n",
       "  </thead>\n",
       "  <tbody>\n",
       "    <tr>\n",
       "      <th>0</th>\n",
       "      <td>test</td>\n",
       "      <td>0</td>\n",
       "      <td>27.8</td>\n",
       "    </tr>\n",
       "    <tr>\n",
       "      <th>1</th>\n",
       "      <td>test</td>\n",
       "      <td>1</td>\n",
       "      <td>31.4</td>\n",
       "    </tr>\n",
       "    <tr>\n",
       "      <th>2</th>\n",
       "      <td>train</td>\n",
       "      <td>0</td>\n",
       "      <td>90.4</td>\n",
       "    </tr>\n",
       "    <tr>\n",
       "      <th>3</th>\n",
       "      <td>train</td>\n",
       "      <td>1</td>\n",
       "      <td>104.3</td>\n",
       "    </tr>\n",
       "    <tr>\n",
       "      <th>4</th>\n",
       "      <td>val</td>\n",
       "      <td>0</td>\n",
       "      <td>13.9</td>\n",
       "    </tr>\n",
       "    <tr>\n",
       "      <th>5</th>\n",
       "      <td>val</td>\n",
       "      <td>1</td>\n",
       "      <td>17.1</td>\n",
       "    </tr>\n",
       "  </tbody>\n",
       "</table>\n",
       "</div>"
      ],
      "text/plain": [
       "     set  y  n_interactions\n",
       "0   test  0            27.8\n",
       "1   test  1            31.4\n",
       "2  train  0            90.4\n",
       "3  train  1           104.3\n",
       "4    val  0            13.9\n",
       "5    val  1            17.1"
      ]
     },
     "execution_count": 11,
     "metadata": {},
     "output_type": "execute_result"
    }
   ],
   "source": [
    "item_interaction_counts_per_set = df.groupby(['set', 'itemId', 'y']).size()\n",
    "\n",
    "item_interaction_counts_per_set = item_interaction_counts_per_set.groupby(['set', 'y']).mean().round(1).reset_index(name='n_interactions')\n",
    "\n",
    "print(\"On average, an item is interacted with the following number of times per set:\")\n",
    "item_interaction_counts_per_set"
   ]
  },
  {
   "cell_type": "markdown",
   "metadata": {},
   "source": [
    "Here we also observe that a slight majority of consumed tracks are listened to >80% of their duration."
   ]
  },
  {
   "cell_type": "markdown",
   "metadata": {},
   "source": [
    "##### **Average count of repetitions across all users, in total and per set**"
   ]
  },
  {
   "cell_type": "markdown",
   "metadata": {},
   "source": [
    "Since our work focuses on a user's repetitive behavior, another statistic that we observe is the number of repetitions "
   ]
  },
  {
   "cell_type": "code",
   "execution_count": 12,
   "metadata": {},
   "outputs": [
    {
     "name": "stdout",
     "output_type": "stream",
     "text": [
      "On average, a user repeats one particular track with the following distribution:\n"
     ]
    },
    {
     "data": {
      "text/html": [
       "<div>\n",
       "<style scoped>\n",
       "    .dataframe tbody tr th:only-of-type {\n",
       "        vertical-align: middle;\n",
       "    }\n",
       "\n",
       "    .dataframe tbody tr th {\n",
       "        vertical-align: top;\n",
       "    }\n",
       "\n",
       "    .dataframe thead th {\n",
       "        text-align: right;\n",
       "    }\n",
       "</style>\n",
       "<table border=\"1\" class=\"dataframe\">\n",
       "  <thead>\n",
       "    <tr style=\"text-align: right;\">\n",
       "      <th></th>\n",
       "      <th>y</th>\n",
       "      <th>n_reps</th>\n",
       "    </tr>\n",
       "  </thead>\n",
       "  <tbody>\n",
       "    <tr>\n",
       "      <th>0</th>\n",
       "      <td>0</td>\n",
       "      <td>5.8</td>\n",
       "    </tr>\n",
       "    <tr>\n",
       "      <th>1</th>\n",
       "      <td>1</td>\n",
       "      <td>6.5</td>\n",
       "    </tr>\n",
       "  </tbody>\n",
       "</table>\n",
       "</div>"
      ],
      "text/plain": [
       "   y  n_reps\n",
       "0  0     5.8\n",
       "1  1     6.5"
      ]
     },
     "execution_count": 12,
     "metadata": {},
     "output_type": "execute_result"
    }
   ],
   "source": [
    "user_item_same_pairs_counts = df.groupby(['userId', 'itemId', 'y']).size().reset_index(name='n_interactions') # counts the number of rows per same user-item pair\n",
    "\n",
    "average_repetitions = user_item_same_pairs_counts.groupby('y')['n_interactions'].mean().round(1).reset_index(name='n_reps') # averages them\n",
    "\n",
    "print(f\"On average, a user repeats one particular track with the following distribution:\")\n",
    "average_repetitions"
   ]
  },
  {
   "cell_type": "markdown",
   "metadata": {},
   "source": [
    "For instance, user A repeats track 1 on average ~11 times overall, however only listens to it properly about 6 times."
   ]
  },
  {
   "cell_type": "code",
   "execution_count": 13,
   "metadata": {},
   "outputs": [
    {
     "name": "stdout",
     "output_type": "stream",
     "text": [
      "Per set, on average, a user repeats one particular track the following number of times:\n"
     ]
    },
    {
     "data": {
      "text/html": [
       "<div>\n",
       "<style scoped>\n",
       "    .dataframe tbody tr th:only-of-type {\n",
       "        vertical-align: middle;\n",
       "    }\n",
       "\n",
       "    .dataframe tbody tr th {\n",
       "        vertical-align: top;\n",
       "    }\n",
       "\n",
       "    .dataframe thead th {\n",
       "        text-align: right;\n",
       "    }\n",
       "</style>\n",
       "<table border=\"1\" class=\"dataframe\">\n",
       "  <thead>\n",
       "    <tr style=\"text-align: right;\">\n",
       "      <th></th>\n",
       "      <th>set</th>\n",
       "      <th>y</th>\n",
       "      <th>n_reps</th>\n",
       "    </tr>\n",
       "  </thead>\n",
       "  <tbody>\n",
       "    <tr>\n",
       "      <th>0</th>\n",
       "      <td>test</td>\n",
       "      <td>0</td>\n",
       "      <td>2.3</td>\n",
       "    </tr>\n",
       "    <tr>\n",
       "      <th>1</th>\n",
       "      <td>test</td>\n",
       "      <td>1</td>\n",
       "      <td>2.4</td>\n",
       "    </tr>\n",
       "    <tr>\n",
       "      <th>2</th>\n",
       "      <td>train</td>\n",
       "      <td>0</td>\n",
       "      <td>4.5</td>\n",
       "    </tr>\n",
       "    <tr>\n",
       "      <th>3</th>\n",
       "      <td>train</td>\n",
       "      <td>1</td>\n",
       "      <td>5.0</td>\n",
       "    </tr>\n",
       "    <tr>\n",
       "      <th>4</th>\n",
       "      <td>val</td>\n",
       "      <td>0</td>\n",
       "      <td>1.8</td>\n",
       "    </tr>\n",
       "    <tr>\n",
       "      <th>5</th>\n",
       "      <td>val</td>\n",
       "      <td>1</td>\n",
       "      <td>1.7</td>\n",
       "    </tr>\n",
       "  </tbody>\n",
       "</table>\n",
       "</div>"
      ],
      "text/plain": [
       "     set  y  n_reps\n",
       "0   test  0     2.3\n",
       "1   test  1     2.4\n",
       "2  train  0     4.5\n",
       "3  train  1     5.0\n",
       "4    val  0     1.8\n",
       "5    val  1     1.7"
      ]
     },
     "execution_count": 13,
     "metadata": {},
     "output_type": "execute_result"
    }
   ],
   "source": [
    "user_item_same_pairs_counts_per_set = df.groupby(['set', 'userId', 'itemId', 'y']).size() # counts the number of same user-item pairs per set\n",
    "\n",
    "average_repetitions_per_set = user_item_same_pairs_counts_per_set.groupby(['set', 'y']).mean().round(1).reset_index(name='n_reps') # averages them for each set\n",
    "\n",
    "print(\"Per set, on average, a user repeats one particular track the following number of times:\")\n",
    "average_repetitions_per_set"
   ]
  },
  {
   "cell_type": "markdown",
   "metadata": {},
   "source": [
    "Interestingly, we observe that the number of average repetitions of one track is slightly higher in the test and validation sets compared to the training set. Considering the sizes (=number of interactions) in each one, this might indicate that the validation and test set contain more repetitions than non-repetitions in am imbalanced way compared to the training set."
   ]
  },
  {
   "cell_type": "markdown",
   "metadata": {},
   "source": [
    "#### 1.2.2 Session-based measures"
   ]
  },
  {
   "cell_type": "markdown",
   "metadata": {},
   "source": [
    "In order to analyze session-based statistics, we first define a function `detect_session`, which takes in interaction sequences of a particular user (since sessions are always user-based) and sessionizes them, meaning splitting them into time-based data logs based on a splitting threshold in seconds. Here, we define this threshold to be 1800 seconds, which equals 30 minutes. Consequently, if the time between a user A listening to some track and user A listening to some other track after listening to the first one is greater than 30 minutes, the previous session finishes and the interaction is grouped into the next session. With the `cumsum` function, each session is given a unique ID, and each user-item interaction corresponds to one of the session IDs."
   ]
  },
  {
   "cell_type": "code",
   "execution_count": 14,
   "metadata": {},
   "outputs": [],
   "source": [
    "# define cutoff value for sessionizing (here, 30 mins (1800s) is taken)\n",
    "THRESHOLD = 1800\n",
    "def detect_sessions(unique_user_interactions, threshold=THRESHOLD):\n",
    "    # sort interactions chronologically (should be given by dataset anyway, this is just a precaution)\n",
    "    unique_user_interactions = unique_user_interactions.sort_values('timestamp')\n",
    "\n",
    "    # calc time differences between consecutive timestamps timestamp_j - timestamp_i\n",
    "    time_diff = unique_user_interactions['timestamp'].diff()\n",
    "\n",
    "    # sums up separate sessions - splits to next group when a new session starts (time difference > 30 mins), otherwise it stays the same - this can be used as IDs/index to mark which rows in sorted unique_user_interactions belong to which session\n",
    "    sessions = (time_diff > threshold).cumsum()\n",
    "    unique_user_interactions['session_id'] = sessions\n",
    "    return unique_user_interactions"
   ]
  },
  {
   "cell_type": "markdown",
   "metadata": {},
   "source": [
    "In a next step, we prepare two dataframes for analyzing the sessionized dataset: One for overall statistics, without taking the different sets into account, and one for further doing a set-wise analysis."
   ]
  },
  {
   "cell_type": "code",
   "execution_count": 14,
   "metadata": {},
   "outputs": [],
   "source": [
    "# assign session id's based on unique user's interactions and threshold\n",
    "sessionized_df_overall = df.groupby(['userId']).apply(detect_sessions).reset_index(drop=True)\n",
    "\n",
    "# for each set, group each user (unique users in training set, unique users in val set, unique users in test set) and detect their sessions\n",
    "sessionized_df = df.groupby(['set', 'userId']).apply(detect_sessions).reset_index(drop=True)"
   ]
  },
  {
   "cell_type": "markdown",
   "metadata": {},
   "source": [
    "When outputting the `sessionized_df`, we can now see that each interaction has been grouped into one session. These sessions are user-based, meaning that there are duplicate session_id's in the overall dataframe. For example, User 0 has session 0,1,2, etc., but User 1's first session also starts with session_id of 0. In fact, session ID's always start at 0 and are then assigned ascendingly and increasingly depending on the time threshold set."
   ]
  },
  {
   "cell_type": "code",
   "execution_count": 15,
   "metadata": {},
   "outputs": [
    {
     "data": {
      "text/html": [
       "<div>\n",
       "<style scoped>\n",
       "    .dataframe tbody tr th:only-of-type {\n",
       "        vertical-align: middle;\n",
       "    }\n",
       "\n",
       "    .dataframe tbody tr th {\n",
       "        vertical-align: top;\n",
       "    }\n",
       "\n",
       "    .dataframe thead th {\n",
       "        text-align: right;\n",
       "    }\n",
       "</style>\n",
       "<table border=\"1\" class=\"dataframe\">\n",
       "  <thead>\n",
       "    <tr style=\"text-align: right;\">\n",
       "      <th></th>\n",
       "      <th>userId</th>\n",
       "      <th>itemId</th>\n",
       "      <th>timestamp</th>\n",
       "      <th>y</th>\n",
       "      <th>relational_interval</th>\n",
       "      <th>set</th>\n",
       "      <th>session_id</th>\n",
       "    </tr>\n",
       "  </thead>\n",
       "  <tbody>\n",
       "    <tr>\n",
       "      <th>0</th>\n",
       "      <td>0</td>\n",
       "      <td>0</td>\n",
       "      <td>0</td>\n",
       "      <td>0</td>\n",
       "      <td>[]</td>\n",
       "      <td>train</td>\n",
       "      <td>0</td>\n",
       "    </tr>\n",
       "    <tr>\n",
       "      <th>1</th>\n",
       "      <td>0</td>\n",
       "      <td>7</td>\n",
       "      <td>15690</td>\n",
       "      <td>0</td>\n",
       "      <td>[]</td>\n",
       "      <td>train</td>\n",
       "      <td>1</td>\n",
       "    </tr>\n",
       "    <tr>\n",
       "      <th>2</th>\n",
       "      <td>0</td>\n",
       "      <td>15</td>\n",
       "      <td>38426</td>\n",
       "      <td>0</td>\n",
       "      <td>[]</td>\n",
       "      <td>train</td>\n",
       "      <td>2</td>\n",
       "    </tr>\n",
       "    <tr>\n",
       "      <th>3</th>\n",
       "      <td>0</td>\n",
       "      <td>5</td>\n",
       "      <td>45670</td>\n",
       "      <td>1</td>\n",
       "      <td>[0.0]</td>\n",
       "      <td>train</td>\n",
       "      <td>3</td>\n",
       "    </tr>\n",
       "    <tr>\n",
       "      <th>4</th>\n",
       "      <td>0</td>\n",
       "      <td>20</td>\n",
       "      <td>77618</td>\n",
       "      <td>0</td>\n",
       "      <td>[]</td>\n",
       "      <td>train</td>\n",
       "      <td>4</td>\n",
       "    </tr>\n",
       "    <tr>\n",
       "      <th>...</th>\n",
       "      <td>...</td>\n",
       "      <td>...</td>\n",
       "      <td>...</td>\n",
       "      <td>...</td>\n",
       "      <td>...</td>\n",
       "      <td>...</td>\n",
       "      <td>...</td>\n",
       "    </tr>\n",
       "    <tr>\n",
       "      <th>1583810</th>\n",
       "      <td>3622</td>\n",
       "      <td>579</td>\n",
       "      <td>10398504</td>\n",
       "      <td>1</td>\n",
       "      <td>[711.3533333333334, 665.9480555555556, 644.134...</td>\n",
       "      <td>train</td>\n",
       "      <td>23</td>\n",
       "    </tr>\n",
       "    <tr>\n",
       "      <th>1583811</th>\n",
       "      <td>3622</td>\n",
       "      <td>590</td>\n",
       "      <td>10398803</td>\n",
       "      <td>0</td>\n",
       "      <td>[711.3533333333334, 665.9480555555556, 644.133...</td>\n",
       "      <td>train</td>\n",
       "      <td>23</td>\n",
       "    </tr>\n",
       "    <tr>\n",
       "      <th>1583812</th>\n",
       "      <td>3622</td>\n",
       "      <td>591</td>\n",
       "      <td>10398827</td>\n",
       "      <td>1</td>\n",
       "      <td>[711.2280555555556, 665.8227777777778, 644.008...</td>\n",
       "      <td>train</td>\n",
       "      <td>23</td>\n",
       "    </tr>\n",
       "    <tr>\n",
       "      <th>1583813</th>\n",
       "      <td>3622</td>\n",
       "      <td>592</td>\n",
       "      <td>10398988</td>\n",
       "      <td>1</td>\n",
       "      <td>[711.2280555555556, 665.8227777777778, 644.008...</td>\n",
       "      <td>train</td>\n",
       "      <td>23</td>\n",
       "    </tr>\n",
       "    <tr>\n",
       "      <th>1583814</th>\n",
       "      <td>3622</td>\n",
       "      <td>577</td>\n",
       "      <td>10399344</td>\n",
       "      <td>0</td>\n",
       "      <td>[665.8227777777778, 69.93166666666667]</td>\n",
       "      <td>train</td>\n",
       "      <td>23</td>\n",
       "    </tr>\n",
       "  </tbody>\n",
       "</table>\n",
       "<p>1583815 rows × 7 columns</p>\n",
       "</div>"
      ],
      "text/plain": [
       "         userId  itemId  timestamp  y  \\\n",
       "0             0       0          0  0   \n",
       "1             0       7      15690  0   \n",
       "2             0      15      38426  0   \n",
       "3             0       5      45670  1   \n",
       "4             0      20      77618  0   \n",
       "...         ...     ...        ... ..   \n",
       "1583810    3622     579   10398504  1   \n",
       "1583811    3622     590   10398803  0   \n",
       "1583812    3622     591   10398827  1   \n",
       "1583813    3622     592   10398988  1   \n",
       "1583814    3622     577   10399344  0   \n",
       "\n",
       "                                       relational_interval    set  session_id  \n",
       "0                                                       []  train           0  \n",
       "1                                                       []  train           1  \n",
       "2                                                       []  train           2  \n",
       "3                                                    [0.0]  train           3  \n",
       "4                                                       []  train           4  \n",
       "...                                                    ...    ...         ...  \n",
       "1583810  [711.3533333333334, 665.9480555555556, 644.134...  train          23  \n",
       "1583811  [711.3533333333334, 665.9480555555556, 644.133...  train          23  \n",
       "1583812  [711.2280555555556, 665.8227777777778, 644.008...  train          23  \n",
       "1583813  [711.2280555555556, 665.8227777777778, 644.008...  train          23  \n",
       "1583814             [665.8227777777778, 69.93166666666667]  train          23  \n",
       "\n",
       "[1583815 rows x 7 columns]"
      ]
     },
     "execution_count": 15,
     "metadata": {},
     "output_type": "execute_result"
    }
   ],
   "source": [
    "sessionized_df_overall"
   ]
  },
  {
   "cell_type": "markdown",
   "metadata": {},
   "source": [
    "There is one difficulty with the current setup: session IDs are duplicate, i.e. each user's first session has ID 0, and so a session ID is not unique globally. This makes sense, because the concept behind sessions is that they should always be relative to/in connection with a certain user. However, sometimes we need to group by session. For this case, we introduce a globally unique session identifier as part of the dataset. Is consists of `set_userId_session_id` and uniquely describes one session in a specific subset of the data. If we would have left out the set-part, there would be a problem that the combination of user and sessionID can be duplicate across sets and thus does not globally describe a single unique session."
   ]
  },
  {
   "cell_type": "code",
   "execution_count": 110,
   "metadata": {},
   "outputs": [
    {
     "data": {
      "text/html": [
       "<div>\n",
       "<style scoped>\n",
       "    .dataframe tbody tr th:only-of-type {\n",
       "        vertical-align: middle;\n",
       "    }\n",
       "\n",
       "    .dataframe tbody tr th {\n",
       "        vertical-align: top;\n",
       "    }\n",
       "\n",
       "    .dataframe thead th {\n",
       "        text-align: right;\n",
       "    }\n",
       "</style>\n",
       "<table border=\"1\" class=\"dataframe\">\n",
       "  <thead>\n",
       "    <tr style=\"text-align: right;\">\n",
       "      <th></th>\n",
       "      <th>userId</th>\n",
       "      <th>itemId</th>\n",
       "      <th>timestamp</th>\n",
       "      <th>y</th>\n",
       "      <th>relational_interval</th>\n",
       "      <th>set</th>\n",
       "      <th>session_id</th>\n",
       "      <th>global_session_id</th>\n",
       "      <th>global_set_session_id</th>\n",
       "    </tr>\n",
       "  </thead>\n",
       "  <tbody>\n",
       "    <tr>\n",
       "      <th>0</th>\n",
       "      <td>0</td>\n",
       "      <td>0</td>\n",
       "      <td>0</td>\n",
       "      <td>0</td>\n",
       "      <td>[]</td>\n",
       "      <td>train</td>\n",
       "      <td>0</td>\n",
       "      <td>0_0</td>\n",
       "      <td>train_0_0</td>\n",
       "    </tr>\n",
       "    <tr>\n",
       "      <th>1</th>\n",
       "      <td>0</td>\n",
       "      <td>7</td>\n",
       "      <td>15690</td>\n",
       "      <td>0</td>\n",
       "      <td>[]</td>\n",
       "      <td>train</td>\n",
       "      <td>1</td>\n",
       "      <td>0_1</td>\n",
       "      <td>train_0_1</td>\n",
       "    </tr>\n",
       "    <tr>\n",
       "      <th>2</th>\n",
       "      <td>0</td>\n",
       "      <td>15</td>\n",
       "      <td>38426</td>\n",
       "      <td>0</td>\n",
       "      <td>[]</td>\n",
       "      <td>train</td>\n",
       "      <td>2</td>\n",
       "      <td>0_2</td>\n",
       "      <td>train_0_2</td>\n",
       "    </tr>\n",
       "    <tr>\n",
       "      <th>3</th>\n",
       "      <td>0</td>\n",
       "      <td>5</td>\n",
       "      <td>45670</td>\n",
       "      <td>1</td>\n",
       "      <td>[0.0]</td>\n",
       "      <td>train</td>\n",
       "      <td>3</td>\n",
       "      <td>0_3</td>\n",
       "      <td>train_0_3</td>\n",
       "    </tr>\n",
       "    <tr>\n",
       "      <th>4</th>\n",
       "      <td>0</td>\n",
       "      <td>20</td>\n",
       "      <td>77618</td>\n",
       "      <td>0</td>\n",
       "      <td>[]</td>\n",
       "      <td>train</td>\n",
       "      <td>4</td>\n",
       "      <td>0_4</td>\n",
       "      <td>train_0_4</td>\n",
       "    </tr>\n",
       "    <tr>\n",
       "      <th>...</th>\n",
       "      <td>...</td>\n",
       "      <td>...</td>\n",
       "      <td>...</td>\n",
       "      <td>...</td>\n",
       "      <td>...</td>\n",
       "      <td>...</td>\n",
       "      <td>...</td>\n",
       "      <td>...</td>\n",
       "      <td>...</td>\n",
       "    </tr>\n",
       "    <tr>\n",
       "      <th>1583810</th>\n",
       "      <td>3622</td>\n",
       "      <td>579</td>\n",
       "      <td>10398504</td>\n",
       "      <td>1</td>\n",
       "      <td>[711.3533333333334, 665.9480555555556, 644.134...</td>\n",
       "      <td>train</td>\n",
       "      <td>23</td>\n",
       "      <td>3622_23</td>\n",
       "      <td>train_3622_23</td>\n",
       "    </tr>\n",
       "    <tr>\n",
       "      <th>1583811</th>\n",
       "      <td>3622</td>\n",
       "      <td>590</td>\n",
       "      <td>10398803</td>\n",
       "      <td>0</td>\n",
       "      <td>[711.3533333333334, 665.9480555555556, 644.133...</td>\n",
       "      <td>train</td>\n",
       "      <td>23</td>\n",
       "      <td>3622_23</td>\n",
       "      <td>train_3622_23</td>\n",
       "    </tr>\n",
       "    <tr>\n",
       "      <th>1583812</th>\n",
       "      <td>3622</td>\n",
       "      <td>591</td>\n",
       "      <td>10398827</td>\n",
       "      <td>1</td>\n",
       "      <td>[711.2280555555556, 665.8227777777778, 644.008...</td>\n",
       "      <td>train</td>\n",
       "      <td>23</td>\n",
       "      <td>3622_23</td>\n",
       "      <td>train_3622_23</td>\n",
       "    </tr>\n",
       "    <tr>\n",
       "      <th>1583813</th>\n",
       "      <td>3622</td>\n",
       "      <td>592</td>\n",
       "      <td>10398988</td>\n",
       "      <td>1</td>\n",
       "      <td>[711.2280555555556, 665.8227777777778, 644.008...</td>\n",
       "      <td>train</td>\n",
       "      <td>23</td>\n",
       "      <td>3622_23</td>\n",
       "      <td>train_3622_23</td>\n",
       "    </tr>\n",
       "    <tr>\n",
       "      <th>1583814</th>\n",
       "      <td>3622</td>\n",
       "      <td>577</td>\n",
       "      <td>10399344</td>\n",
       "      <td>0</td>\n",
       "      <td>[665.8227777777778, 69.93166666666667]</td>\n",
       "      <td>train</td>\n",
       "      <td>23</td>\n",
       "      <td>3622_23</td>\n",
       "      <td>train_3622_23</td>\n",
       "    </tr>\n",
       "  </tbody>\n",
       "</table>\n",
       "<p>1583815 rows × 9 columns</p>\n",
       "</div>"
      ],
      "text/plain": [
       "         userId  itemId  timestamp  y  \\\n",
       "0             0       0          0  0   \n",
       "1             0       7      15690  0   \n",
       "2             0      15      38426  0   \n",
       "3             0       5      45670  1   \n",
       "4             0      20      77618  0   \n",
       "...         ...     ...        ... ..   \n",
       "1583810    3622     579   10398504  1   \n",
       "1583811    3622     590   10398803  0   \n",
       "1583812    3622     591   10398827  1   \n",
       "1583813    3622     592   10398988  1   \n",
       "1583814    3622     577   10399344  0   \n",
       "\n",
       "                                       relational_interval    set  session_id  \\\n",
       "0                                                       []  train           0   \n",
       "1                                                       []  train           1   \n",
       "2                                                       []  train           2   \n",
       "3                                                    [0.0]  train           3   \n",
       "4                                                       []  train           4   \n",
       "...                                                    ...    ...         ...   \n",
       "1583810  [711.3533333333334, 665.9480555555556, 644.134...  train          23   \n",
       "1583811  [711.3533333333334, 665.9480555555556, 644.133...  train          23   \n",
       "1583812  [711.2280555555556, 665.8227777777778, 644.008...  train          23   \n",
       "1583813  [711.2280555555556, 665.8227777777778, 644.008...  train          23   \n",
       "1583814             [665.8227777777778, 69.93166666666667]  train          23   \n",
       "\n",
       "        global_session_id global_set_session_id  \n",
       "0                     0_0             train_0_0  \n",
       "1                     0_1             train_0_1  \n",
       "2                     0_2             train_0_2  \n",
       "3                     0_3             train_0_3  \n",
       "4                     0_4             train_0_4  \n",
       "...                   ...                   ...  \n",
       "1583810           3622_23         train_3622_23  \n",
       "1583811           3622_23         train_3622_23  \n",
       "1583812           3622_23         train_3622_23  \n",
       "1583813           3622_23         train_3622_23  \n",
       "1583814           3622_23         train_3622_23  \n",
       "\n",
       "[1583815 rows x 9 columns]"
      ]
     },
     "execution_count": 110,
     "metadata": {},
     "output_type": "execute_result"
    }
   ],
   "source": [
    "# create global session id to account for the fact that while session id's are unique per user, they are not unique globally, each global session id exactly describes one user in a specific session and is not the same across multiple users\n",
    "sessionized_df_overall['global_set_session_id'] = sessionized_df_overall['set'].astype(str) + \"_\" + sessionized_df_overall['userId'].astype(str) + \"_\" + sessionized_df_overall['session_id'].astype(str)\n",
    "\n",
    "sessionized_df_overall"
   ]
  },
  {
   "cell_type": "markdown",
   "metadata": {},
   "source": [
    "##### **Totel number of sessions in the dataset**"
   ]
  },
  {
   "cell_type": "markdown",
   "metadata": {},
   "source": [
    "We first want to get an overall idea of the number of total sessions across users, to see if we get a feasible size."
   ]
  },
  {
   "cell_type": "code",
   "execution_count": 112,
   "metadata": {},
   "outputs": [
    {
     "name": "stdout",
     "output_type": "stream",
     "text": [
      "In total, the dataset consists of 405471 sessions.\n"
     ]
    }
   ],
   "source": [
    "# group number of sessions per user and sum them up to get total amount of sessions - this way, duplicate session IDs across users are permitted\n",
    "n_sessions_total = sessionized_df_overall.nunique()['global_set_session_id']\n",
    "\n",
    "print(f\"In total, the dataset consists of {n_sessions_total} sessions.\")"
   ]
  },
  {
   "cell_type": "markdown",
   "metadata": {},
   "source": [
    "##### **Average number of sessions per user, in total and per set**"
   ]
  },
  {
   "cell_type": "markdown",
   "metadata": {},
   "source": [
    "As a next step, we want a feasible amount of sessions on a user-basis as well, to see if we have enough sessions to model a user's behavior across them."
   ]
  },
  {
   "cell_type": "code",
   "execution_count": 17,
   "metadata": {},
   "outputs": [
    {
     "name": "stdout",
     "output_type": "stream",
     "text": [
      "On average, a user has 85.98 sessions.\n"
     ]
    }
   ],
   "source": [
    "# count id's across users and calculate average of that count across all users\n",
    "session_counts_user_overall = sessionized_df_overall.groupby('userId')['session_id'].nunique()\n",
    "\n",
    "avg_session_counts_user_overall = session_counts_user_overall.mean().round(2)\n",
    "\n",
    "print(f\"On average, a user has {avg_session_counts_user_overall} sessions.\")"
   ]
  },
  {
   "cell_type": "markdown",
   "metadata": {},
   "source": [
    "For this, we want to observe if there are outliers that have way more sessions, which could then be used to learn even more about a particular user's behavior. We visualize this using a boxplot."
   ]
  },
  {
   "cell_type": "code",
   "execution_count": 18,
   "metadata": {},
   "outputs": [
    {
     "data": {
      "image/png": "[encoded data removed]",
      "text/plain": [
       "<Figure size 1000x600 with 1 Axes>"
      ]
     },
     "metadata": {},
     "output_type": "display_data"
    }
   ],
   "source": [
    "plt.figure(figsize=(10, 6))\n",
    "sns.boxplot(x=session_counts_user_overall)\n",
    "plt.title('Distribution of Number of Sessions per User')\n",
    "plt.xlabel('n_sessions')\n",
    "plt.show()"
   ]
  },
  {
   "cell_type": "markdown",
   "metadata": {},
   "source": [
    "The following cell outputs the descriptive statistics of this boxplot."
   ]
  },
  {
   "cell_type": "code",
   "execution_count": 19,
   "metadata": {},
   "outputs": [
    {
     "name": "stdout",
     "output_type": "stream",
     "text": [
      "count    3623.000000\n",
      "mean       85.980955\n",
      "std        61.417347\n",
      "min        12.000000\n",
      "25%        40.000000\n",
      "50%        58.000000\n",
      "75%       122.000000\n",
      "max       432.000000\n",
      "Name: session_id, dtype: float64\n",
      "lw. whisker:  12.0\n",
      "up. whisker:  245.0\n"
     ]
    }
   ],
   "source": [
    "session_counts_per_user_overall_stats = session_counts_user_overall.describe()\n",
    "IQR = session_counts_per_user_overall_stats['75%'] - session_counts_per_user_overall_stats['25%']\n",
    "lower_whisker = max(session_counts_per_user_overall_stats['25%'] - 1.5 * IQR, session_counts_per_user_overall_stats['min'])\n",
    "upper_whisker = min(session_counts_per_user_overall_stats['75%'] + 1.5 * IQR, session_counts_per_user_overall_stats['max'])\n",
    "\n",
    "print(session_counts_per_user_overall_stats)\n",
    "print('lw. whisker: ', lower_whisker)\n",
    "print('up. whisker: ', upper_whisker)"
   ]
  },
  {
   "cell_type": "markdown",
   "metadata": {},
   "source": [
    "There is a wide spread to the data, with 25% of users having between 12 and 40 sessions, whereas the outliers range from having between 245 and 432 sessions per user. Now we further divide this up per set:"
   ]
  },
  {
   "cell_type": "code",
   "execution_count": 20,
   "metadata": {},
   "outputs": [
    {
     "name": "stdout",
     "output_type": "stream",
     "text": [
      "Per set, a user has on average the following number of sessions:\n"
     ]
    },
    {
     "data": {
      "text/html": [
       "<div>\n",
       "<style scoped>\n",
       "    .dataframe tbody tr th:only-of-type {\n",
       "        vertical-align: middle;\n",
       "    }\n",
       "\n",
       "    .dataframe tbody tr th {\n",
       "        vertical-align: top;\n",
       "    }\n",
       "\n",
       "    .dataframe thead th {\n",
       "        text-align: right;\n",
       "    }\n",
       "</style>\n",
       "<table border=\"1\" class=\"dataframe\">\n",
       "  <thead>\n",
       "    <tr style=\"text-align: right;\">\n",
       "      <th></th>\n",
       "      <th>set</th>\n",
       "      <th>n_sessions</th>\n",
       "    </tr>\n",
       "  </thead>\n",
       "  <tbody>\n",
       "    <tr>\n",
       "      <th>0</th>\n",
       "      <td>test</td>\n",
       "      <td>16.0</td>\n",
       "    </tr>\n",
       "    <tr>\n",
       "      <th>1</th>\n",
       "      <td>train</td>\n",
       "      <td>82.6</td>\n",
       "    </tr>\n",
       "    <tr>\n",
       "      <th>2</th>\n",
       "      <td>val</td>\n",
       "      <td>15.9</td>\n",
       "    </tr>\n",
       "  </tbody>\n",
       "</table>\n",
       "</div>"
      ],
      "text/plain": [
       "     set  n_sessions\n",
       "0   test        16.0\n",
       "1  train        82.6\n",
       "2    val        15.9"
      ]
     },
     "execution_count": 20,
     "metadata": {},
     "output_type": "execute_result"
    }
   ],
   "source": [
    "# count number of sessions per user per set\n",
    "session_counts = sessionized_df.groupby(['set', 'userId'])['session_id'].nunique()\n",
    "\n",
    "# averaging\n",
    "average_session_counts_per_set = session_counts.groupby(level='set').mean().round(1).reset_index(name='n_sessions')\n",
    "\n",
    "print(\"Per set, a user has on average the following number of sessions:\")\n",
    "average_session_counts_per_set"
   ]
  },
  {
   "cell_type": "markdown",
   "metadata": {},
   "source": [
    "We also want to observe how many interactions "
   ]
  },
  {
   "cell_type": "code",
   "execution_count": 105,
   "metadata": {},
   "outputs": [
    {
     "name": "stdout",
     "output_type": "stream",
     "text": [
      "On average, one user session has the following amounts of interactions wrt. y:\n"
     ]
    },
    {
     "data": {
      "text/html": [
       "<div>\n",
       "<style scoped>\n",
       "    .dataframe tbody tr th:only-of-type {\n",
       "        vertical-align: middle;\n",
       "    }\n",
       "\n",
       "    .dataframe tbody tr th {\n",
       "        vertical-align: top;\n",
       "    }\n",
       "\n",
       "    .dataframe thead th {\n",
       "        text-align: right;\n",
       "    }\n",
       "</style>\n",
       "<table border=\"1\" class=\"dataframe\">\n",
       "  <thead>\n",
       "    <tr style=\"text-align: right;\">\n",
       "      <th></th>\n",
       "      <th>set</th>\n",
       "      <th>y</th>\n",
       "      <th>n_interactions</th>\n",
       "    </tr>\n",
       "  </thead>\n",
       "  <tbody>\n",
       "    <tr>\n",
       "      <th>0</th>\n",
       "      <td>test</td>\n",
       "      <td>0</td>\n",
       "      <td>1.29</td>\n",
       "    </tr>\n",
       "    <tr>\n",
       "      <th>1</th>\n",
       "      <td>test</td>\n",
       "      <td>1</td>\n",
       "      <td>1.20</td>\n",
       "    </tr>\n",
       "    <tr>\n",
       "      <th>2</th>\n",
       "      <td>train</td>\n",
       "      <td>0</td>\n",
       "      <td>3.28</td>\n",
       "    </tr>\n",
       "    <tr>\n",
       "      <th>3</th>\n",
       "      <td>train</td>\n",
       "      <td>1</td>\n",
       "      <td>3.43</td>\n",
       "    </tr>\n",
       "    <tr>\n",
       "      <th>4</th>\n",
       "      <td>val</td>\n",
       "      <td>0</td>\n",
       "      <td>1.30</td>\n",
       "    </tr>\n",
       "    <tr>\n",
       "      <th>5</th>\n",
       "      <td>val</td>\n",
       "      <td>1</td>\n",
       "      <td>1.20</td>\n",
       "    </tr>\n",
       "  </tbody>\n",
       "</table>\n",
       "</div>"
      ],
      "text/plain": [
       "     set  y  n_interactions\n",
       "0   test  0            1.29\n",
       "1   test  1            1.20\n",
       "2  train  0            3.28\n",
       "3  train  1            3.43\n",
       "4    val  0            1.30\n",
       "5    val  1            1.20"
      ]
     },
     "execution_count": 105,
     "metadata": {},
     "output_type": "execute_result"
    }
   ],
   "source": [
    "interactions_per_session_count_y = sessionized_df.groupby(['set', 'userId', 'session_id', 'y']).size().reset_index(name='n_interactions')\n",
    "avg_interactions_per_session_y = interactions_per_session_count_y.groupby(['set', 'y'])['n_interactions'].mean().round(2).reset_index(name='n_interactions')\n",
    "\n",
    "print('On average, one user session has the following amounts of interactions wrt. y:')\n",
    "avg_interactions_per_session_y\n"
   ]
  },
  {
   "cell_type": "code",
   "execution_count": 104,
   "metadata": {},
   "outputs": [
    {
     "data": {
      "text/html": [
       "<div>\n",
       "<style scoped>\n",
       "    .dataframe tbody tr th:only-of-type {\n",
       "        vertical-align: middle;\n",
       "    }\n",
       "\n",
       "    .dataframe tbody tr th {\n",
       "        vertical-align: top;\n",
       "    }\n",
       "\n",
       "    .dataframe thead th {\n",
       "        text-align: right;\n",
       "    }\n",
       "</style>\n",
       "<table border=\"1\" class=\"dataframe\">\n",
       "  <thead>\n",
       "    <tr style=\"text-align: right;\">\n",
       "      <th></th>\n",
       "      <th>set</th>\n",
       "      <th>userId</th>\n",
       "      <th>session_id</th>\n",
       "      <th>n_interactions</th>\n",
       "    </tr>\n",
       "  </thead>\n",
       "  <tbody>\n",
       "    <tr>\n",
       "      <th>0</th>\n",
       "      <td>test</td>\n",
       "      <td>0</td>\n",
       "      <td>0</td>\n",
       "      <td>1</td>\n",
       "    </tr>\n",
       "    <tr>\n",
       "      <th>1</th>\n",
       "      <td>test</td>\n",
       "      <td>0</td>\n",
       "      <td>1</td>\n",
       "      <td>1</td>\n",
       "    </tr>\n",
       "    <tr>\n",
       "      <th>2</th>\n",
       "      <td>test</td>\n",
       "      <td>0</td>\n",
       "      <td>2</td>\n",
       "      <td>2</td>\n",
       "    </tr>\n",
       "    <tr>\n",
       "      <th>3</th>\n",
       "      <td>test</td>\n",
       "      <td>0</td>\n",
       "      <td>3</td>\n",
       "      <td>1</td>\n",
       "    </tr>\n",
       "    <tr>\n",
       "      <th>4</th>\n",
       "      <td>test</td>\n",
       "      <td>0</td>\n",
       "      <td>4</td>\n",
       "      <td>1</td>\n",
       "    </tr>\n",
       "    <tr>\n",
       "      <th>...</th>\n",
       "      <td>...</td>\n",
       "      <td>...</td>\n",
       "      <td>...</td>\n",
       "      <td>...</td>\n",
       "    </tr>\n",
       "    <tr>\n",
       "      <th>414415</th>\n",
       "      <td>val</td>\n",
       "      <td>3622</td>\n",
       "      <td>18</td>\n",
       "      <td>1</td>\n",
       "    </tr>\n",
       "    <tr>\n",
       "      <th>414416</th>\n",
       "      <td>val</td>\n",
       "      <td>3622</td>\n",
       "      <td>19</td>\n",
       "      <td>1</td>\n",
       "    </tr>\n",
       "    <tr>\n",
       "      <th>414417</th>\n",
       "      <td>val</td>\n",
       "      <td>3622</td>\n",
       "      <td>20</td>\n",
       "      <td>1</td>\n",
       "    </tr>\n",
       "    <tr>\n",
       "      <th>414418</th>\n",
       "      <td>val</td>\n",
       "      <td>3622</td>\n",
       "      <td>21</td>\n",
       "      <td>1</td>\n",
       "    </tr>\n",
       "    <tr>\n",
       "      <th>414419</th>\n",
       "      <td>val</td>\n",
       "      <td>3622</td>\n",
       "      <td>22</td>\n",
       "      <td>1</td>\n",
       "    </tr>\n",
       "  </tbody>\n",
       "</table>\n",
       "<p>414420 rows × 4 columns</p>\n",
       "</div>"
      ],
      "text/plain": [
       "         set  userId  session_id  n_interactions\n",
       "0       test       0           0               1\n",
       "1       test       0           1               1\n",
       "2       test       0           2               2\n",
       "3       test       0           3               1\n",
       "4       test       0           4               1\n",
       "...      ...     ...         ...             ...\n",
       "414415   val    3622          18               1\n",
       "414416   val    3622          19               1\n",
       "414417   val    3622          20               1\n",
       "414418   val    3622          21               1\n",
       "414419   val    3622          22               1\n",
       "\n",
       "[414420 rows x 4 columns]"
      ]
     },
     "execution_count": 104,
     "metadata": {},
     "output_type": "execute_result"
    }
   ],
   "source": [
    "interactions_per_session_count = sessionized_df.groupby(['set', 'userId', 'session_id']).size().reset_index(name='n_interactions')\n",
    "avg_interactions_per_session = interactions_per_session_count"
   ]
  },
  {
   "cell_type": "markdown",
   "metadata": {},
   "source": [
    "We see that the training set approximates well the overall average, and test and validation set have pretty similar numbers due to their similar size. "
   ]
  },
  {
   "cell_type": "code",
   "execution_count": 21,
   "metadata": {},
   "outputs": [
    {
     "name": "stdout",
     "output_type": "stream",
     "text": [
      "On average, each item appears in 1341.8 sessions across all users.\n"
     ]
    }
   ],
   "source": [
    "# group by itemId and count the sessions for each item\n",
    "item_sessions_count = sessionized_df_overall.groupby('itemId')['global_session_id'].nunique()\n",
    "\n",
    "# average sessions per item\n",
    "avg_sessions_per_item = item_sessions_count.mean().round(1)\n",
    "\n",
    "print(f\"On average, each item appears in {avg_sessions_per_item} sessions across all users.\")\n"
   ]
  },
  {
   "cell_type": "code",
   "execution_count": 22,
   "metadata": {},
   "outputs": [
    {
     "name": "stdout",
     "output_type": "stream",
     "text": [
      "On average, for each set, each item appears in the following number of sessions:\n"
     ]
    },
    {
     "data": {
      "text/html": [
       "<div>\n",
       "<style scoped>\n",
       "    .dataframe tbody tr th:only-of-type {\n",
       "        vertical-align: middle;\n",
       "    }\n",
       "\n",
       "    .dataframe tbody tr th {\n",
       "        vertical-align: top;\n",
       "    }\n",
       "\n",
       "    .dataframe thead th {\n",
       "        text-align: right;\n",
       "    }\n",
       "</style>\n",
       "<table border=\"1\" class=\"dataframe\">\n",
       "  <thead>\n",
       "    <tr style=\"text-align: right;\">\n",
       "      <th></th>\n",
       "      <th>set</th>\n",
       "      <th>n_sessions</th>\n",
       "    </tr>\n",
       "  </thead>\n",
       "  <tbody>\n",
       "    <tr>\n",
       "      <th>0</th>\n",
       "      <td>test</td>\n",
       "      <td>74.1</td>\n",
       "    </tr>\n",
       "    <tr>\n",
       "      <th>1</th>\n",
       "      <td>train</td>\n",
       "      <td>1203.0</td>\n",
       "    </tr>\n",
       "    <tr>\n",
       "      <th>2</th>\n",
       "      <td>val</td>\n",
       "      <td>74.4</td>\n",
       "    </tr>\n",
       "  </tbody>\n",
       "</table>\n",
       "</div>"
      ],
      "text/plain": [
       "     set  n_sessions\n",
       "0   test        74.1\n",
       "1  train      1203.0\n",
       "2    val        74.4"
      ]
     },
     "execution_count": 22,
     "metadata": {},
     "output_type": "execute_result"
    }
   ],
   "source": [
    "# each global_set_session_id describes one user in a specific session in a specific set\n",
    "sessionized_df_overall['global_set_session_id'] = sessionized_df_overall['set'].astype(str) + \"_\" + sessionized_df_overall['userId'].astype(str) + sessionized_df_overall['session_id'].astype(str)\n",
    "\n",
    "# group by itemid, then by set, and count sessions\n",
    "item_session_count_per_set = sessionized_df_overall.groupby(['itemId', 'set'])['global_set_session_id'].nunique()\n",
    "\n",
    "avg_item_session_count_per_set = item_session_count_per_set.groupby(level='set').mean().round(1).reset_index(name='n_sessions')\n",
    "\n",
    "print(\"On average, for each set, each item appears in the following number of sessions:\")\n",
    "\n",
    "avg_item_session_count_per_set"
   ]
  },
  {
   "cell_type": "markdown",
   "metadata": {},
   "source": [
    "##### **Intra-, and Inter-session repetition rate**"
   ]
  },
  {
   "cell_type": "code",
   "execution_count": 23,
   "metadata": {},
   "outputs": [
    {
     "data": {
      "text/plain": [
       "' file_path_testdata = \\'./data/testdata.csv\\' # adjust as needed\\ndf_testdata = pd.read_csv(file_path_testdata)\\n\\n#sessionized\\nsessionized_testdata = df_testdata.groupby([\\'userId\\']).apply(detect_sessions).reset_index(drop=True)\\n\\n#globally sessionized\\nsessionized_testdata[\\'global_session_id\\'] = sessionized_testdata[\\'userId\\'].astype(str) + \"_\" + sessionized_testdata[\\'session_id\\'].astype(str)\\n\\nsessionized_testdata '"
      ]
     },
     "execution_count": 23,
     "metadata": {},
     "output_type": "execute_result"
    }
   ],
   "source": [
    "#just for testing purposes\n",
    "\"\"\" file_path_testdata = './data/testdata.csv' # adjust as needed\n",
    "df_testdata = pd.read_csv(file_path_testdata)\n",
    "\n",
    "#sessionized\n",
    "sessionized_testdata = df_testdata.groupby(['userId']).apply(detect_sessions).reset_index(drop=True)\n",
    "\n",
    "#globally sessionized\n",
    "sessionized_testdata['global_session_id'] = sessionized_testdata['userId'].astype(str) + \"_\" + sessionized_testdata['session_id'].astype(str)\n",
    "\n",
    "sessionized_testdata \"\"\""
   ]
  },
  {
   "cell_type": "code",
   "execution_count": 24,
   "metadata": {},
   "outputs": [],
   "source": [
    "# INTRA rep avg\n",
    "reps_per_item_per_session_intra = sessionized_df_overall.groupby(['userId', 'itemId', 'global_session_id']).size().reset_index(name='n_reps')\n",
    "#reps_per_item_per_session_intra\n",
    "\n",
    "reps_per_session = reps_per_item_per_session_intra.groupby('global_session_id')['n_reps'].sum().reset_index(name='n_reps')\n",
    "#reps_per_session"
   ]
  },
  {
   "cell_type": "code",
   "execution_count": 25,
   "metadata": {},
   "outputs": [
    {
     "data": {
      "text/plain": [
       "5.08433143183664"
      ]
     },
     "execution_count": 25,
     "metadata": {},
     "output_type": "execute_result"
    }
   ],
   "source": [
    "intra_session_rep_rate = reps_per_session['n_reps'].mean()\n",
    "intra_session_rep_rate"
   ]
  },
  {
   "cell_type": "code",
   "execution_count": 26,
   "metadata": {},
   "outputs": [],
   "source": [
    "# INTRA rate per set\n",
    "reps_per_item_per_session_intra_per_set = sessionized_df_overall.groupby(['set', 'userId', 'itemId', 'global_session_id']).size().reset_index(name='n_reps')\n",
    "#reps_per_item_per_session_intra_per_set\n",
    "\n",
    "reps_per_session_per_set = reps_per_item_per_session_intra_per_set.groupby(['set', 'global_session_id'])['n_reps'].sum().reset_index(name='n_reps')\n",
    "#reps_per_session_per_set"
   ]
  },
  {
   "cell_type": "code",
   "execution_count": 27,
   "metadata": {},
   "outputs": [
    {
     "data": {
      "text/html": [
       "<div>\n",
       "<style scoped>\n",
       "    .dataframe tbody tr th:only-of-type {\n",
       "        vertical-align: middle;\n",
       "    }\n",
       "\n",
       "    .dataframe tbody tr th {\n",
       "        vertical-align: top;\n",
       "    }\n",
       "\n",
       "    .dataframe thead th {\n",
       "        text-align: right;\n",
       "    }\n",
       "</style>\n",
       "<table border=\"1\" class=\"dataframe\">\n",
       "  <thead>\n",
       "    <tr style=\"text-align: right;\">\n",
       "      <th></th>\n",
       "      <th>set</th>\n",
       "      <th>mean_reps</th>\n",
       "    </tr>\n",
       "  </thead>\n",
       "  <tbody>\n",
       "    <tr>\n",
       "      <th>0</th>\n",
       "      <td>test</td>\n",
       "      <td>1.474155</td>\n",
       "    </tr>\n",
       "    <tr>\n",
       "      <th>1</th>\n",
       "      <td>train</td>\n",
       "      <td>4.790931</td>\n",
       "    </tr>\n",
       "    <tr>\n",
       "      <th>2</th>\n",
       "      <td>val</td>\n",
       "      <td>1.479704</td>\n",
       "    </tr>\n",
       "  </tbody>\n",
       "</table>\n",
       "</div>"
      ],
      "text/plain": [
       "     set  mean_reps\n",
       "0   test   1.474155\n",
       "1  train   4.790931\n",
       "2    val   1.479704"
      ]
     },
     "execution_count": 27,
     "metadata": {},
     "output_type": "execute_result"
    }
   ],
   "source": [
    "intra_session_rep_rate_per_set = reps_per_session_per_set.groupby('set')['n_reps'].mean().reset_index(name='mean_reps')\n",
    "intra_session_rep_rate_per_set"
   ]
  },
  {
   "cell_type": "code",
   "execution_count": 28,
   "metadata": {},
   "outputs": [],
   "source": [
    "# INTER rep avg\n",
    "reps_per_item_per_session_inter = sessionized_df_overall.groupby(['userId', 'itemId', 'global_session_id']).size().reset_index(name='reps')\n",
    "#reps_per_item_per_session_inter\n",
    "\n",
    "reps_per_user_across_sessions = reps_per_item_per_session_inter.groupby('userId')['reps'].sum().reset_index(name='reps')\n",
    "#reps_per_user_across_sessions"
   ]
  },
  {
   "cell_type": "code",
   "execution_count": 29,
   "metadata": {},
   "outputs": [
    {
     "data": {
      "text/plain": [
       "437.16"
      ]
     },
     "execution_count": 29,
     "metadata": {},
     "output_type": "execute_result"
    }
   ],
   "source": [
    "inter_session_rep_rate = reps_per_user_across_sessions['reps'].mean().round(2)\n",
    "inter_session_rep_rate"
   ]
  },
  {
   "cell_type": "code",
   "execution_count": 30,
   "metadata": {},
   "outputs": [],
   "source": [
    "#INTER rate per set\n",
    "reps_per_item_per_session_inter_per_set = sessionized_df_overall.groupby(['set', 'userId', 'itemId', 'global_session_id']).size().reset_index(name='reps')\n",
    "#reps_per_item_per_session_inter_per_set\n",
    "\n",
    "reps_per_user_across_sessions_per_set = reps_per_item_per_session_inter_per_set.groupby(['set', 'userId'])['reps'].sum().reset_index(name='reps')\n",
    "#reps_per_user_across_sessions_per_set"
   ]
  },
  {
   "cell_type": "code",
   "execution_count": 31,
   "metadata": {},
   "outputs": [
    {
     "data": {
      "text/html": [
       "<div>\n",
       "<style scoped>\n",
       "    .dataframe tbody tr th:only-of-type {\n",
       "        vertical-align: middle;\n",
       "    }\n",
       "\n",
       "    .dataframe tbody tr th {\n",
       "        vertical-align: top;\n",
       "    }\n",
       "\n",
       "    .dataframe thead th {\n",
       "        text-align: right;\n",
       "    }\n",
       "</style>\n",
       "<table border=\"1\" class=\"dataframe\">\n",
       "  <thead>\n",
       "    <tr style=\"text-align: right;\">\n",
       "      <th></th>\n",
       "      <th>set</th>\n",
       "      <th>mean_reps</th>\n",
       "    </tr>\n",
       "  </thead>\n",
       "  <tbody>\n",
       "    <tr>\n",
       "      <th>0</th>\n",
       "      <td>test</td>\n",
       "      <td>22.13</td>\n",
       "    </tr>\n",
       "    <tr>\n",
       "      <th>1</th>\n",
       "      <td>train</td>\n",
       "      <td>393.02</td>\n",
       "    </tr>\n",
       "    <tr>\n",
       "      <th>2</th>\n",
       "      <td>val</td>\n",
       "      <td>22.00</td>\n",
       "    </tr>\n",
       "  </tbody>\n",
       "</table>\n",
       "</div>"
      ],
      "text/plain": [
       "     set  mean_reps\n",
       "0   test      22.13\n",
       "1  train     393.02\n",
       "2    val      22.00"
      ]
     },
     "execution_count": 31,
     "metadata": {},
     "output_type": "execute_result"
    }
   ],
   "source": [
    "inter_session_rep_rate_per_set = reps_per_user_across_sessions_per_set.groupby('set')['reps'].mean().round(2).reset_index(name='mean_reps')\n",
    "inter_session_rep_rate_per_set"
   ]
  },
  {
   "cell_type": "code",
   "execution_count": 32,
   "metadata": {},
   "outputs": [],
   "source": [
    "#avg length per SINGLE user session "
   ]
  },
  {
   "cell_type": "code",
   "execution_count": 33,
   "metadata": {},
   "outputs": [],
   "source": [
    "#avg number of interactions per SINGLE user session"
   ]
  },
  {
   "cell_type": "markdown",
   "metadata": {},
   "source": [
    "•\tTotal count of user-item interactions per set -> DONE\n",
    "•\tAverage count of user-item interactions per user -> DONE\n",
    "•\tAverage count of user-item interactions per user per set -> DONE\n",
    "•\tAverage count of user-item interactions per item -> DONE\n",
    "•\tAverage count of user-item interactions per item per set -> DONE\n",
    "•\tHow many repetitions on average per user -> DONE\n",
    "Session-based measures\n",
    "•\tTotal number of sessions -> DONE\n",
    "•\tAverage amount of sessions per user -> DONE\n",
    "•\tAverage amount of sessions per user, per set -> DONE\n",
    "•\tAverage amount of sessions an item is in -> DONE\n",
    "•\tAverage amount of sessions an item is in, per session -> DONE\n",
    "•\tHow many repetitions per user-session -> INTRA SESSION -> DONE\n",
    "•\tHow many repetitions per user across sessions -> INTER SESSION -> DONE\n",
    "•\tAverage length of user-session (timestamp)\n",
    "•\tAverage number of interactions within one user session"
   ]
  },
  {
   "cell_type": "markdown",
   "metadata": {},
   "source": [
    "## References\n",
    "\n",
    "[a] Session-aware recommendation paper\n",
    "\n",
    "[b] Ex2Vec paper\n",
    "\n",
    "[c] GRU4Rec paper"
   ]
  }
 ],
 "metadata": {
  "kernelspec": {
   "display_name": "Python (supervised)",
   "language": "python",
   "name": "supervised"
  },
  "language_info": {
   "codemirror_mode": {
    "name": "ipython",
    "version": 3
   },
   "file_extension": ".py",
   "mimetype": "text/x-python",
   "name": "python",
   "nbconvert_exporter": "python",
   "pygments_lexer": "ipython3",
   "version": "3.10.11"
  }
 },
 "nbformat": 4,
 "nbformat_minor": 2
}
